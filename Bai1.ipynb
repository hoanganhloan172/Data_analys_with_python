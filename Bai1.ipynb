{
  "nbformat": 4,
  "nbformat_minor": 0,
  "metadata": {
    "colab": {
      "provenance": [],
      "authorship_tag": "ABX9TyMwcQlfBCBoFJ4HwUYlsRWV",
      "include_colab_link": true
    },
    "kernelspec": {
      "name": "python3",
      "display_name": "Python 3"
    },
    "language_info": {
      "name": "python"
    }
  },
  "cells": [
    {
      "cell_type": "markdown",
      "metadata": {
        "id": "view-in-github",
        "colab_type": "text"
      },
      "source": [
        "<a href=\"https://colab.research.google.com/github/hoanganhloan172/Data_analys_with_python/blob/main/Bai1.ipynb\" target=\"_parent\"><img src=\"https://colab.research.google.com/assets/colab-badge.svg\" alt=\"Open In Colab\"/></a>"
      ]
    },
    {
      "cell_type": "code",
      "execution_count": 2,
      "metadata": {
        "colab": {
          "base_uri": "https://localhost:8080/"
        },
        "id": "RC4FB1wqkiNn",
        "outputId": "d6b59135-7abb-4fed-96fb-6f23d95a466f"
      },
      "outputs": [
        {
          "output_type": "stream",
          "name": "stdout",
          "text": [
            "Tên bạn là gì?Hoàng Anh\n",
            "Xin chào bạn Hoàng Anh !\n"
          ]
        }
      ],
      "source": [
        "name = input(\"Tên bạn là gì?\")\n",
        "print(\"Xin chào bạn \" + name + \" !\")"
      ]
    },
    {
      "cell_type": "code",
      "source": [
        "age = input(\"Bạn bao nhiêu tuổi?\")\n",
        "print(\"Ồ, bạn đã \" + age +\" tuổi rồi\")"
      ],
      "metadata": {
        "colab": {
          "base_uri": "https://localhost:8080/"
        },
        "id": "Iepd_D_7oKdg",
        "outputId": "3cd1c955-21fa-4021-b25f-423fa52b4594"
      },
      "execution_count": 6,
      "outputs": [
        {
          "output_type": "stream",
          "name": "stdout",
          "text": [
            "Bạn bao nhiêu tuổi?18\n",
            "Ồ, bạn đã 18 tuổi rồi\n"
          ]
        }
      ]
    },
    {
      "cell_type": "code",
      "source": [
        "age = int(input(\"Bạn bao nhiêu tuổi?\"))\n",
        "print(\"Ồ, bạn đã %d tuổi rồi %d\" %(age, age))"
      ],
      "metadata": {
        "colab": {
          "base_uri": "https://localhost:8080/"
        },
        "id": "aY4N9jQvok8Q",
        "outputId": "8c6ea758-abab-4901-a394-d95918eab930"
      },
      "execution_count": 17,
      "outputs": [
        {
          "output_type": "stream",
          "name": "stdout",
          "text": [
            "Bạn bao nhiêu tuổi?3232\n",
            "Ồ, bạn đã 3232 tuổi rồi 3232\n"
          ]
        }
      ]
    },
    {
      "cell_type": "code",
      "source": [
        "A = 3 + 2j\n",
        "print(A)"
      ],
      "metadata": {
        "colab": {
          "base_uri": "https://localhost:8080/"
        },
        "id": "9p2KefwZp3_q",
        "outputId": "e7d139eb-32db-433d-cdd5-bde76bc26757"
      },
      "execution_count": 18,
      "outputs": [
        {
          "output_type": "stream",
          "name": "stdout",
          "text": [
            "(3+2j)\n"
          ]
        }
      ]
    },
    {
      "cell_type": "code",
      "source": [
        "1 in [2, 3, 4]"
      ],
      "metadata": {
        "colab": {
          "base_uri": "https://localhost:8080/"
        },
        "id": "srXfhZx7qYlg",
        "outputId": "5affd396-bde0-494d-f7fc-e9477deac9dd"
      },
      "execution_count": 19,
      "outputs": [
        {
          "output_type": "execute_result",
          "data": {
            "text/plain": [
              "False"
            ]
          },
          "metadata": {},
          "execution_count": 19
        }
      ]
    },
    {
      "cell_type": "code",
      "source": [
        "number = 123\n",
        "decimal_string = str(number)\n",
        "print(\"Số nguyên ở hệ thập phân: \", decimal_string)\n"
      ],
      "metadata": {
        "colab": {
          "base_uri": "https://localhost:8080/"
        },
        "id": "glKedA16rPJI",
        "outputId": "440c3b8e-1cf4-4872-ea44-cc5f99b810a6"
      },
      "execution_count": 20,
      "outputs": [
        {
          "output_type": "stream",
          "name": "stdout",
          "text": [
            "Số nguyên ở hệ thập phân:  123\n"
          ]
        }
      ]
    },
    {
      "cell_type": "code",
      "source": [
        "#giải phương trình bậc 2\n",
        "a = float(input(\"A = \"))\n",
        "b = float(input(\"B = \"))\n",
        "c = float(input(\"C = \"))\n",
        "delta = b*b - 4*a*c\n",
        "\n",
        "if delta == 0:\n",
        "  print(\"Phương trình có nghiệm kép: x = \", str(-b/2/a))\n",
        "if delta < 0:\n",
        "  print(\"Phương trình vô nghiệm\")\n",
        "if delta > 0:\n",
        "  print(\"x1 = \" + str((-b+delta *0.5)/2/a))\n",
        "  print(\"x2 = \" + str((-b - delta *0.5)/2/a))"
      ],
      "metadata": {
        "colab": {
          "base_uri": "https://localhost:8080/"
        },
        "id": "IZ-tQBoorTFp",
        "outputId": "a1e39693-79ac-42d1-da73-a425056c4f20"
      },
      "execution_count": 29,
      "outputs": [
        {
          "output_type": "stream",
          "name": "stdout",
          "text": [
            "A = 2\n",
            "B = -7\n",
            "C = 3\n",
            "x1 =  4.875\n",
            "x2 =  -1.375\n"
          ]
        }
      ]
    }
  ]
}