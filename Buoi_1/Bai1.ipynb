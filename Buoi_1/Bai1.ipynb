{
  "nbformat": 4,
  "nbformat_minor": 0,
  "metadata": {
    "colab": {
      "provenance": [],
      "authorship_tag": "ABX9TyM+XeSV7n4vpo40e6Yk7c3T",
      "include_colab_link": true
    },
    "kernelspec": {
      "name": "python3",
      "display_name": "Python 3"
    },
    "language_info": {
      "name": "python"
    }
  },
  "cells": [
    {
      "cell_type": "markdown",
      "metadata": {
        "id": "view-in-github",
        "colab_type": "text"
      },
      "source": [
        "<a href=\"https://colab.research.google.com/github/hoanganhloan172/Data_analys_with_python/blob/main/Buoi_1/Bai1.ipynb\" target=\"_parent\"><img src=\"https://colab.research.google.com/assets/colab-badge.svg\" alt=\"Open In Colab\"/></a>"
      ]
    },
    {
      "cell_type": "code",
      "execution_count": null,
      "metadata": {
        "colab": {
          "base_uri": "https://localhost:8080/"
        },
        "id": "RC4FB1wqkiNn",
        "outputId": "d6b59135-7abb-4fed-96fb-6f23d95a466f"
      },
      "outputs": [
        {
          "output_type": "stream",
          "name": "stdout",
          "text": [
            "Tên bạn là gì?Hoàng Anh\n",
            "Xin chào bạn Hoàng Anh !\n"
          ]
        }
      ],
      "source": [
        "name = input(\"Tên bạn là gì?\")\n",
        "print(\"Xin chào bạn \" + name + \" !\")"
      ]
    },
    {
      "cell_type": "code",
      "source": [
        "age = input(\"Bạn bao nhiêu tuổi?\")\n",
        "print(\"Ồ, bạn đã \" + age +\" tuổi rồi\")"
      ],
      "metadata": {
        "colab": {
          "base_uri": "https://localhost:8080/"
        },
        "id": "Iepd_D_7oKdg",
        "outputId": "3cd1c955-21fa-4021-b25f-423fa52b4594"
      },
      "execution_count": null,
      "outputs": [
        {
          "output_type": "stream",
          "name": "stdout",
          "text": [
            "Bạn bao nhiêu tuổi?18\n",
            "Ồ, bạn đã 18 tuổi rồi\n"
          ]
        }
      ]
    },
    {
      "cell_type": "code",
      "source": [
        "age = int(input(\"Bạn bao nhiêu tuổi?\"))\n",
        "print(\"Ồ, bạn đã %d tuổi rồi %d\" %(age, age))"
      ],
      "metadata": {
        "colab": {
          "base_uri": "https://localhost:8080/"
        },
        "id": "aY4N9jQvok8Q",
        "outputId": "8c6ea758-abab-4901-a394-d95918eab930"
      },
      "execution_count": null,
      "outputs": [
        {
          "output_type": "stream",
          "name": "stdout",
          "text": [
            "Bạn bao nhiêu tuổi?3232\n",
            "Ồ, bạn đã 3232 tuổi rồi 3232\n"
          ]
        }
      ]
    },
    {
      "cell_type": "code",
      "source": [
        "A = 3 + 2j\n",
        "print(A)"
      ],
      "metadata": {
        "colab": {
          "base_uri": "https://localhost:8080/"
        },
        "id": "9p2KefwZp3_q",
        "outputId": "e7d139eb-32db-433d-cdd5-bde76bc26757"
      },
      "execution_count": null,
      "outputs": [
        {
          "output_type": "stream",
          "name": "stdout",
          "text": [
            "(3+2j)\n"
          ]
        }
      ]
    },
    {
      "cell_type": "code",
      "source": [
        "1 in [2, 3, 4]"
      ],
      "metadata": {
        "colab": {
          "base_uri": "https://localhost:8080/"
        },
        "id": "srXfhZx7qYlg",
        "outputId": "5affd396-bde0-494d-f7fc-e9477deac9dd"
      },
      "execution_count": null,
      "outputs": [
        {
          "output_type": "execute_result",
          "data": {
            "text/plain": [
              "False"
            ]
          },
          "metadata": {},
          "execution_count": 19
        }
      ]
    },
    {
      "cell_type": "code",
      "source": [
        "number = 123\n",
        "decimal_string = str(number)\n",
        "print(\"Số nguyên ở hệ thập phân: \", decimal_string)\n"
      ],
      "metadata": {
        "colab": {
          "base_uri": "https://localhost:8080/"
        },
        "id": "glKedA16rPJI",
        "outputId": "440c3b8e-1cf4-4872-ea44-cc5f99b810a6"
      },
      "execution_count": null,
      "outputs": [
        {
          "output_type": "stream",
          "name": "stdout",
          "text": [
            "Số nguyên ở hệ thập phân:  123\n"
          ]
        }
      ]
    },
    {
      "cell_type": "code",
      "source": [
        "#giải phương trình bậc 2\n",
        "a = float(input(\"A = \"))\n",
        "b = float(input(\"B = \"))\n",
        "c = float(input(\"C = \"))\n",
        "delta = b*b - 4*a*c\n",
        "\n",
        "if delta == 0:\n",
        "  print(\"Phương trình có nghiệm kép: x = \", str(-b/2/a))\n",
        "if delta < 0:\n",
        "  print(\"Phương trình vô nghiệm\")\n",
        "if delta > 0:\n",
        "  print(\"x1 = \" + str((-b+delta *0.5)/2/a))\n",
        "  print(\"x2 = \" + str((-b - delta *0.5)/2/a))"
      ],
      "metadata": {
        "colab": {
          "base_uri": "https://localhost:8080/"
        },
        "id": "IZ-tQBoorTFp",
        "outputId": "a1e39693-79ac-42d1-da73-a425056c4f20"
      },
      "execution_count": null,
      "outputs": [
        {
          "output_type": "stream",
          "name": "stdout",
          "text": [
            "A = 2\n",
            "B = -7\n",
            "C = 3\n",
            "x1 =  4.875\n",
            "x2 =  -1.375\n"
          ]
        }
      ]
    },
    {
      "cell_type": "code",
      "source": [
        "def giaithua(n):\n",
        "  gt = 1\n",
        "  for i in range(2, n+1):\n",
        "    gt = gt*i\n",
        "  return gt\n",
        "a = int(input(\"Nhap gia tri cua n: \"))\n",
        "print(\"N! = \", giaithua(a))"
      ],
      "metadata": {
        "colab": {
          "base_uri": "https://localhost:8080/"
        },
        "id": "HpbD4xdHeq6y",
        "outputId": "ee6406fc-9f63-4eb3-92bf-287f399ed753"
      },
      "execution_count": 3,
      "outputs": [
        {
          "output_type": "stream",
          "name": "stdout",
          "text": [
            "Nhap gia tri cua n: 5\n",
            "N! =  120\n"
          ]
        }
      ]
    },
    {
      "cell_type": "code",
      "source": [
        "#Bài 2:\n",
        "P = int(input(\"Nhập số tiền gốc mà bạn có: \"))\n",
        "r = float(input(\"Nhập số phần trăm lãi hàng năm mà bạn nhận được: \"))\n",
        "n = int(input(\"Nhập số năm bạn gửi: \"))\n",
        "A = float(P*(1+(r/100)*n))\n",
        "print(\"Số tiền lãi bạn nhận được sau %d năm là: %.02f\" %(n, A))\n",
        "a = int(input(\"Số tiền mà bạn kì vọng sẽ nhận được là: \"))\n",
        "t = float((((a/P)-1)/r)*100)\n",
        "print(\"Thời gian để bạn nhận được số tiền kì vọng là: %f\" %t)"
      ],
      "metadata": {
        "colab": {
          "base_uri": "https://localhost:8080/"
        },
        "id": "Asd_-ZfDiHYl",
        "outputId": "4337a190-f651-49c4-daf2-ee2d9e311ce4"
      },
      "execution_count": 14,
      "outputs": [
        {
          "output_type": "stream",
          "name": "stdout",
          "text": [
            "Nhập số tiền gốc mà bạn có: 10000000\n",
            "Nhập số phần trăm lãi hàng năm mà bạn nhận được: 5.1\n",
            "Nhập số năm bạn gửi: 10\n",
            "Số tiền lãi bạn nhận được sau 10 năm là: 15100000.00\n",
            "Số tiền mà bạn kì vọng sẽ nhận được là: 50000000\n",
            "Thời gian để bạn nhận được số tiền kì vọng là: 78.431373\n"
          ]
        }
      ]
    },
    {
      "cell_type": "code",
      "source": [
        "#Bài 3:\n",
        "n = int(input(\"Nhập số nguyên n: \"))\n",
        "print(\"Hệ cơ số 16: \", hex(n))\n",
        "print(\"Hệ cơ số 8: \", oct(n))\n",
        "print(\"Hệ cơ số 2: \", bin(n))"
      ],
      "metadata": {
        "colab": {
          "base_uri": "https://localhost:8080/"
        },
        "id": "YUohE-bpnM9M",
        "outputId": "82998450-73d2-477d-e105-ce85db002edc"
      },
      "execution_count": 15,
      "outputs": [
        {
          "output_type": "stream",
          "name": "stdout",
          "text": [
            "Nhập số nguyên n: 16\n",
            "Hệ cơ số 16:  0x10\n",
            "Hệ cơ số 8:  0o20\n",
            "Hệ cơ số 2:  0b10000\n"
          ]
        }
      ]
    },
    {
      "cell_type": "code",
      "source": [
        "#Bài 4:\n",
        "a = int(input(\"Nhập số nguyên a: \"))\n",
        "b = int(input(\"Nhập số nguyên b: \"))\n",
        "c = float(pow(a, 1/b))\n",
        "print(\"Căn bậc %d của %d là: %f\" %(b,a, c))"
      ],
      "metadata": {
        "colab": {
          "base_uri": "https://localhost:8080/"
        },
        "id": "XDQksnTUn1Ws",
        "outputId": "54af4b0c-1d65-4e1e-8023-2781cd68ae97"
      },
      "execution_count": 18,
      "outputs": [
        {
          "output_type": "stream",
          "name": "stdout",
          "text": [
            "Nhập số nguyên a: 4\n",
            "Nhập số nguyên b: 2\n",
            "Căn bậc 2 của 4 là: 2.000000\n"
          ]
        }
      ]
    },
    {
      "cell_type": "code",
      "source": [
        "#Bài 5:\n",
        "X = int(input(\"Nhập số nguyên X: \"))\n",
        "X_str = str(X)\n",
        "c = int(len(X_str))\n",
        "chu_so_dau_tien = str(X_str[0])\n",
        "print(\"Trong X có %d chữ số\" %c)\n",
        "print(\"Chữ số đầu của X là %c\" %chu_so_dau_tien)"
      ],
      "metadata": {
        "colab": {
          "base_uri": "https://localhost:8080/"
        },
        "id": "tdCDDqGvpKiM",
        "outputId": "36f76fce-3ed8-4031-b663-8e1938a81aad"
      },
      "execution_count": 22,
      "outputs": [
        {
          "output_type": "stream",
          "name": "stdout",
          "text": [
            "Nhập số nguyên X: 1000\n",
            "Trong X có 4 chữ số\n",
            "Chữ số đầu của X là 1\n"
          ]
        }
      ]
    }
  ]
}