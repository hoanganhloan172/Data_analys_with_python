{
  "nbformat": 4,
  "nbformat_minor": 0,
  "metadata": {
    "colab": {
      "provenance": [],
      "authorship_tag": "ABX9TyMacv0L2AMd1wQkUzKQEpyK",
      "include_colab_link": true
    },
    "kernelspec": {
      "name": "python3",
      "display_name": "Python 3"
    },
    "language_info": {
      "name": "python"
    }
  },
  "cells": [
    {
      "cell_type": "markdown",
      "metadata": {
        "id": "view-in-github",
        "colab_type": "text"
      },
      "source": [
        "<a href=\"https://colab.research.google.com/github/hoanganhloan172/Data_analys_with_python/blob/main/Buoi_2/B%C3%A0i_t%E1%BA%ADp_tr%C3%AAn_l%E1%BB%9Bp_01.ipynb\" target=\"_parent\"><img src=\"https://colab.research.google.com/assets/colab-badge.svg\" alt=\"Open In Colab\"/></a>"
      ]
    },
    {
      "cell_type": "code",
      "execution_count": 1,
      "metadata": {
        "colab": {
          "base_uri": "https://localhost:8080/"
        },
        "id": "XtK6Qk4fsBMq",
        "outputId": "3df29296-41fd-4b6d-cb0a-66e0eefbb410"
      },
      "outputs": [
        {
          "output_type": "stream",
          "name": "stdout",
          "text": [
            "Nhap 5 so nguyen: 5 6 7 8 9 \n",
            "7.0\n"
          ]
        }
      ],
      "source": [
        "#Bai 1:\n",
        "a, b, c, d, e = map(int , input(\"Nhap 5 so nguyen: \").split())\n",
        "print((a+b+c+d+e)/5)"
      ]
    },
    {
      "cell_type": "code",
      "source": [
        "#Bai 2:\n",
        "x, y, z = map(float, input(\"nhap do dai ba canh cua tam giac: \").split())\n",
        "p = (x+y+z)/3\n",
        "s = float((p*(p-x)*(p-y)*(p-z))**1/2)\n",
        "print(s)"
      ],
      "metadata": {
        "colab": {
          "base_uri": "https://localhost:8080/"
        },
        "id": "9lnAUbBksNaL",
        "outputId": "e6f40745-2c64-42a2-c855-f0beb702f5cd"
      },
      "execution_count": 3,
      "outputs": [
        {
          "output_type": "stream",
          "name": "stdout",
          "text": [
            "nhap do dai ba canh cua tam giac: 5 6 3\n",
            "1.7283950617283934\n"
          ]
        }
      ]
    },
    {
      "cell_type": "code",
      "source": [
        "#Bài 6:\n",
        "def giai_thua(n):\n",
        "    if n == 0 or n == 1:\n",
        "        return 1\n",
        "    else:\n",
        "        return n * giai_thua(n - 1)\n",
        "N = int(input(\"Nhập số nguyên dương N: \"))\n",
        "while N <= 0:\n",
        "    N = int(input(\"Vui lòng nhập số nguyên dương N: \"))\n",
        "ket_qua = giai_thua(N)\n",
        "print(f\"Giai thừ của {N} là {ket_qua}\")"
      ],
      "metadata": {
        "colab": {
          "base_uri": "https://localhost:8080/"
        },
        "id": "UxOHUyaPsdTD",
        "outputId": "d2f398ca-f3e4-4873-bacc-6e8b00e63e70"
      },
      "execution_count": 5,
      "outputs": [
        {
          "output_type": "stream",
          "name": "stdout",
          "text": [
            "Nhập số nguyên dương N: 15\n",
            "Giai thừ của 15 là 1307674368000\n"
          ]
        }
      ]
    }
  ]
}