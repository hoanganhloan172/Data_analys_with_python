{
  "nbformat": 4,
  "nbformat_minor": 0,
  "metadata": {
    "colab": {
      "provenance": [],
      "authorship_tag": "ABX9TyM1DCQQ5qu5cUMwGzi/9O5L",
      "include_colab_link": true
    },
    "kernelspec": {
      "name": "python3",
      "display_name": "Python 3"
    },
    "language_info": {
      "name": "python"
    }
  },
  "cells": [
    {
      "cell_type": "markdown",
      "metadata": {
        "id": "view-in-github",
        "colab_type": "text"
      },
      "source": [
        "<a href=\"https://colab.research.google.com/github/hoanganhloan172/Data_analys_with_python/blob/main/Buoi_2/B%C3%A0i_t%E1%BA%ADp_tr%C3%AAn_l%E1%BB%9Bp_02.ipynb\" target=\"_parent\"><img src=\"https://colab.research.google.com/assets/colab-badge.svg\" alt=\"Open In Colab\"/></a>"
      ]
    },
    {
      "cell_type": "code",
      "execution_count": 1,
      "metadata": {
        "colab": {
          "base_uri": "https://localhost:8080/"
        },
        "id": "-3Mq0S_Rs4ZK",
        "outputId": "634502e6-b3da-42bb-802e-cee8ceae101a"
      },
      "outputs": [
        {
          "output_type": "stream",
          "name": "stdout",
          "text": [
            "Nhập một số tự nhiên (nhập số âm hoặc số 0 để kết thúc): 5\n",
            "Nhập một số tự nhiên (nhập số âm hoặc số 0 để kết thúc): 20\n",
            "Nhập một số tự nhiên (nhập số âm hoặc số 0 để kết thúc): 0\n",
            "Ước số chung lớn nhất của dãy số là: 5\n",
            "Bội số chung nhỏ nhất của dãy số là: 20\n"
          ]
        }
      ],
      "source": [
        "#Bài 4:\n",
        "def uoc_so_chung_lon_nhat(a, b):\n",
        "    while b:\n",
        "        a, b = b, a % b\n",
        "    return a\n",
        "\n",
        "def boi_so_chung_nho_nhat(a, b):\n",
        "    return abs(a * b) // uoc_so_chung_lon_nhat(a, b)\n",
        "\n",
        "# Nhập dãy số từ người dùng\n",
        "so_nguyen = []\n",
        "while True:\n",
        "    try:\n",
        "        so = int(input(\"Nhập một số tự nhiên (nhập số âm hoặc số 0 để kết thúc): \"))\n",
        "        if so <= 0:\n",
        "            break\n",
        "        so_nguyen.append(so)\n",
        "    except ValueError:\n",
        "        print(\"Vui lòng nhập một số tự nhiên.\")\n",
        "\n",
        "# Kiểm tra xem dãy số đã nhập có ít nhất 2 phần tử không để tính ước số chung và bội số chung\n",
        "if len(so_nguyen) < 2:\n",
        "    print(\"Bạn cần nhập ít nhất 2 số để tính ước số chung và bội số chung.\")\n",
        "else:\n",
        "    # Tính ước số chung lớn nhất và bội số chung nhỏ nhất\n",
        "    uscln = so_nguyen[0]\n",
        "    bscnn = so_nguyen[0]\n",
        "\n",
        "    for so in so_nguyen[1:]:\n",
        "        uscln = uoc_so_chung_lon_nhat(uscln, so)\n",
        "        bscnn = boi_so_chung_nho_nhat(bscnn, so)\n",
        "\n",
        "    # In kết quả\n",
        "    print(f\"Ước số chung lớn nhất của dãy số là: {uscln}\")\n",
        "    print(f\"Bội số chung nhỏ nhất của dãy số là: {bscnn}\")"
      ]
    },
    {
      "cell_type": "code",
      "source": [
        "#Bài 5:\n",
        "so_nguyen = []\n",
        "\n",
        "while True:\n",
        "    try:\n",
        "        so = int(input(\"Nhập một số (nhập 0 để kết thúc): \"))\n",
        "\n",
        "        if so == 0:\n",
        "            break\n",
        "\n",
        "        so_nguyen.append(so)\n",
        "    except ValueError:\n",
        "        print(\"Vui lòng nhập một số nguyên hoặc 0 để kết thúc.\")\n",
        "\n",
        "if len(so_nguyen) == 0:\n",
        "    print(\"Bạn không nhập số nào.\")\n",
        "else:\n",
        "    print(f\"Số lượng số đã nhập: {len(so_nguyen)}\")\n",
        "    print(f\"Giá trị nhỏ nhất: {min(so_nguyen)}\")\n",
        "    print(f\"Giá trị lớn nhất: {max(so_nguyen)}\")"
      ],
      "metadata": {
        "colab": {
          "base_uri": "https://localhost:8080/"
        },
        "id": "D3QAkLTxtF4b",
        "outputId": "d5f91039-2a56-43c3-c601-8df9f988dbb4"
      },
      "execution_count": 2,
      "outputs": [
        {
          "output_type": "stream",
          "name": "stdout",
          "text": [
            "Nhập một số (nhập 0 để kết thúc): 15\n",
            "Nhập một số (nhập 0 để kết thúc): 30\n",
            "Nhập một số (nhập 0 để kết thúc): 0\n",
            "Số lượng số đã nhập: 2\n",
            "Giá trị nhỏ nhất: 15\n",
            "Giá trị lớn nhất: 30\n"
          ]
        }
      ]
    }
  ]
}