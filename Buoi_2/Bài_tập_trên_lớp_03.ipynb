{
  "nbformat": 4,
  "nbformat_minor": 0,
  "metadata": {
    "colab": {
      "provenance": [],
      "authorship_tag": "ABX9TyND87Ej3irU0z25XEU0ZzY9",
      "include_colab_link": true
    },
    "kernelspec": {
      "name": "python3",
      "display_name": "Python 3"
    },
    "language_info": {
      "name": "python"
    }
  },
  "cells": [
    {
      "cell_type": "markdown",
      "metadata": {
        "id": "view-in-github",
        "colab_type": "text"
      },
      "source": [
        "<a href=\"https://colab.research.google.com/github/hoanganhloan172/Data_analys_with_python/blob/main/Buoi_2/B%C3%A0i_t%E1%BA%ADp_tr%C3%AAn_l%E1%BB%9Bp_03.ipynb\" target=\"_parent\"><img src=\"https://colab.research.google.com/assets/colab-badge.svg\" alt=\"Open In Colab\"/></a>"
      ]
    },
    {
      "cell_type": "code",
      "execution_count": 1,
      "metadata": {
        "id": "NAbye7YVthtw",
        "colab": {
          "base_uri": "https://localhost:8080/"
        },
        "outputId": "dac2566d-6e94-402c-caac-d841091b676b"
      },
      "outputs": [
        {
          "output_type": "stream",
          "name": "stdout",
          "text": [
            "Nhập chuỗi: vdvdvdvd\n",
            "Chuỗi mới sau khi thêm !!!: vdvdvdvd!!!\n"
          ]
        }
      ],
      "source": [
        "#Bài 1:\n",
        "chuoi = input(\"Nhập chuỗi: \")\n",
        "\n",
        "if chuoi.endswith(\"!!!\"):\n",
        "    print(\"Chuỗi đã kết thúc bằng !!!\")\n",
        "else:\n",
        "    chuoi_moi = chuoi + \"!!!\"\n",
        "    print(\"Chuỗi mới sau khi thêm !!!:\", chuoi_moi)"
      ]
    },
    {
      "cell_type": "code",
      "source": [
        "#Bài 2:\n",
        "chuoi_so = input(\"Nhập dãy số (cách nhau bởi dấu cách hoặc tab): \")\n",
        "\n",
        "chuoi_so_list = chuoi_so.split()\n",
        "\n",
        "so_nguyen_list = [int(so) for so in chuoi_so_list]\n",
        "\n",
        "print(\"Dãy số vừa nhập:\", so_nguyen_list)"
      ],
      "metadata": {
        "id": "QgFGHSgYuA70",
        "colab": {
          "base_uri": "https://localhost:8080/"
        },
        "outputId": "07e1afcf-e744-4a83-bca0-d503c1b2ef94"
      },
      "execution_count": 4,
      "outputs": [
        {
          "output_type": "stream",
          "name": "stdout",
          "text": [
            "Nhập dãy số (cách nhau bởi dấu cách hoặc tab): 1 2 3 4 5 6\n",
            "Dãy số vừa nhập: [1, 2, 3, 4, 5, 6]\n"
          ]
        }
      ]
    },
    {
      "cell_type": "code",
      "source": [
        "#Bài 3:\n",
        "ten_nguoi = input(\"Nhập tên người: \")\n",
        "\n",
        "ho, ten_rieng = ten_nguoi.split()\n",
        "\n",
        "print(\"Phần họ:\", ho)\n",
        "print(\"Tên riêng:\", ten_rieng)"
      ],
      "metadata": {
        "id": "QJYtMVmxuLOr",
        "colab": {
          "base_uri": "https://localhost:8080/"
        },
        "outputId": "3c63e94c-3842-4e3d-e9ad-8114dd7da42d"
      },
      "execution_count": 6,
      "outputs": [
        {
          "output_type": "stream",
          "name": "stdout",
          "text": [
            "Nhập tên người: Phạm Anh\n",
            "Phần họ: Phạm\n",
            "Tên riêng: Anh\n"
          ]
        }
      ]
    },
    {
      "cell_type": "code",
      "source": [
        "#Bài 4:\n",
        "chuoi = input(\"Nhập chuỗi: \")\n",
        "\n",
        "chuoi_moi = ''.join(ky_tu for ky_tu in chuoi if not ky_tu.isdigit())\n",
        "\n",
        "print(\"Chuỗi sau khi loại bỏ chữ số:\", chuoi_moi)"
      ],
      "metadata": {
        "colab": {
          "base_uri": "https://localhost:8080/"
        },
        "id": "UMax8cpe5sud",
        "outputId": "3b94cb37-3722-49f9-d70b-45d6064fd93d"
      },
      "execution_count": 7,
      "outputs": [
        {
          "output_type": "stream",
          "name": "stdout",
          "text": [
            "Nhập chuỗi: Pham hoang anh 1 2\n",
            "Chuỗi sau khi loại bỏ chữ số: Pham hoang anh  \n"
          ]
        }
      ]
    }
  ]
}