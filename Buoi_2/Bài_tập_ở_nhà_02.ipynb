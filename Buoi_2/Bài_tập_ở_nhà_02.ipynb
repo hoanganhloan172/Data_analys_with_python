{
  "nbformat": 4,
  "nbformat_minor": 0,
  "metadata": {
    "colab": {
      "provenance": [],
      "authorship_tag": "ABX9TyNIIGn3Ge9/tUrjyXJpgUtP",
      "include_colab_link": true
    },
    "kernelspec": {
      "name": "python3",
      "display_name": "Python 3"
    },
    "language_info": {
      "name": "python"
    }
  },
  "cells": [
    {
      "cell_type": "markdown",
      "metadata": {
        "id": "view-in-github",
        "colab_type": "text"
      },
      "source": [
        "<a href=\"https://colab.research.google.com/github/hoanganhloan172/Data_analys_with_python/blob/main/Buoi_2/B%C3%A0i_t%E1%BA%ADp_%E1%BB%9F_nh%C3%A0_02.ipynb\" target=\"_parent\"><img src=\"https://colab.research.google.com/assets/colab-badge.svg\" alt=\"Open In Colab\"/></a>"
      ]
    },
    {
      "cell_type": "code",
      "execution_count": 1,
      "metadata": {
        "colab": {
          "base_uri": "https://localhost:8080/"
        },
        "id": "HaITyVZB9vye",
        "outputId": "f3cda165-fcdc-483d-c30b-2f080ea15260"
      },
      "outputs": [
        {
          "output_type": "stream",
          "name": "stdout",
          "text": [
            "Các phần tử trong tập hợp:\n",
            "0,1,2,3,4,5,6,7,8,9,10,11,12,13,14,15,16,17,18,19,20,21,22,23,24,25,26,27,28,29,30,31,32,33,34,35,36,37,38,39,40,41,42,43,44,45,46,47,48,49,50,51,52,53,54,55,56,57,58,59,60,61,62,63,64,65,66,67,68,69,70,71,72,73,74,75,76,77,78,79,80,81,82,83,84,85,86,87,88,89,90,91,92,93,94,95,96,97,98,99,"
          ]
        }
      ],
      "source": [
        "#Bài 1\n",
        "my_set = set(range(100))\n",
        "\n",
        "print(\"Các phần tử trong tập hợp:\")\n",
        "for element in my_set:\n",
        "    print(element, end=\",\")"
      ]
    },
    {
      "cell_type": "code",
      "source": [
        "#Bài 2:\n",
        "odd_numbers_set = set(range(1, 200, 2))\n",
        "\n",
        "print(\"Các số nguyên lẻ trong khoảng từ 1 đến 199:\")\n",
        "for number in odd_numbers_set:\n",
        "    print(number)"
      ],
      "metadata": {
        "colab": {
          "base_uri": "https://localhost:8080/"
        },
        "id": "KqmXqNnT95N1",
        "outputId": "983d5c56-8192-43f0-ffbb-9d116f62dd84"
      },
      "execution_count": 2,
      "outputs": [
        {
          "output_type": "stream",
          "name": "stdout",
          "text": [
            "Các số nguyên lẻ trong khoảng từ 1 đến 199:\n",
            "1\n",
            "3\n",
            "5\n",
            "7\n",
            "9\n",
            "11\n",
            "13\n",
            "15\n",
            "17\n",
            "19\n",
            "21\n",
            "23\n",
            "25\n",
            "27\n",
            "29\n",
            "31\n",
            "33\n",
            "35\n",
            "37\n",
            "39\n",
            "41\n",
            "43\n",
            "45\n",
            "47\n",
            "49\n",
            "51\n",
            "53\n",
            "55\n",
            "57\n",
            "59\n",
            "61\n",
            "63\n",
            "65\n",
            "67\n",
            "69\n",
            "71\n",
            "73\n",
            "75\n",
            "77\n",
            "79\n",
            "81\n",
            "83\n",
            "85\n",
            "87\n",
            "89\n",
            "91\n",
            "93\n",
            "95\n",
            "97\n",
            "99\n",
            "101\n",
            "103\n",
            "105\n",
            "107\n",
            "109\n",
            "111\n",
            "113\n",
            "115\n",
            "117\n",
            "119\n",
            "121\n",
            "123\n",
            "125\n",
            "127\n",
            "129\n",
            "131\n",
            "133\n",
            "135\n",
            "137\n",
            "139\n",
            "141\n",
            "143\n",
            "145\n",
            "147\n",
            "149\n",
            "151\n",
            "153\n",
            "155\n",
            "157\n",
            "159\n",
            "161\n",
            "163\n",
            "165\n",
            "167\n",
            "169\n",
            "171\n",
            "173\n",
            "175\n",
            "177\n",
            "179\n",
            "181\n",
            "183\n",
            "185\n",
            "187\n",
            "189\n",
            "191\n",
            "193\n",
            "195\n",
            "197\n",
            "199\n"
          ]
        }
      ]
    },
    {
      "cell_type": "code",
      "source": [
        "#Bài 3:\n",
        "user_input = input(\"Nhập các số, cách nhau bởi ký tự trống: \")\n",
        "user_numbers = [int(num) for num in user_input.split()]\n",
        "user_set = set(user_numbers)\n",
        "\n",
        "print(f\"Số phần tử của tập hợp là: {len(user_set)}\")\n",
        "\n",
        "if user_set:\n",
        "    print(f\"Giá trị lớn nhất trong tập hợp là: {max(user_set)}\")\n",
        "    print(f\"Giá trị nhỏ nhất trong tập hợp là: {min(user_set)}\")\n",
        "else:\n",
        "    print(\"Tập hợp rỗng.\")"
      ],
      "metadata": {
        "colab": {
          "base_uri": "https://localhost:8080/"
        },
        "id": "F6s0kx6m99o1",
        "outputId": "1af9b090-2ef5-4f6d-9678-fb4eba437c07"
      },
      "execution_count": 3,
      "outputs": [
        {
          "output_type": "stream",
          "name": "stdout",
          "text": [
            "Nhập các số, cách nhau bởi ký tự trống: 12 34 56\n",
            "Số phần tử của tập hợp là: 3\n",
            "Giá trị lớn nhất trong tập hợp là: 56\n",
            "Giá trị nhỏ nhất trong tập hợp là: 12\n"
          ]
        }
      ]
    },
    {
      "cell_type": "code",
      "source": [
        "#Bài 4:\n",
        "students = []\n",
        "\n",
        "while True:\n",
        "    input_line = input(\"Nhập họ tên đầy đủ của sinh viên (hoặc nhấn Enter để kết thúc): \")\n",
        "    if not input_line:\n",
        "        break\n",
        "\n",
        "    students.append(input_line)\n",
        "\n",
        "print(\"Các họ và tên của sinh viên trong lớp:\")\n",
        "for student in students:\n",
        "    print(student)"
      ],
      "metadata": {
        "colab": {
          "base_uri": "https://localhost:8080/"
        },
        "id": "U4BWEy0j-HFt",
        "outputId": "b7378c0a-98ec-4f62-9139-033bb4d1aad4"
      },
      "execution_count": 4,
      "outputs": [
        {
          "output_type": "stream",
          "name": "stdout",
          "text": [
            "Nhập họ tên đầy đủ của sinh viên (hoặc nhấn Enter để kết thúc): Phạm Hoàng Anh\n",
            "Nhập họ tên đầy đủ của sinh viên (hoặc nhấn Enter để kết thúc): Phạm Hoàng Anh\n",
            "Nhập họ tên đầy đủ của sinh viên (hoặc nhấn Enter để kết thúc): \n",
            "Các họ và tên của sinh viên trong lớp:\n",
            "Phạm Hoàng Anh\n",
            "Phạm Hoàng Anh\n"
          ]
        }
      ]
    },
    {
      "cell_type": "code",
      "source": [
        "#Bài 5\n",
        "N = int(input(\"Nhập số nguyên N: \"))\n",
        "divisors_set = {d for d in range(1, N + 1) if N % d == 0}\n",
        "print(f\"Các ước số dương của {N} là:\")\n",
        "print(divisors_set)\n"
      ],
      "metadata": {
        "colab": {
          "base_uri": "https://localhost:8080/"
        },
        "id": "XQik-a6n-c5f",
        "outputId": "ded1ef98-c226-46bc-c902-04206112bbde"
      },
      "execution_count": 5,
      "outputs": [
        {
          "output_type": "stream",
          "name": "stdout",
          "text": [
            "Nhập số nguyên N: 5\n",
            "Các ước số dương của 5 là:\n",
            "{1, 5}\n"
          ]
        }
      ]
    },
    {
      "cell_type": "code",
      "source": [
        "#Bài 6\n",
        "a = int(input(\"Nhập số nguyên a: \"))\n",
        "b = int(input(\"Nhập số nguyên b: \"))\n",
        "\n",
        "common_divisors_set = {d for d in range(1, min(a, b) + 1) if a % d == 0 and b % d == 0}\n",
        "\n",
        "print(f\"Các ước số chung của {a} và {b} là:\")\n",
        "print(common_divisors_set)"
      ],
      "metadata": {
        "colab": {
          "base_uri": "https://localhost:8080/"
        },
        "id": "AK52kyuU-kVV",
        "outputId": "830cc553-3379-41e4-d726-5230e763a016"
      },
      "execution_count": 6,
      "outputs": [
        {
          "output_type": "stream",
          "name": "stdout",
          "text": [
            "Nhập số nguyên a: 5\n",
            "Nhập số nguyên b: 60\n",
            "Các ước số chung của 5 và 60 là:\n",
            "{1, 5}\n"
          ]
        }
      ]
    },
    {
      "cell_type": "code",
      "source": [
        "#Bài 7\n",
        "input_sequence = input(\"Nhập dãy số nguyên, ngăn cách nhau bởi dấu chấm phẩy: \")\n",
        "\n",
        "numbers = list(map(int, input_sequence.split(',')))\n",
        "\n",
        "unique_numbers_set = set(numbers)\n",
        "\n",
        "unique_numbers_count = len(unique_numbers_set)\n",
        "\n",
        "print(f\"Số lượng số nguyên khác nhau trong dãy là: {unique_numbers_count}\")"
      ],
      "metadata": {
        "colab": {
          "base_uri": "https://localhost:8080/"
        },
        "id": "MY8DGxcW-rau",
        "outputId": "0d30b49c-f275-4496-a762-de88bc7c2daa"
      },
      "execution_count": 8,
      "outputs": [
        {
          "output_type": "stream",
          "name": "stdout",
          "text": [
            "Nhập dãy số nguyên, ngăn cách nhau bởi dấu chấm phẩy: 23,8,9,9,10\n",
            "Số lượng số nguyên khác nhau trong dãy là: 4\n"
          ]
        }
      ]
    },
    {
      "cell_type": "code",
      "source": [
        "#Bài 8:\n",
        "def check_winning_ticket(player_numbers, special_number, winning_numbers):\n",
        "    matching_numbers = set(player_numbers) & set(winning_numbers)\n",
        "    if len(matching_numbers) >= 5 and special_number in set(winning_numbers):\n",
        "        return True\n",
        "    return False\n",
        "\n",
        "N = int(input(\"Nhập số lượng người chơi: \"))\n",
        "\n",
        "players_tickets = []\n",
        "for i in range(N):\n",
        "    player_ticket = list(map(int, input(f\"Nhập bộ số thứ {i + 1} (6 số, cách nhau bởi dấu cách): \").split()))\n",
        "    players_tickets.append(player_ticket)\n",
        "\n",
        "winning_special_numbers = list(map(int, input(\"Nhập 6 số của giải đặc biệt: \").split()))\n",
        "\n",
        "print(\"Các bộ số của người chơi thắng cuộc:\")\n",
        "for i, player_ticket in enumerate(players_tickets, 1):\n",
        "    if check_winning_ticket(player_ticket, winning_special_numbers, player_ticket):\n",
        "        print(f\"Người chơi {i}: {player_ticket}\")"
      ],
      "metadata": {
        "colab": {
          "base_uri": "https://localhost:8080/"
        },
        "id": "Df6Os9x3_ePF",
        "outputId": "41970c62-fb2c-4fc8-aad4-aafff5d1e7f8"
      },
      "execution_count": null,
      "outputs": [
        {
          "name": "stdout",
          "output_type": "stream",
          "text": [
            "Nhập số lượng người chơi: 2\n"
          ]
        }
      ]
    }
  ]
}