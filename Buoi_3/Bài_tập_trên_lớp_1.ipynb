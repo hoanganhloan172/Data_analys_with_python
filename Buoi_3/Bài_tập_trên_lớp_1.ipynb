{
  "nbformat": 4,
  "nbformat_minor": 0,
  "metadata": {
    "colab": {
      "provenance": [],
      "authorship_tag": "ABX9TyMCpWo8zAGN0z5cRQa8/XWT",
      "include_colab_link": true
    },
    "kernelspec": {
      "name": "python3",
      "display_name": "Python 3"
    },
    "language_info": {
      "name": "python"
    }
  },
  "cells": [
    {
      "cell_type": "markdown",
      "metadata": {
        "id": "view-in-github",
        "colab_type": "text"
      },
      "source": [
        "<a href=\"https://colab.research.google.com/github/hoanganhloan172/Data_analys_with_python/blob/main/Buoi_3/B%C3%A0i_t%E1%BA%ADp_tr%C3%AAn_l%E1%BB%9Bp_1.ipynb\" target=\"_parent\"><img src=\"https://colab.research.google.com/assets/colab-badge.svg\" alt=\"Open In Colab\"/></a>"
      ]
    },
    {
      "cell_type": "code",
      "execution_count": 3,
      "metadata": {
        "colab": {
          "base_uri": "https://localhost:8080/"
        },
        "id": "OhClr7fdBFXo",
        "outputId": "e709e385-f014-4de9-9a72-01aac056041e"
      },
      "outputs": [
        {
          "output_type": "stream",
          "name": "stdout",
          "text": [
            "Nhập số nguyên n: 20\n",
            "Các số nguyên dương nhỏ hơn 20 có tổng ước số lớn hơn chính nó là:\n",
            "12\n",
            "18\n"
          ]
        }
      ],
      "source": [
        "#bài 4:\n",
        "def tinh_tong_uoc_so(x):\n",
        "    return sum([i for i in range(1, x) if x % i == 0])\n",
        "\n",
        "# Nhập số nguyên n từ người dùng\n",
        "n = int(input(\"Nhập số nguyên n: \"))\n",
        "\n",
        "# In ra các số nguyên dương nhỏ hơn n có tổng ước số lớn hơn chính nó\n",
        "print(f\"Các số nguyên dương nhỏ hơn {n} có tổng ước số lớn hơn chính nó là:\")\n",
        "for i in range(1, n):\n",
        "    if tinh_tong_uoc_so(i) > i:\n",
        "        print(i)"
      ]
    },
    {
      "cell_type": "code",
      "source": [
        "#bài 1:\n",
        "# Nhập chuỗi từ người dùng\n",
        "chuoi_nhap = input(\"Nhập chuỗi các từ tiếng Anh cách nhau bởi dấu cách: \")\n",
        "\n",
        "# Tách chuỗi thành danh sách các từ\n",
        "danh_sach_tu = chuoi_nhap.split()\n",
        "\n",
        "# Sắp xếp danh sách các từ theo thứ tự từ điển\n",
        "danh_sach_tu.sort()\n",
        "\n",
        "# In ra màn hình các từ theo thứ tự từ điển\n",
        "print(\"Các từ theo thứ tự từ điển:\")\n",
        "for tu in danh_sach_tu:\n",
        "    print(tu)"
      ],
      "metadata": {
        "colab": {
          "base_uri": "https://localhost:8080/"
        },
        "id": "4RIc1MaCCdnr",
        "outputId": "a8e4d5bb-0743-4929-b8d0-e701cae6d072"
      },
      "execution_count": 5,
      "outputs": [
        {
          "output_type": "stream",
          "name": "stdout",
          "text": [
            "Nhập chuỗi các từ tiếng Anh cách nhau bởi dấu cách: Pham Hoang aNH\n",
            "Các từ theo thứ tự từ điển:\n",
            "Hoang\n",
            "Pham\n",
            "aNH\n"
          ]
        }
      ]
    }
  ]
}