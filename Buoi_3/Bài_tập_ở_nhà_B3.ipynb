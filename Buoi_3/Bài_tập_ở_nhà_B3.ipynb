{
  "nbformat": 4,
  "nbformat_minor": 0,
  "metadata": {
    "colab": {
      "provenance": [],
      "authorship_tag": "ABX9TyPt3xB3FZUfPklPrG+mJ/QH",
      "include_colab_link": true
    },
    "kernelspec": {
      "name": "python3",
      "display_name": "Python 3"
    },
    "language_info": {
      "name": "python"
    }
  },
  "cells": [
    {
      "cell_type": "markdown",
      "metadata": {
        "id": "view-in-github",
        "colab_type": "text"
      },
      "source": [
        "<a href=\"https://colab.research.google.com/github/hoanganhloan172/Data_analys_with_python/blob/main/Buoi_3/B%C3%A0i_t%E1%BA%ADp_%E1%BB%9F_nh%C3%A0_B3.ipynb\" target=\"_parent\"><img src=\"https://colab.research.google.com/assets/colab-badge.svg\" alt=\"Open In Colab\"/></a>"
      ]
    },
    {
      "cell_type": "code",
      "execution_count": 1,
      "metadata": {
        "colab": {
          "base_uri": "https://localhost:8080/"
        },
        "id": "k0lgx_K_EuP9",
        "outputId": "2a5380f2-9f38-463a-d5f1-66509ad22f8a"
      },
      "outputs": [
        {
          "output_type": "stream",
          "name": "stdout",
          "text": [
            "Nhập số nguyên a: 5\n",
            "Nhập số nguyên b: 6\n",
            "Giá trị phân số a/b: 0.8333333333333334\n"
          ]
        }
      ],
      "source": [
        "#Bài 1:\n",
        "\n",
        "def main():\n",
        "\n",
        "    try:\n",
        "        # Nhập hai số nguyên từ người dùng\n",
        "        a = int(input(\"Nhập số nguyên a: \"))\n",
        "        b = int(input(\"Nhập số nguyên b: \"))\n",
        "\n",
        "        # Kiểm tra nếu b là 0\n",
        "        if b == 0:\n",
        "\n",
        "            raise ZeroDivisionError(\"Không thể chia cho 0\")\n",
        "\n",
        "        # Tính và in ra giá trị phân số a/b\n",
        "        fraction = a / b\n",
        "\n",
        "        print(f\"Giá trị phân số a/b: {fraction}\")\n",
        "\n",
        "    except ValueError:\n",
        "\n",
        "        print(\"Lỗi: a hoặc b không phải số nguyên\")\n",
        "\n",
        "    except ZeroDivisionError as e:\n",
        "        print(f\"Lỗi: {e}\")\n",
        "\n",
        "if __name__ == \"__main__\":\n",
        "\n",
        "    main()\n"
      ]
    },
    {
      "cell_type": "code",
      "source": [
        "#Bài 2:\n",
        "# viết chương trình yêu cầu người dùng nhập a,b và c là độ dài 3 cạnh của một tam giác.\n",
        "# xử lý ngoại lệ trong các tình huống sau:\n",
        "# người dùng nhập 1 trong 3 số không phải số nguyên,\n",
        "# người dùng nhập giá trị 0 hoặc số âm cho 1 trong 3 số,\n",
        "# người dùng nhập a, b, c dương nhưng không thể là cạnh của một tam giác\n",
        "def is_triangle(a, b, c):\n",
        "    return a + b > c and a + c > b and b + c > a\n",
        "\n",
        "def input_integer(prompt):\n",
        "    while True:\n",
        "        try:\n",
        "            value = int(input(prompt))\n",
        "            return value\n",
        "        except ValueError:\n",
        "            print(\"Bạn cần phải nhập một số nguyên.\")\n",
        "\n",
        "def main():\n",
        "    try:\n",
        "        a = input_integer(\"Nhập độ dài cạnh a: \")\n",
        "        b = input_integer(\"Nhập độ dài cạnh b: \")\n",
        "        c = input_integer(\"Nhập độ dài cạnh c: \")\n",
        "\n",
        "        if a <= 0 or b <= 0 or c <= 0:\n",
        "            raise ValueError(\"Độ dài các cạnh phải là số nguyên dương.\")\n",
        "\n",
        "        if not is_triangle(a, b, c):\n",
        "            raise ValueError(\"Ba số đã nhập không thể là độ dài của một tam giác.\")\n",
        "\n",
        "        print(f\"Ba số đã nhập có thể là độ dài của một tam giác.\")\n",
        "\n",
        "    except ValueError as ve:\n",
        "        print(f\"Lỗi: {ve}\")\n",
        "\n",
        "if __name__ == \"__main__\":\n",
        "    main()\n"
      ],
      "metadata": {
        "colab": {
          "base_uri": "https://localhost:8080/"
        },
        "id": "9zd-GzXTFTED",
        "outputId": "673257e0-1125-41ba-de1e-1582f2850e96"
      },
      "execution_count": 2,
      "outputs": [
        {
          "output_type": "stream",
          "name": "stdout",
          "text": [
            "Nhập độ dài cạnh a: 4\n",
            "Nhập độ dài cạnh b: 5\n",
            "Nhập độ dài cạnh c: 6\n",
            "Ba số đã nhập có thể là độ dài của một tam giác.\n"
          ]
        }
      ]
    },
    {
      "cell_type": "code",
      "source": [
        "#Bài 3:\n",
        "# viết chương trình cho phép người dùng nhập liên tiếp các số nguyên dương, yêu cầu:\n",
        "# việc nhập liệu sẽ kết thúc bình thường khi người dùng nhập số 0.\n",
        "# sẽ phát sinh ra ngoại lệ và thông báo \"Lỗi số âm!!!\" khi người dùng nhập số nguyên âm bất kì,\n",
        "# phát sinh ngoại lệ và thông báo \"Lỗi nhập số\" khi người dùng nhập vào chuỗi không phải số nguyên,\n",
        "# phát sinh ngoại lệ và thông báo \"Lỗi nhập lặp\" khi người dùng nhập 4 số nguyên dương liên tiếp giống nhau,\n",
        "# phát sinh ngoại lệ và thông báo \"Lỗi nhập chẵn\" khi người dùng nhập 5 số chẵn liên tiếp,\n",
        "# sau khi phát sinh ngoại lệ, xử lý và thông báo, chương trình cần tiếp tục hoạt động như bình thường\n",
        "\n",
        "\n",
        "def input_positive_integer():\n",
        "    while True:\n",
        "        try:\n",
        "            num = int(input(\"Nhập một số nguyên dương (nhập 0 để kết thúc): \"))\n",
        "            if num < 0:\n",
        "                raise ValueError(\"Lỗi số âm!!!\")\n",
        "            return num\n",
        "        except ValueError:\n",
        "            print(\"Lỗi nhập số\")\n",
        "\n",
        "def main():\n",
        "    prev_num = None\n",
        "    even_count = 0\n",
        "\n",
        "    while True:\n",
        "        try:\n",
        "            num = input_positive_integer()\n",
        "\n",
        "            if num == 0:\n",
        "                break\n",
        "            elif num == prev_num:\n",
        "                raise ValueError(\"Lỗi nhập lặp\")\n",
        "            elif num % 2 == 0:\n",
        "                even_count += 1\n",
        "                if even_count == 5:\n",
        "                    raise ValueError(\"Lỗi nhập chẵn\")\n",
        "            else:\n",
        "                even_count = 0\n",
        "\n",
        "            prev_num = num\n",
        "        except ValueError as ve:\n",
        "            print(f\"Lỗi: {ve}\")\n",
        "\n",
        "if __name__ == \"__main__\":\n",
        "    main()\n"
      ],
      "metadata": {
        "colab": {
          "base_uri": "https://localhost:8080/"
        },
        "id": "7x_6CZxgGES2",
        "outputId": "662a3534-5c31-4d92-8029-e0dda58bf8fe"
      },
      "execution_count": 3,
      "outputs": [
        {
          "name": "stdout",
          "output_type": "stream",
          "text": [
            "Nhập một số nguyên dương (nhập 0 để kết thúc): 4 \n",
            "Nhập một số nguyên dương (nhập 0 để kết thúc): 5\n",
            "Nhập một số nguyên dương (nhập 0 để kết thúc): 6\n",
            "Nhập một số nguyên dương (nhập 0 để kết thúc): 7\n",
            "Nhập một số nguyên dương (nhập 0 để kết thúc): 0\n"
          ]
        }
      ]
    }
  ]
}