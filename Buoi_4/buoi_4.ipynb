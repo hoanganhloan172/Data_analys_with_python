{
  "nbformat": 4,
  "nbformat_minor": 0,
  "metadata": {
    "colab": {
      "provenance": [],
      "include_colab_link": true
    },
    "kernelspec": {
      "name": "python3",
      "display_name": "Python 3"
    },
    "language_info": {
      "name": "python"
    }
  },
  "cells": [
    {
      "cell_type": "markdown",
      "metadata": {
        "id": "view-in-github",
        "colab_type": "text"
      },
      "source": [
        "<a href=\"https://colab.research.google.com/github/hoanganhloan172/Data_analys_with_python/blob/main/Buoi_4/buoi_4.ipynb\" target=\"_parent\"><img src=\"https://colab.research.google.com/assets/colab-badge.svg\" alt=\"Open In Colab\"/></a>"
      ]
    },
    {
      "cell_type": "code",
      "execution_count": null,
      "metadata": {
        "colab": {
          "base_uri": "https://localhost:8080/"
        },
        "id": "-rPwSYpTJKZt",
        "outputId": "d05f6395-ce93-427a-f48e-1b4124119e5b"
      },
      "outputs": [
        {
          "output_type": "stream",
          "name": "stdout",
          "text": [
            "Cac phan tu khac biet la: [1, 2]\n"
          ]
        }
      ],
      "source": [
        "#bai1\n",
        "def phan_tu_khac_biet(a, b):\n",
        "\n",
        "    phan_tu_khac_biet = set(a) - set(b)\n",
        "\n",
        "\n",
        "    ket_qua = sorted(list(phan_tu_khac_biet))\n",
        "\n",
        "    return ket_qua\n",
        "\n",
        "mang1 = [1, 2, 3, 4, 5]\n",
        "mang2 = [3, 4, 5, 6, 8]\n",
        "\n",
        "ket_qua = phan_tu_khac_biet(mang1, mang2)\n",
        "print(\"Cac phan tu khac biet la:\", ket_qua)\n"
      ]
    },
    {
      "cell_type": "code",
      "source": [
        "#bai2\n",
        "import numpy as np\n",
        "\n",
        "def tim_chi_so_max_min(arr, axis):\n",
        "\n",
        "    chi_so_max = np.argmax(arr, axis=axis)\n",
        "    chi_so_min = np.argmin(arr, axis=axis)\n",
        "\n",
        "    return chi_so_max, chi_so_min\n",
        "\n",
        "mang = np.array([[1, 2, 3],\n",
        "                 [4, 5, 6],\n",
        "                 [7, 8, 9]])\n",
        "\n",
        "\n",
        "chi_so_max_cot, chi_so_min_cot = tim_chi_so_max_min(mang, axis=0)\n",
        "print(\"Chỉ số của giá trị lớn nhất dọc theo cột:\", chi_so_max_cot)\n",
        "print(\"Chỉ số của giá trị nhỏ nhất dọc theo cột:\", chi_so_min_cot)\n",
        "\n",
        "chi_so_max_hang, chi_so_min_hang = tim_chi_so_max_min(mang, axis=1)\n",
        "print(\"Chỉ số của giá trị lớn nhất dọc theo hàng:\", chi_so_max_hang)\n",
        "print(\"Chỉ số của giá trị nhỏ nhất dọc theo hàng:\", chi_so_min_hang)"
      ],
      "metadata": {
        "colab": {
          "base_uri": "https://localhost:8080/"
        },
        "id": "gNgUQg1VMydu",
        "outputId": "17dc881e-fff7-49df-f8c8-53bbbb1e503b"
      },
      "execution_count": null,
      "outputs": [
        {
          "output_type": "stream",
          "name": "stdout",
          "text": [
            "Chỉ số của giá trị lớn nhất dọc theo cột: [2 2 2]\n",
            "Chỉ số của giá trị nhỏ nhất dọc theo cột: [0 0 0]\n",
            "Chỉ số của giá trị lớn nhất dọc theo hàng: [2 2 2]\n",
            "Chỉ số của giá trị nhỏ nhất dọc theo hàng: [0 0 0]\n"
          ]
        }
      ]
    }
  ]
}