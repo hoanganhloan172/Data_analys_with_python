{
  "nbformat": 4,
  "nbformat_minor": 0,
  "metadata": {
    "colab": {
      "provenance": [],
      "include_colab_link": true
    },
    "kernelspec": {
      "name": "python3",
      "display_name": "Python 3"
    },
    "language_info": {
      "name": "python"
    }
  },
  "cells": [
    {
      "cell_type": "markdown",
      "metadata": {
        "id": "view-in-github",
        "colab_type": "text"
      },
      "source": [
        "<a href=\"https://colab.research.google.com/github/hoanganhloan172/Data_analys_with_python/blob/main/Buoi_6/BAitap6.ipynb\" target=\"_parent\"><img src=\"https://colab.research.google.com/assets/colab-badge.svg\" alt=\"Open In Colab\"/></a>"
      ]
    },
    {
      "cell_type": "code",
      "execution_count": null,
      "metadata": {
        "colab": {
          "base_uri": "https://localhost:8080/"
        },
        "id": "MaSSAPNtC0ly",
        "outputId": "0760936a-b894-4454-a176-83e5dd428b66"
      },
      "outputs": [
        {
          "output_type": "execute_result",
          "data": {
            "text/plain": [
              "array([[26, 38, 44],\n",
              "       [30, 63, 54],\n",
              "       [ 3, 10,  5]])"
            ]
          },
          "metadata": {},
          "execution_count": 1
        }
      ],
      "source": [
        "\n",
        "import numpy as np\n",
        "\n",
        "A = np.array([[10,1,2],\n",
        "              [9,7,4],\n",
        "              [0,2,1]])\n",
        "B =np.array([[2,3,4],\n",
        "             [0,4,2],\n",
        "             [3,2,1]])\n",
        "\n",
        "#AB\n",
        "tich = np.dot(A,B)\n",
        "tich"
      ]
    },
    {
      "cell_type": "code",
      "source": [
        "\n",
        "# Tính B * A^T * A * B^T\n",
        "result1 = np.dot(B, np.dot(A.T, np.dot(A, B.T)))\n",
        "\n",
        "# Tính A * B^T * B * A^T\n",
        "result2 = np.dot(A, np.dot(B.T, np.dot(B, A.T)))\n",
        "\n",
        "print(\"B * A^T * A * B^T:\")\n",
        "print(result1)\n",
        "\n",
        "print(\"\\nA * B^T * B * A^T:\")\n",
        "print(result2)"
      ],
      "metadata": {
        "colab": {
          "base_uri": "https://localhost:8080/"
        },
        "id": "XVCc-x6ODA2U",
        "outputId": "8fdbd720-c0ec-4f00-9c73-7a0102209880"
      },
      "execution_count": null,
      "outputs": [
        {
          "output_type": "stream",
          "name": "stdout",
          "text": [
            "B * A^T * A * B^T:\n",
            "[[4086 2328 3579]\n",
            " [2328 1460 1942]\n",
            " [3579 1942 3206]]\n",
            "\n",
            "A * B^T * B * A^T:\n",
            "[[2181 3523  560]\n",
            " [3523 6346 1135]\n",
            " [ 560 1135  225]]\n"
          ]
        }
      ]
    },
    {
      "cell_type": "code",
      "source": [
        "# Concatenate ma trận A và B theo dòng\n",
        "concatenated_matrix = np.concatenate((A, B), axis=0)\n",
        "\n",
        "# Reshape ma trận A thành vecto\n",
        "reshaped_vector = A.reshape(-1)\n",
        "\n",
        "print(\"Concatenated Matrix A and B:\")\n",
        "print(concatenated_matrix)\n",
        "\n",
        "print(\"\\nReshaped Vector from Matrix A:\")\n",
        "print(reshaped_vector)"
      ],
      "metadata": {
        "colab": {
          "base_uri": "https://localhost:8080/"
        },
        "id": "wC8_Fe12DD2O",
        "outputId": "be3360fa-e1ba-4159-f16d-15c3b73d5564"
      },
      "execution_count": null,
      "outputs": [
        {
          "output_type": "stream",
          "name": "stdout",
          "text": [
            "Concatenated Matrix A and B:\n",
            "[[10  1  2]\n",
            " [ 9  7  4]\n",
            " [ 0  2  1]\n",
            " [ 2  3  4]\n",
            " [ 0  4  2]\n",
            " [ 3  2  1]]\n",
            "\n",
            "Reshaped Vector from Matrix A:\n",
            "[10  1  2  9  7  4  0  2  1]\n"
          ]
        }
      ]
    },
    {
      "cell_type": "code",
      "source": [
        "A = np.array([[10,1,2],\n",
        "              [9,7,4],\n",
        "              [0,2,1]])\n",
        "def softmax(x):\n",
        "    exp_x = np.exp(x - np.max(x, axis=-1, keepdims=True))\n",
        "    return exp_x / np.sum(exp_x, axis=-1, keepdims=True)\n",
        "\n",
        "# Tính phân phối xác suất sau khi đi qua hàm softmax cho mỗi dòng\n",
        "softmax_result = softmax(A)\n",
        "\n",
        "# Tìm nhãn dự báo cho mỗi dòng\n",
        "predicted_labels = np.argmax(softmax_result, axis=1)\n",
        "\n",
        "# Tính tổng, trung bình, min và max của mỗi dòng\n",
        "sums = np.sum(A, axis=1)\n",
        "means = np.mean(A, axis=1)\n",
        "mins = np.min(A, axis=1)\n",
        "maxs = np.max(A, axis=1)\n",
        "\n",
        "print(\"Phân phối xác suất sau softmax:\")\n",
        "print(softmax_result)\n",
        "\n",
        "print(\"\\nNhãn dự báo cho mỗi dòng:\")\n",
        "print(predicted_labels)\n",
        "\n",
        "print(\"\\nTổng của mỗi dòng:\")\n",
        "print(sums)\n",
        "\n",
        "print(\"\\nTrung bình của mỗi dòng:\")\n",
        "print(means)\n",
        "\n",
        "print(\"\\nMin của mỗi dòng:\")\n",
        "print(mins)\n",
        "\n",
        "print(\"\\nMax của mỗi dòng:\")\n",
        "print(maxs)\n"
      ],
      "metadata": {
        "colab": {
          "base_uri": "https://localhost:8080/"
        },
        "id": "AGcabs6hDGVp",
        "outputId": "593a3952-4b51-442a-d3b6-16bea98f22a1"
      },
      "execution_count": null,
      "outputs": [
        {
          "output_type": "stream",
          "name": "stdout",
          "text": [
            "Phân phối xác suất sau softmax:\n",
            "[[9.99541338e-01 1.23353201e-04 3.35308764e-04]\n",
            " [8.75600595e-01 1.18499655e-01 5.89975040e-03]\n",
            " [9.00305732e-02 6.65240956e-01 2.44728471e-01]]\n",
            "\n",
            "Nhãn dự báo cho mỗi dòng:\n",
            "[0 0 1]\n",
            "\n",
            "Tổng của mỗi dòng:\n",
            "[13 20  3]\n",
            "\n",
            "Trung bình của mỗi dòng:\n",
            "[4.33333333 6.66666667 1.        ]\n",
            "\n",
            "Min của mỗi dòng:\n",
            "[1 4 0]\n",
            "\n",
            "Max của mỗi dòng:\n",
            "[10  9  2]\n"
          ]
        }
      ]
    },
    {
      "cell_type": "code",
      "source": [
        "\n",
        "#bai tap voi file excel\n",
        "import numpy as np\n",
        "import pandas as pd\n",
        "dataset = pd.read_excel(\"/content/Week4-data_06 (1).xlsx\")\n",
        "print(dataset)\n",
        "print(dataset.head())"
      ],
      "metadata": {
        "colab": {
          "base_uri": "https://localhost:8080/"
        },
        "id": "lGUnel_SDPlb",
        "outputId": "0736b2ba-e1cc-4368-b3f5-d5093c2a6570"
      },
      "execution_count": null,
      "outputs": [
        {
          "output_type": "stream",
          "name": "stdout",
          "text": [
            "                     Tên  Mã số               Trường cấp 2  Nguyện vọng 1  \\\n",
            "0           QUÁCH KIM HÀ  60132             THCS Phú Cường              6   \n",
            "1       PHẠM TRÚC PHƯƠNG  60421        THCS Trần Đại Nghĩa              6   \n",
            "2         TRẦN KHẢ DOANH  60075    THCS-THPT Nguyễn Khuyến              6   \n",
            "3      NGUYỄN MAI PHƯƠNG  60417        THCS Trần Đại Nghĩa              6   \n",
            "4          TRẦN MINH THY  60558  THCS Nguyễn Thị Minh Khai              6   \n",
            "..                   ...    ...                        ...            ...   \n",
            "636        TRẦN NHẬT ANH  60032       THCS Nguyễn Văn Tiết              6   \n",
            "637  DOÃN THỊ PHƯƠNG ANH  60017            THCS Bình Chiểu              6   \n",
            "638       CÙ THỊ GIA HÂN  60151     THCS Nguyễn Trung Trực              6   \n",
            "639      NGUYỄN TƯỜNG VY  60622        THCS Trịnh Hoài Đức              6   \n",
            "640         LƯU QUANG ĐÔ  60108        THCS Trịnh Hoài Đức              6   \n",
            "\n",
            "     Nguyện vọng 2  Điểm cộng   Văn   Anh  Toán   Tổng  Xếp hạng  \n",
            "0              2.0        3.0  9.00   8.9  8.75  29.65         1  \n",
            "1              7.0        2.0  8.75   9.6  9.25  29.60         2  \n",
            "2              7.0        2.0  8.25   9.6  9.25  29.10         3  \n",
            "3              7.0        NaN  8.75  10.0  9.25  28.00         4  \n",
            "4              2.0        2.0  8.25   9.7  8.00  27.95         5  \n",
            "..             ...        ...   ...   ...   ...    ...       ...  \n",
            "636            8.0        NaN  6.75   3.9  2.75  13.40       637  \n",
            "637           30.0        NaN  6.25   3.6  3.50  13.35       638  \n",
            "638            8.0        NaN  6.00   3.5  3.25  12.75       639  \n",
            "639            8.0        NaN  6.25   3.2  3.00  12.45       640  \n",
            "640           30.0        NaN  5.50   2.4  3.75  11.65       641  \n",
            "\n",
            "[641 rows x 11 columns]\n",
            "                 Tên  Mã số               Trường cấp 2  Nguyện vọng 1  \\\n",
            "0       QUÁCH KIM HÀ  60132             THCS Phú Cường              6   \n",
            "1   PHẠM TRÚC PHƯƠNG  60421        THCS Trần Đại Nghĩa              6   \n",
            "2     TRẦN KHẢ DOANH  60075    THCS-THPT Nguyễn Khuyến              6   \n",
            "3  NGUYỄN MAI PHƯƠNG  60417        THCS Trần Đại Nghĩa              6   \n",
            "4      TRẦN MINH THY  60558  THCS Nguyễn Thị Minh Khai              6   \n",
            "\n",
            "   Nguyện vọng 2  Điểm cộng   Văn   Anh  Toán   Tổng  Xếp hạng  \n",
            "0            2.0        3.0  9.00   8.9  8.75  29.65         1  \n",
            "1            7.0        2.0  8.75   9.6  9.25  29.60         2  \n",
            "2            7.0        2.0  8.25   9.6  9.25  29.10         3  \n",
            "3            7.0        NaN  8.75  10.0  9.25  28.00         4  \n",
            "4            2.0        2.0  8.25   9.7  8.00  27.95         5  \n"
          ]
        }
      ]
    },
    {
      "cell_type": "code",
      "source": [
        "\n",
        "data = dataset.to_numpy()\n",
        "print(data.shape)"
      ],
      "metadata": {
        "colab": {
          "base_uri": "https://localhost:8080/"
        },
        "id": "UUqrMiccDTyl",
        "outputId": "1bc45f3b-52a2-4e60-ae65-7ca113c4930a"
      },
      "execution_count": null,
      "outputs": [
        {
          "output_type": "stream",
          "name": "stdout",
          "text": [
            "(641, 11)\n"
          ]
        }
      ]
    },
    {
      "cell_type": "code",
      "source": [
        "\n",
        "print(data[0])"
      ],
      "metadata": {
        "colab": {
          "base_uri": "https://localhost:8080/"
        },
        "id": "hyx3l7OSD8Af",
        "outputId": "b5fbbd33-3a0f-41fe-983b-8ee056fca9cc"
      },
      "execution_count": null,
      "outputs": [
        {
          "output_type": "stream",
          "name": "stdout",
          "text": [
            "['QUÁCH KIM HÀ' 60132 'THCS Phú Cường' 6 2.0 3.0 9.0 8.9 8.75 29.65 1]\n"
          ]
        }
      ]
    },
    {
      "cell_type": "code",
      "source": [
        "\n",
        "\n",
        "print(data.dtype)\n"
      ],
      "metadata": {
        "colab": {
          "base_uri": "https://localhost:8080/"
        },
        "id": "_CnXqblGEC0u",
        "outputId": "817a7551-4675-4c93-b734-b279fa0c352d"
      },
      "execution_count": null,
      "outputs": [
        {
          "output_type": "stream",
          "name": "stdout",
          "text": [
            "object\n"
          ]
        }
      ]
    },
    {
      "cell_type": "code",
      "source": [
        "\n",
        "print(data[0].dtype)"
      ],
      "metadata": {
        "colab": {
          "base_uri": "https://localhost:8080/"
        },
        "id": "BBv3i_vDEEUY",
        "outputId": "780d693d-6fa2-49e8-8cd7-2e2f6d0f2e05"
      },
      "execution_count": null,
      "outputs": [
        {
          "output_type": "stream",
          "name": "stdout",
          "text": [
            "object\n"
          ]
        }
      ]
    },
    {
      "cell_type": "code",
      "source": [
        "\n",
        "np.nan_to_num([0.3, np.nan, 2.4])"
      ],
      "metadata": {
        "colab": {
          "base_uri": "https://localhost:8080/"
        },
        "id": "BSp7WJfhEFoR",
        "outputId": "2db21cf6-e401-496e-ba1f-0f9e95600e97"
      },
      "execution_count": null,
      "outputs": [
        {
          "output_type": "execute_result",
          "data": {
            "text/plain": [
              "array([0.3, 0. , 2.4])"
            ]
          },
          "metadata": {},
          "execution_count": 11
        }
      ]
    },
    {
      "cell_type": "code",
      "source": [
        "\n",
        "\n",
        "data[:, 5] = np.nan_to_num(data[:, 5].astype(float))\n",
        "print(data[:, 5])\n",
        "print(data[-1])"
      ],
      "metadata": {
        "colab": {
          "base_uri": "https://localhost:8080/"
        },
        "id": "QUgw__CVEJNZ",
        "outputId": "18bf116e-6782-41fa-dde3-d451ad01f5af"
      },
      "execution_count": null,
      "outputs": [
        {
          "output_type": "stream",
          "name": "stdout",
          "text": [
            "[3.0 2.0 2.0 0.0 2.0 0.0 2.0 0.0 0.0 2.0 2.0 0.0 1.0 0.0 0.0 2.0 2.0 1.0\n",
            " 0.0 1.0 0.0 0.0 0.0 0.0 2.0 2.0 2.0 0.0 2.0 0.0 0.0 2.0 0.0 0.0 0.0 0.0\n",
            " 0.0 0.0 0.0 0.0 2.0 0.0 2.0 0.0 2.0 0.0 2.5 0.0 0.0 0.0 2.0 0.0 0.0 0.0\n",
            " 0.0 0.0 0.0 0.0 0.0 1.0 0.0 0.0 0.0 1.0 0.0 0.0 0.0 0.0 0.0 0.0 0.0 0.0\n",
            " 1.0 0.0 2.0 0.0 1.0 0.0 1.0 2.0 0.0 0.0 0.0 0.0 0.0 2.0 0.0 2.0 1.0 0.0\n",
            " 1.0 0.0 1.0 0.0 1.0 0.0 0.0 1.0 0.0 1.0 2.0 0.0 0.0 0.0 0.0 0.0 2.0 0.0\n",
            " 0.0 1.0 0.0 0.0 0.0 0.0 1.0 1.0 1.0 0.0 1.0 0.0 0.0 0.0 1.0 0.0 2.0 0.0\n",
            " 0.0 2.0 0.0 0.0 0.0 0.0 0.0 0.0 0.0 0.0 1.0 1.0 0.0 0.0 1.0 0.0 0.0 0.0\n",
            " 0.0 1.0 0.0 2.0 0.0 0.0 0.0 2.0 2.0 1.0 1.0 0.0 0.0 0.0 0.0 2.0 0.0 0.0\n",
            " 1.0 0.0 1.0 0.0 0.0 0.0 0.0 0.0 0.0 0.0 2.0 1.0 0.0 0.0 0.0 0.0 0.0 0.0\n",
            " 2.0 0.0 2.0 0.0 0.0 0.0 0.0 0.0 0.0 0.0 1.0 0.0 0.0 1.0 0.0 0.0 0.0 0.0\n",
            " 0.0 0.0 0.0 1.0 2.0 0.0 0.0 0.0 0.0 2.0 0.0 1.0 0.0 0.0 0.0 1.0 0.0 0.0\n",
            " 0.0 0.0 1.0 0.0 0.0 0.0 0.0 0.0 0.0 1.0 0.0 0.0 0.0 0.0 0.0 1.0 0.0 0.0\n",
            " 1.0 1.0 1.0 0.0 0.0 0.0 0.0 0.0 0.0 0.0 0.0 0.0 0.0 1.0 0.0 0.0 0.0 0.0\n",
            " 2.0 1.0 0.0 0.0 0.0 0.0 0.0 0.0 0.0 0.0 0.0 1.0 0.0 0.0 2.0 0.0 0.0 0.0\n",
            " 1.5 0.0 1.0 0.0 0.0 0.0 0.0 2.0 0.0 0.0 0.0 0.0 0.0 0.0 0.0 0.0 1.0 0.0\n",
            " 0.0 0.0 1.0 0.0 0.0 0.0 0.0 2.0 0.0 0.0 0.0 0.0 0.0 0.0 0.0 0.0 0.0 0.0\n",
            " 1.0 0.0 0.0 0.0 0.0 0.0 0.0 0.0 2.0 0.0 0.0 0.0 0.0 0.0 0.0 0.0 0.0 0.0\n",
            " 0.0 0.0 0.0 0.0 0.0 0.0 0.0 0.0 0.0 0.0 0.0 0.0 0.0 0.0 0.0 1.0 0.0 0.0\n",
            " 0.0 0.0 0.0 0.0 0.0 1.0 0.0 0.0 0.0 0.0 0.0 0.0 0.0 0.0 0.0 2.0 0.0 0.0\n",
            " 0.0 0.0 1.0 0.0 0.0 0.0 0.0 0.0 0.0 1.0 1.0 0.0 0.0 0.0 0.0 0.0 0.0 0.0\n",
            " 0.0 0.0 0.0 0.0 0.0 0.0 0.0 0.0 0.0 0.0 0.0 0.0 0.0 0.0 0.0 0.0 0.0 0.0\n",
            " 0.0 0.0 0.0 0.0 0.0 0.0 0.0 0.0 0.0 0.0 0.0 0.0 0.0 0.0 0.0 0.0 0.0 1.0\n",
            " 0.0 0.0 0.0 0.0 0.0 0.0 0.0 0.0 0.0 0.0 0.0 0.0 0.0 1.0 0.0 0.0 0.0 1.0\n",
            " 0.0 0.0 0.0 1.0 0.0 0.0 0.0 0.0 0.0 0.0 0.0 0.0 0.0 0.0 0.0 0.0 0.0 0.0\n",
            " 0.0 0.0 0.0 0.0 0.0 0.0 0.0 0.0 0.0 0.0 0.0 0.0 0.0 0.0 0.0 0.0 0.0 0.0\n",
            " 0.0 0.0 0.0 0.0 0.0 0.0 0.0 0.0 0.0 0.0 0.0 0.0 0.0 0.0 0.0 0.0 0.0 0.0\n",
            " 0.0 0.0 0.0 0.0 1.0 0.0 0.0 0.0 0.0 0.0 0.0 0.0 0.0 0.0 0.0 0.0 1.0 0.0\n",
            " 0.0 0.0 0.0 0.0 0.0 0.0 0.0 0.0 0.0 0.0 0.0 0.0 0.0 0.0 0.0 0.0 0.0 0.0\n",
            " 0.0 0.0 0.0 0.0 0.0 0.0 0.0 0.0 0.0 0.0 0.0 0.0 1.0 1.0 1.0 0.0 0.0 0.0\n",
            " 0.0 0.0 0.0 0.0 0.0 0.0 0.0 0.0 0.0 0.0 0.0 0.0 0.0 1.0 0.0 0.0 0.0 0.0\n",
            " 0.0 0.0 0.0 0.0 0.0 0.0 0.0 0.0 0.0 0.0 0.0 0.0 0.0 0.0 0.0 0.0 0.0 0.0\n",
            " 0.0 0.0 0.0 0.0 0.0 0.0 0.0 0.0 0.0 0.0 0.0 0.0 0.0 0.0 1.0 0.0 0.0 0.0\n",
            " 0.0 0.0 0.0 0.0 0.0 0.0 0.0 1.0 1.0 0.0 0.0 0.0 0.0 0.0 0.0 0.0 0.0 0.0\n",
            " 0.0 0.0 0.0 0.0 0.0 0.0 0.0 0.0 0.0 1.0 0.0 0.0 0.0 1.0 0.0 0.0 0.0 0.0\n",
            " 0.0 0.0 0.0 0.0 0.0 0.0 0.0 0.0 0.0 0.0 0.0]\n",
            "['LƯU QUANG ĐÔ' 60108 'THCS Trịnh Hoài Đức' 6 30.0 0.0 5.5 2.4 3.75 11.65\n",
            " 641]\n"
          ]
        }
      ]
    },
    {
      "cell_type": "code",
      "source": [
        "\n",
        "## Đưa ra thông tin của bạn với mã số: 60457\n",
        "info_60457 = dataset[dataset['Mã số'] == 60457]\n",
        "print(\"Thông tin với mã số 60457:\")\n",
        "print(info_60457)"
      ],
      "metadata": {
        "colab": {
          "base_uri": "https://localhost:8080/"
        },
        "id": "11aXDezxEN76",
        "outputId": "f6eff554-9768-42ec-b0fa-103afd1294a3"
      },
      "execution_count": null,
      "outputs": [
        {
          "output_type": "stream",
          "name": "stdout",
          "text": [
            "Thông tin với mã số 60457:\n",
            "                      Tên  Mã số   Trường cấp 2  Nguyện vọng 1  Nguyện vọng 2  \\\n",
            "100  NGUYỄN LÊ PHƯƠNG TÂM  60457  THCS Phú Long              6            7.0   \n",
            "\n",
            "     Điểm cộng  Văn  Anh  Toán   Tổng  Xếp hạng  \n",
            "100        2.0  7.0  9.4  6.25  24.65       101  \n"
          ]
        }
      ]
    },
    {
      "cell_type": "code",
      "source": [
        "\n",
        "## Đưa ra thông tin của bạn với tên là: Nguyễn Đình Nhân\n",
        "info_name = dataset[dataset['Tên'] ==  'Nguyễn Đình Nhân']\n",
        "print(\"Thông tin của bạn Nguyễn Đình Nhân:\")\n",
        "print(info_name)"
      ],
      "metadata": {
        "colab": {
          "base_uri": "https://localhost:8080/"
        },
        "id": "pDCqeR-OERT0",
        "outputId": "e2a78aad-3451-42da-cee7-8dddef809f28"
      },
      "execution_count": null,
      "outputs": [
        {
          "output_type": "stream",
          "name": "stdout",
          "text": [
            "Thông tin của bạn Nguyễn Đình Nhân:\n",
            "Empty DataFrame\n",
            "Columns: [Tên, Mã số, Trường cấp 2, Nguyện vọng 1, Nguyện vọng 2, Điểm cộng, Văn, Anh, Toán, Tổng, Xếp hạng]\n",
            "Index: []\n"
          ]
        }
      ]
    },
    {
      "cell_type": "code",
      "source": [
        "## Đưa ra thông tin của các bạn từ mã số: 60004 đến  60200 (Bạn nào không có thì không cần đưa ra)\n",
        "info_60004_60200 = dataset[(dataset['Mã số'] >= 60004) & (dataset['Mã số'] <= 60200)]\n",
        "\n",
        "# Hiển thị thông tin\n",
        "print(\"Thông tin của các bạn từ mã số 60004 đến 60200:\")\n",
        "print(info_60004_60200)"
      ],
      "metadata": {
        "colab": {
          "base_uri": "https://localhost:8080/"
        },
        "id": "V0h4Q467ETE6",
        "outputId": "134cae41-a925-4304-cd33-e0f651dea2a2"
      },
      "execution_count": null,
      "outputs": [
        {
          "output_type": "stream",
          "name": "stdout",
          "text": [
            "Thông tin của các bạn từ mã số 60004 đến 60200:\n",
            "                     Tên  Mã số               Trường cấp 2  Nguyện vọng 1  \\\n",
            "0           QUÁCH KIM HÀ  60132             THCS Phú Cường              6   \n",
            "2         TRẦN KHẢ DOANH  60075    THCS-THPT Nguyễn Khuyến              6   \n",
            "5     PHẠM LỢI NGỌC HIỀN  60158         THCS Châu Văn Liêm              6   \n",
            "7         ĐẶNG MINH CHÂU  60067  THCS Nguyễn Thị Minh Khai              6   \n",
            "10         NGÔ MỸ GIA AN  60004    THCS-THPT Nguyễn Khuyến              6   \n",
            "..                   ...    ...                        ...            ...   \n",
            "634      NGUYỄN TUẤN ANH  60033            THCS Thanh Bình              6   \n",
            "636        TRẦN NHẬT ANH  60032       THCS Nguyễn Văn Tiết              6   \n",
            "637  DOÃN THỊ PHƯƠNG ANH  60017            THCS Bình Chiểu              6   \n",
            "638       CÙ THỊ GIA HÂN  60151     THCS Nguyễn Trung Trực              6   \n",
            "640         LƯU QUANG ĐÔ  60108        THCS Trịnh Hoài Đức              6   \n",
            "\n",
            "     Nguyện vọng 2  Điểm cộng   Văn  Anh  Toán   Tổng  Xếp hạng  \n",
            "0              2.0        3.0  9.00  8.9  8.75  29.65         1  \n",
            "2              7.0        2.0  8.25  9.6  9.25  29.10         3  \n",
            "5              7.0        NaN  8.50  9.9  9.50  27.90         6  \n",
            "7              2.0        NaN  9.00  9.9  9.00  27.90         8  \n",
            "10             2.0        2.0  7.50  9.3  8.75  27.55        11  \n",
            "..             ...        ...   ...  ...   ...    ...       ...  \n",
            "634            8.0        NaN  3.50  4.7  5.50  13.70       635  \n",
            "636            8.0        NaN  6.75  3.9  2.75  13.40       637  \n",
            "637           30.0        NaN  6.25  3.6  3.50  13.35       638  \n",
            "638            8.0        NaN  6.00  3.5  3.25  12.75       639  \n",
            "640           30.0        NaN  5.50  2.4  3.75  11.65       641  \n",
            "\n",
            "[197 rows x 11 columns]\n"
          ]
        }
      ]
    },
    {
      "cell_type": "code",
      "source": [
        "\n",
        "# Tính điểm trung bình cho từng sinh viên\n",
        "dataset['Điểm Trung Bình'] = dataset[['Văn', 'Anh', 'Toán']].mean(axis=1)\n",
        "\n",
        "# Hiển thị thông tin với cột Điểm Trung Bình mới thêm vào\n",
        "print(\"Thông tin với điểm trung bình:\")\n",
        "print(dataset[['Mã số', 'Tên', 'Văn', 'Anh', 'Toán', 'Điểm Trung Bình']])"
      ],
      "metadata": {
        "colab": {
          "base_uri": "https://localhost:8080/"
        },
        "id": "qruXVVZUEVXm",
        "outputId": "621f923d-b660-4cd7-e71c-a0b9182681ba"
      },
      "execution_count": null,
      "outputs": [
        {
          "output_type": "stream",
          "name": "stdout",
          "text": [
            "Thông tin với điểm trung bình:\n",
            "     Mã số                  Tên   Văn   Anh  Toán  Điểm Trung Bình\n",
            "0    60132         QUÁCH KIM HÀ  9.00   8.9  8.75         8.883333\n",
            "1    60421     PHẠM TRÚC PHƯƠNG  8.75   9.6  9.25         9.200000\n",
            "2    60075       TRẦN KHẢ DOANH  8.25   9.6  9.25         9.033333\n",
            "3    60417    NGUYỄN MAI PHƯƠNG  8.75  10.0  9.25         9.333333\n",
            "4    60558        TRẦN MINH THY  8.25   9.7  8.00         8.650000\n",
            "..     ...                  ...   ...   ...   ...              ...\n",
            "636  60032        TRẦN NHẬT ANH  6.75   3.9  2.75         4.466667\n",
            "637  60017  DOÃN THỊ PHƯƠNG ANH  6.25   3.6  3.50         4.450000\n",
            "638  60151       CÙ THỊ GIA HÂN  6.00   3.5  3.25         4.250000\n",
            "639  60622      NGUYỄN TƯỜNG VY  6.25   3.2  3.00         4.150000\n",
            "640  60108         LƯU QUANG ĐÔ  5.50   2.4  3.75         3.883333\n",
            "\n",
            "[641 rows x 6 columns]\n"
          ]
        }
      ]
    },
    {
      "cell_type": "code",
      "source": [
        "\n",
        "# Tính điểm trung bình theo từng môn\n",
        "diemTB_van = dataset['Văn'].mean()\n",
        "diemTB_anh = dataset['Anh'].mean()\n",
        "diemTB_toan = dataset['Toán'].mean()\n",
        "\n",
        "# Hiển thị thông tin\n",
        "print(\"Điểm trung bình theo từng môn:\")\n",
        "print(\"Điểm Trung Bình Văn:\", diemTB_van)\n",
        "print(\"Điểm Trung Bình Anh:\", diemTB_anh)\n",
        "print(\"Điểm Trung Bình Toán:\", diemTB_toan)"
      ],
      "metadata": {
        "colab": {
          "base_uri": "https://localhost:8080/"
        },
        "id": "mm96691QEYPj",
        "outputId": "0786e20c-ff96-4a66-dd07-9fda8047bade"
      },
      "execution_count": null,
      "outputs": [
        {
          "output_type": "stream",
          "name": "stdout",
          "text": [
            "Điểm trung bình theo từng môn:\n",
            "Điểm Trung Bình Văn: 7.287051482059282\n",
            "Điểm Trung Bình Anh: 6.99625585023401\n",
            "Điểm Trung Bình Toán: 7.1080343213728545\n"
          ]
        }
      ]
    },
    {
      "cell_type": "code",
      "source": [
        "## Đưa ra điểm thi trung bình cao nhất và thấp nhất cho toàn bộ 3 môn.\n",
        "max_tong = max(diemTB_van, diemTB_anh, diemTB_toan)\n",
        "min_tong = min(diemTB_van, diemTB_anh, diemTB_toan)\n",
        "\n",
        "# Hiển thị thông tin\n",
        "print(\"Điểm Trung Bình Cao Nhất:\", max_tong)\n",
        "print(\"Điểm Trung Bình Thấp Nhất:\", min_tong)\n"
      ],
      "metadata": {
        "colab": {
          "base_uri": "https://localhost:8080/"
        },
        "id": "UAdpedS8EaiM",
        "outputId": "0a132891-8d84-4bab-bb9f-3d1ab44c0242"
      },
      "execution_count": null,
      "outputs": [
        {
          "output_type": "stream",
          "name": "stdout",
          "text": [
            "Điểm Trung Bình Cao Nhất: 7.287051482059282\n",
            "Điểm Trung Bình Thấp Nhất: 6.99625585023401\n"
          ]
        }
      ]
    },
    {
      "cell_type": "code",
      "source": [
        "\n",
        "## Xếp danh sách dựa vào điểm trung bình của môn Toán + Anh, tìm bạn có vị trí 100\n",
        "# Tính điểm trung bình của môn Toán + Anh\n",
        "dataset['Điểm Trung Bình Toán Anh'] = dataset[['Anh', 'Toán']].mean(axis=1)\n",
        "\n",
        "# Xếp danh sách theo điểm trung bình Toán + Anh\n",
        "dataset_sorted = dataset.sort_values(by='Điểm Trung Bình Toán Anh', ascending=False)\n",
        "\n",
        "# Hiển thị thông tin\n",
        "print(\"Danh sách xếp hạng theo điểm trung bình Toán + Anh:\")\n",
        "print(dataset_sorted[['Mã số', 'Tên', 'Điểm Trung Bình Toán Anh']])\n",
        "\n",
        "# Tìm bạn có vị trí 100\n",
        "student_at_rank_100 = dataset_sorted.iloc[99] if len(dataset_sorted) >= 100 else None\n",
        "\n",
        "# Hiển thị thông tin về bạn có vị trí 100\n",
        "if student_at_rank_100 is not None:\n",
        "    print(\"\\nThông tin của bạn có vị trí 100:\")\n",
        "    print(student_at_rank_100)\n",
        "else:\n",
        "    print(\"\\nKhông có đủ sinh viên để đạt đến vị trí 100.\")"
      ],
      "metadata": {
        "colab": {
          "base_uri": "https://localhost:8080/"
        },
        "id": "QstbSfE-EdPG",
        "outputId": "d3807fbf-1b47-4f5d-bb76-24343d0f4d45"
      },
      "execution_count": null,
      "outputs": [
        {
          "output_type": "stream",
          "name": "stdout",
          "text": [
            "Danh sách xếp hạng theo điểm trung bình Toán + Anh:\n",
            "     Mã số                  Tên  Điểm Trung Bình Toán Anh\n",
            "11   60169       NGUYỄN AN HOÀI                     9.750\n",
            "5    60158   PHẠM LỢI NGỌC HIỀN                     9.700\n",
            "3    60417    NGUYỄN MAI PHƯƠNG                     9.625\n",
            "8    60334         LÊ MINH NGỌC                     9.525\n",
            "23   60129        PHẠM THANH HÀ                     9.500\n",
            "..     ...                  ...                       ...\n",
            "637  60017  DOÃN THỊ PHƯƠNG ANH                     3.550\n",
            "638  60151       CÙ THỊ GIA HÂN                     3.375\n",
            "636  60032        TRẦN NHẬT ANH                     3.325\n",
            "639  60622      NGUYỄN TƯỜNG VY                     3.100\n",
            "640  60108         LƯU QUANG ĐÔ                     3.075\n",
            "\n",
            "[641 rows x 3 columns]\n",
            "\n",
            "Thông tin của bạn có vị trí 100:\n",
            "Tên                         NGUYỄN NGỌC QUỲNH ANH\n",
            "Mã số                                       60010\n",
            "Trường cấp 2                  THCS Trịnh Hoài Đức\n",
            "Nguyện vọng 1                                   6\n",
            "Nguyện vọng 2                                 8.0\n",
            "Điểm cộng                                     2.0\n",
            "Văn                                           7.5\n",
            "Anh                                           9.8\n",
            "Toán                                         6.75\n",
            "Tổng                                        26.05\n",
            "Xếp hạng                                       41\n",
            "Điểm Trung Bình                          8.016667\n",
            "Điểm Trung Bình Toán Anh                    8.275\n",
            "Name: 40, dtype: object\n"
          ]
        }
      ]
    },
    {
      "cell_type": "code",
      "source": [
        "\n",
        "\n",
        "## Giả sử 1 trường lấy toàn bộ 300 sinh viên, dựa theo\n",
        "## a) Điểm môn Toán từ cao xuống thấp\n",
        "## b) Điểm tổng 3 môn và điểm cộng từ cao xuống thấp\n",
        "## c) Điểm trung bình 3 môn từ cao xuống thấp\n",
        "## Đưa ra danh sách những bạn sinh viên được chọn vào trường đó.\n",
        "\n",
        "# a) Sắp xếp theo điểm môn Toán từ cao xuống thấp\n",
        "toan_sorted = dataset.sort_values(by='Toán', ascending=False)\n",
        "\n",
        "# Lấy 300 sinh viên đầu tiên\n",
        "selected_students_toan = toan_sorted.head(300)\n",
        "\n",
        "# Hiển thị thông tin\n",
        "print(\"Danh sách sinh viên được chọn dựa trên điểm môn Toán:\")\n",
        "print(selected_students_toan)"
      ],
      "metadata": {
        "colab": {
          "base_uri": "https://localhost:8080/"
        },
        "id": "awT24VFHEhfy",
        "outputId": "c8972ed1-a664-4077-e82a-bae37e91feb4"
      },
      "execution_count": null,
      "outputs": [
        {
          "output_type": "stream",
          "name": "stdout",
          "text": [
            "Danh sách sinh viên được chọn dựa trên điểm môn Toán:\n",
            "                            Tên  Mã số               Trường cấp 2  \\\n",
            "8                  LÊ MINH NGỌC  60334        THCS Trần Đại Nghĩa   \n",
            "23                PHẠM THANH HÀ  60129  THCS Nguyễn Thị Minh Khai   \n",
            "20                  LƯU MINH ÂN  60037        THCS Trần Đại Nghĩa   \n",
            "5            PHẠM LỢI NGỌC HIỀN  60158         THCS Châu Văn Liêm   \n",
            "11               NGUYỄN AN HOÀI  60169    THCS-THPT Nguyễn Khuyến   \n",
            "..                          ...    ...                        ...   \n",
            "346    NGUYỄN HUYỀN PHƯƠNG THẢO  60504          THCS Bình Thắng B   \n",
            "166         BÙI MINH KHÁNH ĐOAN  60107            THCS Chu Văn An   \n",
            "189  NGUYỄN TRƯỜNG THỤY ANH THƯ  60541        THCS Trịnh Hoài Đức   \n",
            "162            PHẠM PHƯƠNG ĐÔNG  60109       THCS Nguyễn Văn Tiết   \n",
            "342              MAI THANH BÌNH  60055        THCS Trịnh Hoài Đức   \n",
            "\n",
            "     Nguyện vọng 1  Nguyện vọng 2  Điểm cộng   Văn   Anh  Toán   Tổng  \\\n",
            "8                6            7.0        NaN  8.75   9.3  9.75  27.80   \n",
            "23               6            2.0        NaN  7.50   9.5  9.50  26.50   \n",
            "20               6            7.0        NaN  7.75   9.4  9.50  26.65   \n",
            "5                6            7.0        NaN  8.50   9.9  9.50  27.90   \n",
            "11               6            2.0        NaN  8.00  10.0  9.50  27.50   \n",
            "..             ...            ...        ...   ...   ...   ...    ...   \n",
            "346              6           30.0        NaN  6.25   8.0  7.25  21.50   \n",
            "166              6            2.0        NaN  7.50   8.9  7.25  23.65   \n",
            "189              6            8.0        NaN  8.50   7.6  7.25  23.35   \n",
            "162              6            7.0        1.0  6.75   8.7  7.25  23.70   \n",
            "342              6            7.0        NaN  7.00   7.3  7.25  21.55   \n",
            "\n",
            "     Xếp hạng  Điểm Trung Bình  Điểm Trung Bình Toán Anh  \n",
            "8           9         9.266667                     9.525  \n",
            "23         24         8.833333                     9.500  \n",
            "20         21         8.883333                     9.450  \n",
            "5           6         9.300000                     9.700  \n",
            "11         12         9.166667                     9.750  \n",
            "..        ...              ...                       ...  \n",
            "346       347         7.166667                     7.625  \n",
            "166       167         7.883333                     8.075  \n",
            "189       190         7.783333                     7.425  \n",
            "162       163         7.566667                     7.975  \n",
            "342       343         7.183333                     7.275  \n",
            "\n",
            "[300 rows x 13 columns]\n"
          ]
        }
      ]
    },
    {
      "cell_type": "code",
      "source": [
        "\n",
        "\n",
        "## Giả sử 1 trường lấy toàn bộ 300 sinh viên, dựa theo\n",
        "## a) Điểm môn Toán từ cao xuống thấp\n",
        "## b) Điểm tổng 3 môn và điểm cộng từ cao xuống thấp\n",
        "## c) Điểm trung bình 3 môn từ cao xuống thấp\n",
        "## Đưa ra danh sách những bạn sinh viên được chọn vào trường đó.\n",
        "\n",
        "# a) Sắp xếp theo điểm môn Toán từ cao xuống thấp\n",
        "toan_sorted = dataset.sort_values(by='Toán', ascending=False)\n",
        "\n",
        "# Lấy 300 sinh viên đầu tiên\n",
        "selected_students_toan = toan_sorted.head(300)\n",
        "\n",
        "# Hiển thị thông tin\n",
        "print(\"Danh sách sinh viên được chọn dựa trên điểm môn Toán:\")\n",
        "print(selected_students_toan)"
      ],
      "metadata": {
        "colab": {
          "base_uri": "https://localhost:8080/"
        },
        "id": "rvA3pQ18Eonp",
        "outputId": "b6f60a49-cf99-4799-8da4-37e253250f53"
      },
      "execution_count": null,
      "outputs": [
        {
          "output_type": "stream",
          "name": "stdout",
          "text": [
            "Danh sách sinh viên được chọn dựa trên điểm môn Toán:\n",
            "                            Tên  Mã số               Trường cấp 2  \\\n",
            "8                  LÊ MINH NGỌC  60334        THCS Trần Đại Nghĩa   \n",
            "23                PHẠM THANH HÀ  60129  THCS Nguyễn Thị Minh Khai   \n",
            "20                  LƯU MINH ÂN  60037        THCS Trần Đại Nghĩa   \n",
            "5            PHẠM LỢI NGỌC HIỀN  60158         THCS Châu Văn Liêm   \n",
            "11               NGUYỄN AN HOÀI  60169    THCS-THPT Nguyễn Khuyến   \n",
            "..                          ...    ...                        ...   \n",
            "346    NGUYỄN HUYỀN PHƯƠNG THẢO  60504          THCS Bình Thắng B   \n",
            "166         BÙI MINH KHÁNH ĐOAN  60107            THCS Chu Văn An   \n",
            "189  NGUYỄN TRƯỜNG THỤY ANH THƯ  60541        THCS Trịnh Hoài Đức   \n",
            "162            PHẠM PHƯƠNG ĐÔNG  60109       THCS Nguyễn Văn Tiết   \n",
            "342              MAI THANH BÌNH  60055        THCS Trịnh Hoài Đức   \n",
            "\n",
            "     Nguyện vọng 1  Nguyện vọng 2  Điểm cộng   Văn   Anh  Toán   Tổng  \\\n",
            "8                6            7.0        NaN  8.75   9.3  9.75  27.80   \n",
            "23               6            2.0        NaN  7.50   9.5  9.50  26.50   \n",
            "20               6            7.0        NaN  7.75   9.4  9.50  26.65   \n",
            "5                6            7.0        NaN  8.50   9.9  9.50  27.90   \n",
            "11               6            2.0        NaN  8.00  10.0  9.50  27.50   \n",
            "..             ...            ...        ...   ...   ...   ...    ...   \n",
            "346              6           30.0        NaN  6.25   8.0  7.25  21.50   \n",
            "166              6            2.0        NaN  7.50   8.9  7.25  23.65   \n",
            "189              6            8.0        NaN  8.50   7.6  7.25  23.35   \n",
            "162              6            7.0        1.0  6.75   8.7  7.25  23.70   \n",
            "342              6            7.0        NaN  7.00   7.3  7.25  21.55   \n",
            "\n",
            "     Xếp hạng  Điểm Trung Bình  Điểm Trung Bình Toán Anh  \n",
            "8           9         9.266667                     9.525  \n",
            "23         24         8.833333                     9.500  \n",
            "20         21         8.883333                     9.450  \n",
            "5           6         9.300000                     9.700  \n",
            "11         12         9.166667                     9.750  \n",
            "..        ...              ...                       ...  \n",
            "346       347         7.166667                     7.625  \n",
            "166       167         7.883333                     8.075  \n",
            "189       190         7.783333                     7.425  \n",
            "162       163         7.566667                     7.975  \n",
            "342       343         7.183333                     7.275  \n",
            "\n",
            "[300 rows x 13 columns]\n"
          ]
        }
      ]
    },
    {
      "cell_type": "code",
      "source": [
        "\n",
        "# c) Sắp xếp theo điểm trung bình 3 môn từ cao xuống thấp\n",
        "trung_binh_sorted = dataset.sort_values(by='Điểm Trung Bình', ascending=False)\n",
        "\n",
        "# Lấy 300 sinh viên đầu tiên\n",
        "selected_students_trung_binh = trung_binh_sorted.head(300)\n",
        "print(\"\\nDanh sách sinh viên được chọn dựa trên điểm trung bình 3 môn:\")\n",
        "print(selected_students_trung_binh)\n"
      ],
      "metadata": {
        "colab": {
          "base_uri": "https://localhost:8080/"
        },
        "id": "xKng6vU-EsJG",
        "outputId": "77df639a-0fbd-41a4-98ac-56e96e63f1dc"
      },
      "execution_count": null,
      "outputs": [
        {
          "output_type": "stream",
          "name": "stdout",
          "text": [
            "\n",
            "Danh sách sinh viên được chọn dựa trên điểm trung bình 3 môn:\n",
            "                      Tên  Mã số               Trường cấp 2  Nguyện vọng 1  \\\n",
            "3       NGUYỄN MAI PHƯƠNG  60417        THCS Trần Đại Nghĩa              6   \n",
            "5      PHẠM LỢI NGỌC HIỀN  60158         THCS Châu Văn Liêm              6   \n",
            "7          ĐẶNG MINH CHÂU  60067  THCS Nguyễn Thị Minh Khai              6   \n",
            "8            LÊ MINH NGỌC  60334        THCS Trần Đại Nghĩa              6   \n",
            "1        PHẠM TRÚC PHƯƠNG  60421        THCS Trần Đại Nghĩa              6   \n",
            "..                    ...    ...                        ...            ...   \n",
            "316     VŨ TRỊNH LINH NHI  60352              THCS Phú Long              6   \n",
            "152      NGUYỄN THÁI LONG  60268              THCS Phú Long              6   \n",
            "151  NGUYỄN THỊ THÙY TRÂM  60575        THCS Trịnh Hoài Đức              6   \n",
            "317  NGUYỄN TRẦN HOÀNG VI  60603        THCS Trần Đại Nghĩa              6   \n",
            "318    TRẦN TÔ THANH LIÊM  60245        THCS Trịnh Hoài Đức              6   \n",
            "\n",
            "     Nguyện vọng 2  Điểm cộng   Văn   Anh  Toán   Tổng  Xếp hạng  \\\n",
            "3              7.0        NaN  8.75  10.0  9.25  28.00         4   \n",
            "5              7.0        NaN  8.50   9.9  9.50  27.90         6   \n",
            "7              2.0        NaN  9.00   9.9  9.00  27.90         8   \n",
            "8              7.0        NaN  8.75   9.3  9.75  27.80         9   \n",
            "1              7.0        2.0  8.75   9.6  9.25  29.60         2   \n",
            "..             ...        ...   ...   ...   ...    ...       ...   \n",
            "316            7.0        NaN  7.00   6.6  8.25  21.85       317   \n",
            "152            7.0        2.0  7.50   8.1  6.25  23.85       153   \n",
            "151            8.0        2.0  5.75   8.6  7.50  23.85       152   \n",
            "317            7.0        NaN  7.25   8.3  6.25  21.80       318   \n",
            "318            8.0        NaN  6.25   8.8  6.75  21.80       319   \n",
            "\n",
            "     Điểm Trung Bình  Điểm Trung Bình Toán Anh  \n",
            "3           9.333333                     9.625  \n",
            "5           9.300000                     9.700  \n",
            "7           9.300000                     9.450  \n",
            "8           9.266667                     9.525  \n",
            "1           9.200000                     9.425  \n",
            "..               ...                       ...  \n",
            "316         7.283333                     7.425  \n",
            "152         7.283333                     7.175  \n",
            "151         7.283333                     8.050  \n",
            "317         7.266667                     7.275  \n",
            "318         7.266667                     7.775  \n",
            "\n",
            "[300 rows x 13 columns]\n"
          ]
        }
      ]
    },
    {
      "cell_type": "markdown",
      "source": [
        "## So sánh 2 bạn sinh viên mã số: 60575 và 60602 dựa trên tổng điểm 3 môn (không tính điểm cộng)\n"
      ],
      "metadata": {
        "id": "cDMd8t0EIK6s"
      }
    },
    {
      "cell_type": "code",
      "source": [
        "dataset.head()\n",
        "\n",
        "student_1 = dataset.loc[dataset['Mã số'] == 60575]\n",
        "student_2 = dataset.loc[dataset['Mã số'] == 60602]\n",
        "\n",
        "print(student_1['Văn'])\n",
        "print(student_1['Toán'])\n",
        "print(student_1['Anh'])\n",
        "\n"
      ],
      "metadata": {
        "colab": {
          "base_uri": "https://localhost:8080/"
        },
        "id": "uhELUI72Eyrs",
        "outputId": "4fa14bc3-c90d-42a7-f318-b1fb3d0b7e2f"
      },
      "execution_count": null,
      "outputs": [
        {
          "output_type": "stream",
          "name": "stdout",
          "text": [
            "151    5.75\n",
            "Name: Văn, dtype: float64\n",
            "151    7.5\n",
            "Name: Toán, dtype: float64\n",
            "151    8.6\n",
            "Name: Anh, dtype: float64\n"
          ]
        }
      ]
    },
    {
      "cell_type": "code",
      "source": [
        "student_1.values[0][0]"
      ],
      "metadata": {
        "colab": {
          "base_uri": "https://localhost:8080/",
          "height": 36
        },
        "id": "lh7VzlepIZRP",
        "outputId": "6f374eae-1bcc-4729-aa6c-fd36e33ad662"
      },
      "execution_count": null,
      "outputs": [
        {
          "output_type": "execute_result",
          "data": {
            "text/plain": [
              "'NGUYỄN THỊ THÙY TRÂM'"
            ],
            "application/vnd.google.colaboratory.intrinsic+json": {
              "type": "string"
            }
          },
          "metadata": {},
          "execution_count": 59
        }
      ]
    },
    {
      "cell_type": "code",
      "source": [
        "#tính điểm cho sinh viên thứ nhất\n",
        "total1 = student_1['Văn']+student_1['Toán']+student_1['Anh']\n",
        "total1"
      ],
      "metadata": {
        "colab": {
          "base_uri": "https://localhost:8080/"
        },
        "id": "ftVaFnRnF5fX",
        "outputId": "e0f8f4f3-e63a-45fe-a0c2-2edd7f01f4d8"
      },
      "execution_count": null,
      "outputs": [
        {
          "output_type": "execute_result",
          "data": {
            "text/plain": [
              "151    21.85\n",
              "dtype: float64"
            ]
          },
          "metadata": {},
          "execution_count": 51
        }
      ]
    },
    {
      "cell_type": "code",
      "source": [
        "#tính tổng điểm của sinh viên thứ 2\n",
        "total2 = student_2['Văn']+student_2['Toán']+student_2['Anh']\n",
        "total2"
      ],
      "metadata": {
        "colab": {
          "base_uri": "https://localhost:8080/"
        },
        "id": "JT9D--ViGSBL",
        "outputId": "4e9c5a5b-346e-4a1d-9481-ded4418c09ff"
      },
      "execution_count": null,
      "outputs": [
        {
          "output_type": "execute_result",
          "data": {
            "text/plain": [
              "191    23.3\n",
              "dtype: float64"
            ]
          },
          "metadata": {},
          "execution_count": 44
        }
      ]
    },
    {
      "cell_type": "code",
      "source": [
        "if total1.values[0] > total2.values[0]:\n",
        "  print('sinh viên có mã số 60575 có tổng điểm cao hơn')\n",
        "else:\n",
        "  print('sinh viên có mã số 60575 có tổng điểm thấp hơn')"
      ],
      "metadata": {
        "colab": {
          "base_uri": "https://localhost:8080/"
        },
        "id": "C_g_-OKsGZbI",
        "outputId": "9cd9d789-2393-44ad-f527-e7e3044ce57f"
      },
      "execution_count": null,
      "outputs": [
        {
          "output_type": "execute_result",
          "data": {
            "text/plain": [
              "21.85"
            ]
          },
          "metadata": {},
          "execution_count": 50
        }
      ]
    }
  ]
}