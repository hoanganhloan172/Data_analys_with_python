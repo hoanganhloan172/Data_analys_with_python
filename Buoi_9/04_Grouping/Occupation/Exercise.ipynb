{
  "cells": [
    {
      "cell_type": "markdown",
      "metadata": {
        "pycharm": {
          "name": "#%% md\n"
        },
        "id": "kpQ1oQVUymPo"
      },
      "source": [
        "# Occupation"
      ]
    },
    {
      "cell_type": "markdown",
      "metadata": {
        "pycharm": {
          "name": "#%% md\n"
        },
        "id": "j4D-2iRpymPr"
      },
      "source": [
        "### Introduction:\n",
        "\n",
        "Special thanks to: https://github.com/justmarkham for sharing the dataset and materials.\n",
        "\n",
        "### Step 1. Import the necessary libraries"
      ]
    },
    {
      "cell_type": "code",
      "execution_count": 1,
      "metadata": {
        "pycharm": {
          "name": "#%%\n"
        },
        "id": "jtOEkukWymPs"
      },
      "outputs": [],
      "source": [
        "import pandas as pd"
      ]
    },
    {
      "cell_type": "markdown",
      "metadata": {
        "pycharm": {
          "name": "#%% md\n"
        },
        "id": "SLZGsIwAymPs"
      },
      "source": [
        "### Step 2. Import the dataset from this [address](https://raw.githubusercontent.com/thieu1995/csv-files/main/data/pandas/u.user)."
      ]
    },
    {
      "cell_type": "markdown",
      "metadata": {
        "pycharm": {
          "name": "#%% md\n"
        },
        "id": "4IKbBPfMymPs"
      },
      "source": [
        "### Step 3. Assign it to a variable called users."
      ]
    },
    {
      "cell_type": "code",
      "execution_count": 3,
      "metadata": {
        "pycharm": {
          "name": "#%%\n"
        },
        "id": "ut6SilsCymPs",
        "outputId": "008a644d-50ae-401c-d0ca-ce6d0cb6de1c",
        "colab": {
          "base_uri": "https://localhost:8080/"
        }
      },
      "outputs": [
        {
          "output_type": "stream",
          "name": "stdout",
          "text": [
            "   user_id  age gender  occupation zip_code\n",
            "0        1   24      M  technician    85711\n",
            "1        2   53      F       other    94043\n",
            "2        3   23      M      writer    32067\n",
            "3        4   24      M  technician    43537\n",
            "4        5   33      F       other    15213\n"
          ]
        }
      ],
      "source": [
        "url = \"https://raw.githubusercontent.com/thieu1995/csv-files/main/data/pandas/u.user\"\n",
        "\n",
        "user_data = pd.read_csv(url, sep='|')\n",
        "\n",
        "print(user_data.head())\n"
      ]
    },
    {
      "cell_type": "markdown",
      "metadata": {
        "pycharm": {
          "name": "#%% md\n"
        },
        "id": "lhlOLLZuymPt"
      },
      "source": [
        "### Step 4. Discover what is the mean age per occupation"
      ]
    },
    {
      "cell_type": "code",
      "execution_count": 4,
      "metadata": {
        "pycharm": {
          "name": "#%%\n"
        },
        "id": "c7CUXWFbymPt",
        "outputId": "cb08248c-5499-4b76-b9ec-f5e48319ce01",
        "colab": {
          "base_uri": "https://localhost:8080/"
        }
      },
      "outputs": [
        {
          "output_type": "stream",
          "name": "stdout",
          "text": [
            "Mean age per occupation:\n",
            "occupation\n",
            "administrator    38.746835\n",
            "artist           31.392857\n",
            "doctor           43.571429\n",
            "educator         42.010526\n",
            "engineer         36.388060\n",
            "entertainment    29.222222\n",
            "executive        38.718750\n",
            "healthcare       41.562500\n",
            "homemaker        32.571429\n",
            "lawyer           36.750000\n",
            "librarian        40.000000\n",
            "marketing        37.615385\n",
            "none             26.555556\n",
            "other            34.523810\n",
            "programmer       33.121212\n",
            "retired          63.071429\n",
            "salesman         35.666667\n",
            "scientist        35.548387\n",
            "student          22.081633\n",
            "technician       33.148148\n",
            "writer           36.311111\n",
            "Name: age, dtype: float64\n"
          ]
        }
      ],
      "source": [
        "mean_age_per_occupation = user_data.groupby('occupation')['age'].mean()\n",
        "\n",
        "print(\"Mean age per occupation:\")\n",
        "print(mean_age_per_occupation)"
      ]
    },
    {
      "cell_type": "markdown",
      "metadata": {
        "pycharm": {
          "name": "#%% md\n"
        },
        "id": "5d3Qd5NLymPt"
      },
      "source": [
        "### Step 5. Discover the Male ratio per occupation and sort it from the most to the least"
      ]
    },
    {
      "cell_type": "code",
      "execution_count": 5,
      "metadata": {
        "pycharm": {
          "name": "#%%\n"
        },
        "id": "WBF6vu-xymPt",
        "outputId": "f480dc71-1d2d-4854-a8f4-8cbc66e6ebc9",
        "colab": {
          "base_uri": "https://localhost:8080/"
        }
      },
      "outputs": [
        {
          "output_type": "stream",
          "name": "stdout",
          "text": [
            "Male ratio per occupation (sorted from most to least):\n",
            "occupation\n",
            "doctor           1.000000\n",
            "engineer         0.970149\n",
            "technician       0.962963\n",
            "retired          0.928571\n",
            "programmer       0.909091\n",
            "executive        0.906250\n",
            "scientist        0.903226\n",
            "entertainment    0.888889\n",
            "lawyer           0.833333\n",
            "salesman         0.750000\n",
            "educator         0.726316\n",
            "student          0.693878\n",
            "other            0.657143\n",
            "marketing        0.615385\n",
            "writer           0.577778\n",
            "none             0.555556\n",
            "administrator    0.544304\n",
            "artist           0.535714\n",
            "librarian        0.431373\n",
            "healthcare       0.312500\n",
            "homemaker        0.142857\n",
            "Name: gender, dtype: float64\n"
          ]
        }
      ],
      "source": [
        "male_ratio_per_occupation = user_data.groupby('occupation')['gender'].apply(lambda x: (x == 'M').mean())\n",
        "\n",
        "male_ratio_per_occupation_sorted = male_ratio_per_occupation.sort_values(ascending=False)\n",
        "\n",
        "print(\"Male ratio per occupation (sorted from most to least):\")\n",
        "print(male_ratio_per_occupation_sorted)"
      ]
    },
    {
      "cell_type": "markdown",
      "metadata": {
        "pycharm": {
          "name": "#%% md\n"
        },
        "id": "yhq64K70ymPt"
      },
      "source": [
        "### Step 6. For each occupation, calculate the minimum and maximum ages"
      ]
    },
    {
      "cell_type": "code",
      "execution_count": 6,
      "metadata": {
        "pycharm": {
          "name": "#%%\n"
        },
        "id": "GcQA9T03ymPu",
        "outputId": "09916855-9c0a-482f-c4fe-0998fab205ee",
        "colab": {
          "base_uri": "https://localhost:8080/"
        }
      },
      "outputs": [
        {
          "output_type": "stream",
          "name": "stdout",
          "text": [
            "Minimum and maximum ages for each occupation:\n",
            "               min  max\n",
            "occupation             \n",
            "administrator   21   70\n",
            "artist          19   48\n",
            "doctor          28   64\n",
            "educator        23   63\n",
            "engineer        22   70\n",
            "entertainment   15   50\n",
            "executive       22   69\n",
            "healthcare      22   62\n",
            "homemaker       20   50\n",
            "lawyer          21   53\n",
            "librarian       23   69\n",
            "marketing       24   55\n",
            "none            11   55\n",
            "other           13   64\n",
            "programmer      20   63\n",
            "retired         51   73\n",
            "salesman        18   66\n",
            "scientist       23   55\n",
            "student          7   42\n",
            "technician      21   55\n",
            "writer          18   60\n"
          ]
        }
      ],
      "source": [
        "min_max_age_per_occupation = user_data.groupby('occupation')['age'].agg(['min', 'max'])\n",
        "\n",
        "print(\"Minimum and maximum ages for each occupation:\")\n",
        "print(min_max_age_per_occupation)"
      ]
    },
    {
      "cell_type": "markdown",
      "metadata": {
        "pycharm": {
          "name": "#%% md\n"
        },
        "id": "lcCL3YszymPu"
      },
      "source": [
        "### Step 7. For each combination of occupation and gender, calculate the mean age"
      ]
    },
    {
      "cell_type": "code",
      "execution_count": 7,
      "metadata": {
        "pycharm": {
          "name": "#%%\n"
        },
        "id": "4WDrvVDPymPu",
        "outputId": "d9459467-1554-4090-b9f5-8669b7ae2064",
        "colab": {
          "base_uri": "https://localhost:8080/"
        }
      },
      "outputs": [
        {
          "output_type": "stream",
          "name": "stdout",
          "text": [
            "Mean age for each combination of occupation and gender:\n",
            "occupation     gender\n",
            "administrator  F         40.638889\n",
            "               M         37.162791\n",
            "artist         F         30.307692\n",
            "               M         32.333333\n",
            "doctor         M         43.571429\n",
            "educator       F         39.115385\n",
            "               M         43.101449\n",
            "engineer       F         29.500000\n",
            "               M         36.600000\n",
            "entertainment  F         31.000000\n",
            "               M         29.000000\n",
            "executive      F         44.000000\n",
            "               M         38.172414\n",
            "healthcare     F         39.818182\n",
            "               M         45.400000\n",
            "homemaker      F         34.166667\n",
            "               M         23.000000\n",
            "lawyer         F         39.500000\n",
            "               M         36.200000\n",
            "librarian      F         40.000000\n",
            "               M         40.000000\n",
            "marketing      F         37.200000\n",
            "               M         37.875000\n",
            "none           F         36.500000\n",
            "               M         18.600000\n",
            "other          F         35.472222\n",
            "               M         34.028986\n",
            "programmer     F         32.166667\n",
            "               M         33.216667\n",
            "retired        F         70.000000\n",
            "               M         62.538462\n",
            "salesman       F         27.000000\n",
            "               M         38.555556\n",
            "scientist      F         28.333333\n",
            "               M         36.321429\n",
            "student        F         20.750000\n",
            "               M         22.669118\n",
            "technician     F         38.000000\n",
            "               M         32.961538\n",
            "writer         F         37.631579\n",
            "               M         35.346154\n",
            "Name: age, dtype: float64\n"
          ]
        }
      ],
      "source": [
        "mean_age_per_occupation_gender = user_data.groupby(['occupation', 'gender'])['age'].mean()\n",
        "\n",
        "\n",
        "print(\"Mean age for each combination of occupation and gender:\")\n",
        "print(mean_age_per_occupation_gender)"
      ]
    },
    {
      "cell_type": "markdown",
      "metadata": {
        "pycharm": {
          "name": "#%% md\n"
        },
        "id": "y4HbDoAqymPu"
      },
      "source": [
        "### Step 8.  For each occupation present the percentage of women and men"
      ]
    },
    {
      "cell_type": "code",
      "execution_count": 9,
      "metadata": {
        "pycharm": {
          "name": "#%%\n"
        },
        "id": "HmJPjBd3ymPu",
        "outputId": "cc82b26b-00b1-4888-e965-0d8bfa42f0a9",
        "colab": {
          "base_uri": "https://localhost:8080/"
        }
      },
      "outputs": [
        {
          "output_type": "stream",
          "name": "stdout",
          "text": [
            "Percentage of women and men for each occupation:\n",
            "occupation     gender\n",
            "administrator  M          54.430380\n",
            "               F          45.569620\n",
            "artist         M          53.571429\n",
            "               F          46.428571\n",
            "doctor         M         100.000000\n",
            "educator       M          72.631579\n",
            "               F          27.368421\n",
            "engineer       M          97.014925\n",
            "               F           2.985075\n",
            "entertainment  M          88.888889\n",
            "               F          11.111111\n",
            "executive      M          90.625000\n",
            "               F           9.375000\n",
            "healthcare     F          68.750000\n",
            "               M          31.250000\n",
            "homemaker      F          85.714286\n",
            "               M          14.285714\n",
            "lawyer         M          83.333333\n",
            "               F          16.666667\n",
            "librarian      F          56.862745\n",
            "               M          43.137255\n",
            "marketing      M          61.538462\n",
            "               F          38.461538\n",
            "none           M          55.555556\n",
            "               F          44.444444\n",
            "other          M          65.714286\n",
            "               F          34.285714\n",
            "programmer     M          90.909091\n",
            "               F           9.090909\n",
            "retired        M          92.857143\n",
            "               F           7.142857\n",
            "salesman       M          75.000000\n",
            "               F          25.000000\n",
            "scientist      M          90.322581\n",
            "               F           9.677419\n",
            "student        M          69.387755\n",
            "               F          30.612245\n",
            "technician     M          96.296296\n",
            "               F           3.703704\n",
            "writer         M          57.777778\n",
            "               F          42.222222\n",
            "Name: gender, dtype: float64\n"
          ]
        }
      ],
      "source": [
        "gender_percentage_per_occupation = user_data.groupby('occupation')['gender'].value_counts(normalize=True) * 100\n",
        "print(\"Percentage of women and men for each occupation:\")\n",
        "print(gender_percentage_per_occupation)"
      ]
    }
  ],
  "metadata": {
    "kernelspec": {
      "display_name": "Python 2",
      "language": "python",
      "name": "python2"
    },
    "language_info": {
      "codemirror_mode": {
        "name": "ipython",
        "version": 2
      },
      "file_extension": ".py",
      "mimetype": "text/x-python",
      "name": "python",
      "nbconvert_exporter": "python",
      "pygments_lexer": "ipython2",
      "version": "2.7.11"
    },
    "colab": {
      "provenance": []
    }
  },
  "nbformat": 4,
  "nbformat_minor": 0
}