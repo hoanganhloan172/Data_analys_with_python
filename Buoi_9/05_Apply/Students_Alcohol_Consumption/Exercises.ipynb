{
  "cells": [
    {
      "cell_type": "markdown",
      "metadata": {
        "pycharm": {
          "name": "#%% md\n"
        },
        "id": "M9034Wbi2PiO"
      },
      "source": [
        "# Student Alcohol Consumption"
      ]
    },
    {
      "cell_type": "markdown",
      "metadata": {
        "pycharm": {
          "name": "#%% md\n"
        },
        "id": "m2k54OBT2PiQ"
      },
      "source": [
        "### Introduction:\n",
        "\n",
        "This time you will download a dataset from the UCI.\n",
        "\n",
        "### Step 1. Import the necessary libraries"
      ]
    },
    {
      "cell_type": "code",
      "execution_count": 1,
      "metadata": {
        "pycharm": {
          "name": "#%%\n"
        },
        "id": "FjSAULu72PiR"
      },
      "outputs": [],
      "source": [
        "import pandas as pd"
      ]
    },
    {
      "cell_type": "markdown",
      "metadata": {
        "pycharm": {
          "name": "#%% md\n"
        },
        "id": "ZupjonSE2PiR"
      },
      "source": [
        "### Step 2. Import the dataset from this [address](https://raw.githubusercontent.com/thieu1995/csv-files/main/data/pandas/student-mat.csv)."
      ]
    },
    {
      "cell_type": "markdown",
      "metadata": {
        "pycharm": {
          "name": "#%% md\n"
        },
        "id": "TB2wwL2c2PiR"
      },
      "source": [
        "### Step 3. Assign it to a variable called df."
      ]
    },
    {
      "cell_type": "code",
      "execution_count": 2,
      "metadata": {
        "pycharm": {
          "name": "#%%\n"
        },
        "id": "PjH48Dcj2PiS",
        "outputId": "c22d58d3-08c6-46c3-e409-269497e53a85",
        "colab": {
          "base_uri": "https://localhost:8080/"
        }
      },
      "outputs": [
        {
          "output_type": "stream",
          "name": "stdout",
          "text": [
            "  school sex  age address famsize Pstatus  Medu  Fedu     Mjob      Fjob  ...  \\\n",
            "0     GP   F   18       U     GT3       A     4     4  at_home   teacher  ...   \n",
            "1     GP   F   17       U     GT3       T     1     1  at_home     other  ...   \n",
            "2     GP   F   15       U     LE3       T     1     1  at_home     other  ...   \n",
            "3     GP   F   15       U     GT3       T     4     2   health  services  ...   \n",
            "4     GP   F   16       U     GT3       T     3     3    other     other  ...   \n",
            "\n",
            "  famrel freetime  goout  Dalc  Walc health absences  G1  G2  G3  \n",
            "0      4        3      4     1     1      3        6   5   6   6  \n",
            "1      5        3      3     1     1      3        4   5   5   6  \n",
            "2      4        3      2     2     3      3       10   7   8  10  \n",
            "3      3        2      2     1     1      5        2  15  14  15  \n",
            "4      4        3      2     1     2      5        4   6  10  10  \n",
            "\n",
            "[5 rows x 33 columns]\n"
          ]
        }
      ],
      "source": [
        "url = \"https://raw.githubusercontent.com/thieu1995/csv-files/main/data/pandas/student-mat.csv\"\n",
        "\n",
        "df = pd.read_csv(url)\n",
        "\n",
        "print(df.head())"
      ]
    },
    {
      "cell_type": "markdown",
      "metadata": {
        "pycharm": {
          "name": "#%% md\n"
        },
        "id": "3fspa2yP2PiS"
      },
      "source": [
        "### Step 4. For the purpose of this exercise slice the dataframe from 'school' until the 'guardian' column"
      ]
    },
    {
      "cell_type": "code",
      "execution_count": 3,
      "metadata": {
        "pycharm": {
          "name": "#%%\n"
        },
        "id": "PSXWVwCA2PiS",
        "outputId": "d42fc5ab-69bd-446d-88f3-57b344584c8e",
        "colab": {
          "base_uri": "https://localhost:8080/"
        }
      },
      "outputs": [
        {
          "output_type": "stream",
          "name": "stdout",
          "text": [
            "    school sex  age address famsize Pstatus  Medu  Fedu      Mjob      Fjob  \\\n",
            "0       GP   F   18       U     GT3       A     4     4   at_home   teacher   \n",
            "1       GP   F   17       U     GT3       T     1     1   at_home     other   \n",
            "2       GP   F   15       U     LE3       T     1     1   at_home     other   \n",
            "3       GP   F   15       U     GT3       T     4     2    health  services   \n",
            "4       GP   F   16       U     GT3       T     3     3     other     other   \n",
            "..     ...  ..  ...     ...     ...     ...   ...   ...       ...       ...   \n",
            "390     MS   M   20       U     LE3       A     2     2  services  services   \n",
            "391     MS   M   17       U     LE3       T     3     1  services  services   \n",
            "392     MS   M   21       R     GT3       T     1     1     other     other   \n",
            "393     MS   M   18       R     LE3       T     3     2  services     other   \n",
            "394     MS   M   19       U     LE3       T     1     1     other   at_home   \n",
            "\n",
            "     reason guardian  \n",
            "0    course   mother  \n",
            "1    course   father  \n",
            "2     other   mother  \n",
            "3      home   mother  \n",
            "4      home   father  \n",
            "..      ...      ...  \n",
            "390  course    other  \n",
            "391  course   mother  \n",
            "392  course    other  \n",
            "393  course   mother  \n",
            "394  course   father  \n",
            "\n",
            "[395 rows x 12 columns]\n"
          ]
        }
      ],
      "source": [
        "sliced_df = df.loc[:, 'school':'guardian']\n",
        "\n",
        "\n",
        "print(sliced_df)\n"
      ]
    },
    {
      "cell_type": "markdown",
      "metadata": {
        "pycharm": {
          "name": "#%% md\n"
        },
        "id": "Bv4gEKOM2PiS"
      },
      "source": [
        "### Step 5. Create a lambda function that will capitalize strings."
      ]
    },
    {
      "cell_type": "code",
      "execution_count": 4,
      "metadata": {
        "pycharm": {
          "name": "#%%\n"
        },
        "id": "PjY0Su862PiS",
        "outputId": "139e2c3c-fcab-413a-91a6-f0277c3a2579",
        "colab": {
          "base_uri": "https://localhost:8080/"
        }
      },
      "outputs": [
        {
          "output_type": "stream",
          "name": "stdout",
          "text": [
            "Hello\n",
            "Python\n"
          ]
        }
      ],
      "source": [
        "capitalize_string = lambda x: x.capitalize()\n",
        "\n",
        "print(capitalize_string(\"hello\"))  # Output: Hello\n",
        "print(capitalize_string(\"python\"))  # Output: Python\n"
      ]
    },
    {
      "cell_type": "markdown",
      "metadata": {
        "pycharm": {
          "name": "#%% md\n"
        },
        "id": "5D6DcBCR2PiS"
      },
      "source": [
        "### Step 6. Capitalize both Mjob and Fjob"
      ]
    },
    {
      "cell_type": "code",
      "execution_count": 5,
      "metadata": {
        "pycharm": {
          "name": "#%%\n"
        },
        "id": "VE4lFW4W2PiT",
        "outputId": "51d9a279-e9bc-4a93-af18-f5b35998357a",
        "colab": {
          "base_uri": "https://localhost:8080/"
        }
      },
      "outputs": [
        {
          "output_type": "stream",
          "name": "stdout",
          "text": [
            "      Mjob      Fjob\n",
            "0  At_home   Teacher\n",
            "1  At_home     Other\n",
            "2  At_home     Other\n",
            "3   Health  Services\n",
            "4    Other     Other\n"
          ]
        }
      ],
      "source": [
        "df[['Mjob', 'Fjob']] = df[['Mjob', 'Fjob']].applymap(lambda x: x.capitalize())\n",
        "\n",
        "print(df[['Mjob', 'Fjob']].head())\n"
      ]
    },
    {
      "cell_type": "markdown",
      "metadata": {
        "pycharm": {
          "name": "#%% md\n"
        },
        "id": "KmzlruAT2PiT"
      },
      "source": [
        "### Step 7. Print the last elements of the data set."
      ]
    },
    {
      "cell_type": "code",
      "execution_count": 6,
      "metadata": {
        "pycharm": {
          "name": "#%%\n"
        },
        "id": "wIrJINXy2PiT",
        "outputId": "16f9a99f-27ff-4172-ac30-0c1f3d48e6c0",
        "colab": {
          "base_uri": "https://localhost:8080/"
        }
      },
      "outputs": [
        {
          "output_type": "stream",
          "name": "stdout",
          "text": [
            "    school sex  age address famsize Pstatus  Medu  Fedu      Mjob      Fjob  \\\n",
            "390     MS   M   20       U     LE3       A     2     2  Services  Services   \n",
            "391     MS   M   17       U     LE3       T     3     1  Services  Services   \n",
            "392     MS   M   21       R     GT3       T     1     1     Other     Other   \n",
            "393     MS   M   18       R     LE3       T     3     2  Services     Other   \n",
            "394     MS   M   19       U     LE3       T     1     1     Other   At_home   \n",
            "\n",
            "     ... famrel freetime  goout  Dalc  Walc health absences  G1  G2  G3  \n",
            "390  ...      5        5      4     4     5      4       11   9   9   9  \n",
            "391  ...      2        4      5     3     4      2        3  14  16  16  \n",
            "392  ...      5        5      3     3     3      3        3  10   8   7  \n",
            "393  ...      4        4      1     3     4      5        0  11  12  10  \n",
            "394  ...      3        2      3     3     3      5        5   8   9   9  \n",
            "\n",
            "[5 rows x 33 columns]\n"
          ]
        }
      ],
      "source": [
        "print(df.tail())\n"
      ]
    },
    {
      "cell_type": "markdown",
      "metadata": {
        "pycharm": {
          "name": "#%% md\n"
        },
        "id": "cdcNj48V2PiT"
      },
      "source": [
        "### Step 8. Did you notice the original dataframe is still lowercase? Why is that? Fix it and capitalize Mjob and Fjob."
      ]
    },
    {
      "cell_type": "code",
      "execution_count": 7,
      "metadata": {
        "pycharm": {
          "name": "#%%\n"
        },
        "id": "jOF1VpoU2PiT",
        "outputId": "6e987c10-58ac-4afa-e63d-5dbcb73fe29a",
        "colab": {
          "base_uri": "https://localhost:8080/"
        }
      },
      "outputs": [
        {
          "output_type": "stream",
          "name": "stdout",
          "text": [
            "      Mjob      Fjob\n",
            "0  At_home   Teacher\n",
            "1  At_home     Other\n",
            "2  At_home     Other\n",
            "3   Health  Services\n",
            "4    Other     Other\n"
          ]
        }
      ],
      "source": [
        "df[['Mjob', 'Fjob']] = df[['Mjob', 'Fjob']].apply(lambda x: x.str.capitalize())\n",
        "\n",
        "print(df[['Mjob', 'Fjob']].head())\n"
      ]
    },
    {
      "cell_type": "markdown",
      "metadata": {
        "pycharm": {
          "name": "#%% md\n"
        },
        "id": "4oay-QhH2PiT"
      },
      "source": [
        "### Step 9. Create a function called majority that returns a boolean value to a new column called legal_drinker (Consider majority as older than 17 years old)"
      ]
    },
    {
      "cell_type": "code",
      "execution_count": 8,
      "metadata": {
        "pycharm": {
          "name": "#%%\n"
        },
        "id": "u1lejiW72PiU",
        "outputId": "cb3ea7e2-91f9-4550-ce5e-c9b53cef8144",
        "colab": {
          "base_uri": "https://localhost:8080/"
        }
      },
      "outputs": [
        {
          "output_type": "stream",
          "name": "stdout",
          "text": [
            "   age  legal_drinker\n",
            "0   18           True\n",
            "1   17          False\n",
            "2   15          False\n",
            "3   15          False\n",
            "4   16          False\n"
          ]
        }
      ],
      "source": [
        "def majority(age):\n",
        "    return age > 17\n",
        "\n",
        "df['legal_drinker'] = df['age'].apply(majority)\n",
        "\n",
        "print(df[['age', 'legal_drinker']].head())\n"
      ]
    },
    {
      "cell_type": "code",
      "execution_count": null,
      "metadata": {
        "pycharm": {
          "name": "#%%\n"
        },
        "id": "f9gBGoDL2PiU"
      },
      "outputs": [],
      "source": []
    },
    {
      "cell_type": "markdown",
      "metadata": {
        "pycharm": {
          "name": "#%% md\n"
        },
        "id": "QsaiIJ9a2PiU"
      },
      "source": [
        "### Step 10. Multiply every number of the dataset by 10.\n",
        "##### I know this makes no sense, don't forget it is just an exercise"
      ]
    },
    {
      "cell_type": "code",
      "execution_count": 9,
      "metadata": {
        "pycharm": {
          "name": "#%%\n"
        },
        "id": "XzqfTyrE2PiU",
        "outputId": "c4202aee-0195-40f8-f335-ca5deabe3589",
        "colab": {
          "base_uri": "https://localhost:8080/"
        }
      },
      "outputs": [
        {
          "output_type": "stream",
          "name": "stdout",
          "text": [
            "  school sex  age address famsize Pstatus  Medu  Fedu     Mjob      Fjob  ...  \\\n",
            "0     GP   F  180       U     GT3       A    40    40  At_home   Teacher  ...   \n",
            "1     GP   F  170       U     GT3       T    10    10  At_home     Other  ...   \n",
            "2     GP   F  150       U     LE3       T    10    10  At_home     Other  ...   \n",
            "3     GP   F  150       U     GT3       T    40    20   Health  Services  ...   \n",
            "4     GP   F  160       U     GT3       T    30    30    Other     Other  ...   \n",
            "\n",
            "  freetime goout  Dalc  Walc  health absences   G1   G2   G3 legal_drinker  \n",
            "0       30    40    10    10      30       60   50   60   60            10  \n",
            "1       30    30    10    10      30       40   50   50   60             0  \n",
            "2       30    20    20    30      30      100   70   80  100             0  \n",
            "3       20    20    10    10      50       20  150  140  150             0  \n",
            "4       30    20    10    20      50       40   60  100  100             0  \n",
            "\n",
            "[5 rows x 34 columns]\n"
          ]
        }
      ],
      "source": [
        "# Multiply every number in the dataset by 10\n",
        "df = df.applymap(lambda x: x * 10 if isinstance(x, (int, float)) else x)\n",
        "\n",
        "# Display the updated DataFrame\n",
        "print(df.head())\n"
      ]
    },
    {
      "cell_type": "code",
      "execution_count": null,
      "metadata": {
        "pycharm": {
          "name": "#%%\n"
        },
        "id": "U5EC4PyF2PiU"
      },
      "outputs": [],
      "source": []
    }
  ],
  "metadata": {
    "anaconda-cloud": {},
    "kernelspec": {
      "display_name": "Python [default]",
      "language": "python",
      "name": "python2"
    },
    "language_info": {
      "codemirror_mode": {
        "name": "ipython",
        "version": 2
      },
      "file_extension": ".py",
      "mimetype": "text/x-python",
      "name": "python",
      "nbconvert_exporter": "python",
      "pygments_lexer": "ipython2",
      "version": "2.7.12"
    },
    "colab": {
      "provenance": []
    }
  },
  "nbformat": 4,
  "nbformat_minor": 0
}