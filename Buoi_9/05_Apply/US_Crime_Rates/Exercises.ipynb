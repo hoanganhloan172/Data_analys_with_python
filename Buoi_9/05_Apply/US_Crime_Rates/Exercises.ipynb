{
  "cells": [
    {
      "cell_type": "markdown",
      "metadata": {
        "pycharm": {
          "name": "#%% md\n"
        },
        "id": "3i5WFHDC3ZZZ"
      },
      "source": [
        "# United States - Crime Rates - 1960 - 2014"
      ]
    },
    {
      "cell_type": "markdown",
      "metadata": {
        "pycharm": {
          "name": "#%% md\n"
        },
        "id": "lMS5Obg_3ZZb"
      },
      "source": [
        "### Introduction:\n",
        "\n",
        "This time you will create a data\n",
        "\n",
        "Special thanks to: https://github.com/justmarkham for sharing the dataset and materials.\n",
        "\n",
        "### Step 1. Import the necessary libraries"
      ]
    },
    {
      "cell_type": "code",
      "execution_count": 1,
      "metadata": {
        "pycharm": {
          "name": "#%%\n"
        },
        "id": "oiLbNmU43ZZc"
      },
      "outputs": [],
      "source": [
        "import pandas as pd\n"
      ]
    },
    {
      "cell_type": "markdown",
      "metadata": {
        "pycharm": {
          "name": "#%% md\n"
        },
        "id": "8_COMkQE3ZZc"
      },
      "source": [
        "### Step 2. Import the dataset from this [address](https://raw.githubusercontent.com/thieu1995/csv-files/main/data/pandas/US_Crime_Rates_1960_2014.csv)."
      ]
    },
    {
      "cell_type": "markdown",
      "metadata": {
        "pycharm": {
          "name": "#%% md\n"
        },
        "id": "tXuDYPbL3ZZc"
      },
      "source": [
        "### Step 3. Assign it to a variable called crime."
      ]
    },
    {
      "cell_type": "code",
      "execution_count": 2,
      "metadata": {
        "pycharm": {
          "name": "#%%\n"
        },
        "id": "ztTFccHt3ZZc",
        "outputId": "b41b9464-38bc-4ef9-fb60-62e97b7e63cd",
        "colab": {
          "base_uri": "https://localhost:8080/"
        }
      },
      "outputs": [
        {
          "output_type": "stream",
          "name": "stdout",
          "text": [
            "   Year  Population    Total  Violent  Property  Murder  Forcible_Rape  \\\n",
            "0  1960   179323175  3384200   288460   3095700    9110          17190   \n",
            "1  1961   182992000  3488000   289390   3198600    8740          17220   \n",
            "2  1962   185771000  3752200   301510   3450700    8530          17550   \n",
            "3  1963   188483000  4109500   316970   3792500    8640          17650   \n",
            "4  1964   191141000  4564600   364220   4200400    9360          21420   \n",
            "\n",
            "   Robbery  Aggravated_assault  Burglary  Larceny_Theft  Vehicle_Theft  \n",
            "0   107840              154320    912100        1855400         328200  \n",
            "1   106670              156760    949600        1913000         336000  \n",
            "2   110860              164570    994300        2089600         366800  \n",
            "3   116470              174210   1086400        2297800         408300  \n",
            "4   130390              203050   1213200        2514400         472800  \n"
          ]
        }
      ],
      "source": [
        "url = \"https://raw.githubusercontent.com/thieu1995/csv-files/main/data/pandas/US_Crime_Rates_1960_2014.csv\"\n",
        "crime = pd.read_csv(url)\n",
        "print(crime.head())"
      ]
    },
    {
      "cell_type": "markdown",
      "metadata": {
        "pycharm": {
          "name": "#%% md\n"
        },
        "id": "A0igDPTZ3ZZc"
      },
      "source": [
        "### Step 4. What is the type of the columns?"
      ]
    },
    {
      "cell_type": "code",
      "execution_count": 3,
      "metadata": {
        "pycharm": {
          "name": "#%%\n"
        },
        "id": "GNnrLaOx3ZZc",
        "outputId": "2d56fb73-c5fc-4190-b6ff-f2c534c9a911",
        "colab": {
          "base_uri": "https://localhost:8080/"
        }
      },
      "outputs": [
        {
          "output_type": "stream",
          "name": "stdout",
          "text": [
            "Year                  int64\n",
            "Population            int64\n",
            "Total                 int64\n",
            "Violent               int64\n",
            "Property              int64\n",
            "Murder                int64\n",
            "Forcible_Rape         int64\n",
            "Robbery               int64\n",
            "Aggravated_assault    int64\n",
            "Burglary              int64\n",
            "Larceny_Theft         int64\n",
            "Vehicle_Theft         int64\n",
            "dtype: object\n"
          ]
        }
      ],
      "source": [
        "column_types = crime.dtypes\n",
        "\n",
        "print(column_types)\n"
      ]
    },
    {
      "cell_type": "markdown",
      "metadata": {
        "pycharm": {
          "name": "#%% md\n"
        },
        "id": "8eEcqkUN3ZZc"
      },
      "source": [
        "##### Have you noticed that the type of Year is int64. But pandas has a different type to work with Time Series. Let's see it now.\n",
        "\n",
        "### Step 5. Convert the type of the column Year to datetime64"
      ]
    },
    {
      "cell_type": "code",
      "execution_count": 4,
      "metadata": {
        "pycharm": {
          "name": "#%%\n"
        },
        "id": "Fb4upc9w3ZZd",
        "outputId": "dfc237c5-91a7-444f-a05f-bf37f647502c",
        "colab": {
          "base_uri": "https://localhost:8080/"
        }
      },
      "outputs": [
        {
          "output_type": "stream",
          "name": "stdout",
          "text": [
            "Year                  datetime64[ns]\n",
            "Population                     int64\n",
            "Total                          int64\n",
            "Violent                        int64\n",
            "Property                       int64\n",
            "Murder                         int64\n",
            "Forcible_Rape                  int64\n",
            "Robbery                        int64\n",
            "Aggravated_assault             int64\n",
            "Burglary                       int64\n",
            "Larceny_Theft                  int64\n",
            "Vehicle_Theft                  int64\n",
            "dtype: object\n"
          ]
        }
      ],
      "source": [
        "crime['Year'] = pd.to_datetime(crime['Year'], format='%Y')\n",
        "\n",
        "print(crime.dtypes)\n"
      ]
    },
    {
      "cell_type": "markdown",
      "metadata": {
        "pycharm": {
          "name": "#%% md\n"
        },
        "id": "zoxd5jfc3ZZd"
      },
      "source": [
        "### Step 6. Set the Year column as the index of the dataframe"
      ]
    },
    {
      "cell_type": "code",
      "execution_count": 5,
      "metadata": {
        "pycharm": {
          "name": "#%%\n"
        },
        "id": "RdF6Z7MN3ZZd",
        "outputId": "e8f3bdf2-8c69-47e3-dd7f-a8c03caa7904",
        "colab": {
          "base_uri": "https://localhost:8080/"
        }
      },
      "outputs": [
        {
          "output_type": "stream",
          "name": "stdout",
          "text": [
            "            Population    Total  Violent  Property  Murder  Forcible_Rape  \\\n",
            "Year                                                                        \n",
            "1960-01-01   179323175  3384200   288460   3095700    9110          17190   \n",
            "1961-01-01   182992000  3488000   289390   3198600    8740          17220   \n",
            "1962-01-01   185771000  3752200   301510   3450700    8530          17550   \n",
            "1963-01-01   188483000  4109500   316970   3792500    8640          17650   \n",
            "1964-01-01   191141000  4564600   364220   4200400    9360          21420   \n",
            "\n",
            "            Robbery  Aggravated_assault  Burglary  Larceny_Theft  \\\n",
            "Year                                                               \n",
            "1960-01-01   107840              154320    912100        1855400   \n",
            "1961-01-01   106670              156760    949600        1913000   \n",
            "1962-01-01   110860              164570    994300        2089600   \n",
            "1963-01-01   116470              174210   1086400        2297800   \n",
            "1964-01-01   130390              203050   1213200        2514400   \n",
            "\n",
            "            Vehicle_Theft  \n",
            "Year                       \n",
            "1960-01-01         328200  \n",
            "1961-01-01         336000  \n",
            "1962-01-01         366800  \n",
            "1963-01-01         408300  \n",
            "1964-01-01         472800  \n"
          ]
        }
      ],
      "source": [
        "crime.set_index('Year', inplace=True)\n",
        "\n",
        "\n",
        "print(crime.head())\n"
      ]
    },
    {
      "cell_type": "markdown",
      "metadata": {
        "pycharm": {
          "name": "#%% md\n"
        },
        "id": "eSY_zmPS3ZZd"
      },
      "source": [
        "### Step 7. Delete the Total column"
      ]
    },
    {
      "cell_type": "code",
      "execution_count": 6,
      "metadata": {
        "pycharm": {
          "name": "#%%\n"
        },
        "id": "mHy6wmlp3ZZd",
        "outputId": "d959edb5-0734-4df4-f4bb-ab0b882c4352",
        "colab": {
          "base_uri": "https://localhost:8080/"
        }
      },
      "outputs": [
        {
          "output_type": "stream",
          "name": "stdout",
          "text": [
            "            Population  Violent  Property  Murder  Forcible_Rape  Robbery  \\\n",
            "Year                                                                        \n",
            "1960-01-01   179323175   288460   3095700    9110          17190   107840   \n",
            "1961-01-01   182992000   289390   3198600    8740          17220   106670   \n",
            "1962-01-01   185771000   301510   3450700    8530          17550   110860   \n",
            "1963-01-01   188483000   316970   3792500    8640          17650   116470   \n",
            "1964-01-01   191141000   364220   4200400    9360          21420   130390   \n",
            "\n",
            "            Aggravated_assault  Burglary  Larceny_Theft  Vehicle_Theft  \n",
            "Year                                                                    \n",
            "1960-01-01              154320    912100        1855400         328200  \n",
            "1961-01-01              156760    949600        1913000         336000  \n",
            "1962-01-01              164570    994300        2089600         366800  \n",
            "1963-01-01              174210   1086400        2297800         408300  \n",
            "1964-01-01              203050   1213200        2514400         472800  \n"
          ]
        }
      ],
      "source": [
        "crime.drop(columns='Total', inplace=True)\n",
        "\n",
        "\n",
        "print(crime.head())\n"
      ]
    },
    {
      "cell_type": "markdown",
      "metadata": {
        "pycharm": {
          "name": "#%% md\n"
        },
        "id": "Frdl4Qil3ZZd"
      },
      "source": [
        "### Step 8. Group the year by decades and sum the values\n",
        "\n",
        "#### Pay attention to the Population column number, summing this column is a mistake"
      ]
    },
    {
      "cell_type": "code",
      "execution_count": 7,
      "metadata": {
        "scrolled": true,
        "pycharm": {
          "name": "#%%\n"
        },
        "id": "qFiphVR33ZZd",
        "outputId": "c7425f08-105b-4983-f44e-cdfe7dbec81a",
        "colab": {
          "base_uri": "https://localhost:8080/"
        }
      },
      "outputs": [
        {
          "output_type": "stream",
          "name": "stdout",
          "text": [
            "            Population   Violent   Property  Murder  Forcible_Rape  Robbery  \\\n",
            "Year                                                                          \n",
            "1960-01-01  1915053175   4134930   45160900  106180         236720  1633510   \n",
            "1970-01-01  2121193298   9607930   91383800  192230         554570  4159020   \n",
            "1980-01-01  2371370069  14074328  117048900  206439         865639  5383109   \n",
            "1990-01-01  2612825258  17527048  119053499  211664         998827  5748930   \n",
            "2000-01-01  2947969117  13968056  100944369  163068         922499  4230366   \n",
            "2010-01-01  1570146307   6072017   44095950   72867         421059  1749809   \n",
            "\n",
            "            Aggravated_assault  Burglary  Larceny_Theft  Vehicle_Theft  \n",
            "Year                                                                    \n",
            "1960-01-01             2158520  13321100       26547700        5292100  \n",
            "1970-01-01             4702120  28486000       53157800        9739900  \n",
            "1980-01-01             7619130  33073494       72040253       11935411  \n",
            "1990-01-01            10568963  26750015       77679366       14624418  \n",
            "2000-01-01             8652124  21565176       67970291       11412834  \n",
            "2010-01-01             3764142  10125170       30401698        3569080  \n"
          ]
        }
      ],
      "source": [
        "crime_decades = crime.resample('10AS').sum()\n",
        "\n",
        "print(crime_decades)\n"
      ]
    },
    {
      "cell_type": "markdown",
      "metadata": {
        "pycharm": {
          "name": "#%% md\n"
        },
        "id": "kJjMMMOY3ZZd"
      },
      "source": [
        "### Step 9. What is the most dangerous decade to live in the US?"
      ]
    },
    {
      "cell_type": "code",
      "execution_count": 8,
      "metadata": {
        "pycharm": {
          "name": "#%%\n"
        },
        "id": "8l4uK_413ZZd",
        "outputId": "b1fe574a-a181-4956-cdce-160da0e13711",
        "colab": {
          "base_uri": "https://localhost:8080/"
        }
      },
      "outputs": [
        {
          "output_type": "stream",
          "name": "stdout",
          "text": [
            "The most dangerous decade to live in the US is: 2000-01-01 00:00:00\n"
          ]
        }
      ],
      "source": [
        "crime_decades['Total Crime Rate'] = crime_decades.sum(axis=1)\n",
        "\n",
        "most_dangerous_decade = crime_decades['Total Crime Rate'].idxmax()\n",
        "\n",
        "print(\"The most dangerous decade to live in the US is:\", most_dangerous_decade)\n"
      ]
    }
  ],
  "metadata": {
    "anaconda-cloud": {},
    "kernelspec": {
      "display_name": "Python [default]",
      "language": "python",
      "name": "python2"
    },
    "language_info": {
      "codemirror_mode": {
        "name": "ipython",
        "version": 2
      },
      "file_extension": ".py",
      "mimetype": "text/x-python",
      "name": "python",
      "nbconvert_exporter": "python",
      "pygments_lexer": "ipython2",
      "version": "2.7.12"
    },
    "colab": {
      "provenance": []
    }
  },
  "nbformat": 4,
  "nbformat_minor": 0
}