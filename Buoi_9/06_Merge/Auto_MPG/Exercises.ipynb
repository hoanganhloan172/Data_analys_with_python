{
  "cells": [
    {
      "cell_type": "markdown",
      "metadata": {
        "pycharm": {
          "name": "#%% md\n"
        },
        "id": "UB6S3lmN4r5O"
      },
      "source": [
        "# MPG Cars"
      ]
    },
    {
      "cell_type": "markdown",
      "metadata": {
        "pycharm": {
          "name": "#%% md\n"
        },
        "id": "waZZfunI4r5Q"
      },
      "source": [
        "### Introduction:\n",
        "\n",
        "The following exercise utilizes data from [UC Irvine Machine Learning Repository](https://archive.ics.uci.edu/ml/datasets/Auto+MPG)\n",
        "\n",
        "### Step 1. Import the necessary libraries"
      ]
    },
    {
      "cell_type": "code",
      "execution_count": 1,
      "metadata": {
        "pycharm": {
          "name": "#%%\n"
        },
        "id": "svT7THOL4r5Q"
      },
      "outputs": [],
      "source": [
        "import pandas as pd"
      ]
    },
    {
      "cell_type": "markdown",
      "metadata": {
        "pycharm": {
          "name": "#%% md\n"
        },
        "id": "GXXybEYL4r5R"
      },
      "source": [
        "### Step 2. Import the first dataset [cars1](https://raw.githubusercontent.com/thieu1995/csv-files/main/data/pandas/cars1.csv) and [cars2](https://raw.githubusercontent.com/thieu1995/csv-files/main/data/pandas/cars2.csv)."
      ]
    },
    {
      "cell_type": "code",
      "execution_count": 2,
      "outputs": [],
      "source": [
        "url_cars1 = \"https://raw.githubusercontent.com/thieu1995/csv-files/main/data/pandas/cars1.csv\"\n",
        "url_cars2 = \"https://raw.githubusercontent.com/thieu1995/csv-files/main/data/pandas/cars2.csv\""
      ],
      "metadata": {
        "pycharm": {
          "name": "#%%\n"
        },
        "id": "dWF5X8hg4r5R"
      }
    },
    {
      "cell_type": "markdown",
      "metadata": {
        "pycharm": {
          "name": "#%% md\n"
        },
        "id": "GbSA0dOD4r5R"
      },
      "source": [
        "   ### Step 3. Assign each to a variable called cars1 and cars2"
      ]
    },
    {
      "cell_type": "code",
      "execution_count": 3,
      "metadata": {
        "pycharm": {
          "name": "#%%\n"
        },
        "id": "6jVMIEIW4r5S"
      },
      "outputs": [],
      "source": [
        "cars1 = pd.read_csv(url_cars1)\n",
        "cars2 = pd.read_csv(url_cars2)\n"
      ]
    },
    {
      "cell_type": "markdown",
      "metadata": {
        "pycharm": {
          "name": "#%% md\n"
        },
        "id": "z5PnT2V64r5S"
      },
      "source": [
        "### Step 4. Oops, it seems our first dataset has some unnamed blank columns, fix cars1"
      ]
    },
    {
      "cell_type": "code",
      "execution_count": 4,
      "metadata": {
        "pycharm": {
          "name": "#%%\n"
        },
        "id": "jyKUQqiC4r5S",
        "outputId": "6f219d8b-e318-4faa-ffba-1b13cb968b4c",
        "colab": {
          "base_uri": "https://localhost:8080/"
        }
      },
      "outputs": [
        {
          "output_type": "stream",
          "name": "stdout",
          "text": [
            "      cylinders  displacement horsepower  weight  acceleration  model  origin  \\\n",
            "mpg                                                                             \n",
            "18.0          8           307        130    3504          12.0     70       1   \n",
            "15.0          8           350        165    3693          11.5     70       1   \n",
            "18.0          8           318        150    3436          11.0     70       1   \n",
            "16.0          8           304        150    3433          12.0     70       1   \n",
            "17.0          8           302        140    3449          10.5     70       1   \n",
            "\n",
            "                            car  Unnamed: 9  Unnamed: 10  Unnamed: 11  \\\n",
            "mpg                                                                     \n",
            "18.0  chevrolet chevelle malibu         NaN          NaN          NaN   \n",
            "15.0          buick skylark 320         NaN          NaN          NaN   \n",
            "18.0         plymouth satellite         NaN          NaN          NaN   \n",
            "16.0              amc rebel sst         NaN          NaN          NaN   \n",
            "17.0                ford torino         NaN          NaN          NaN   \n",
            "\n",
            "      Unnamed: 12  Unnamed: 13  \n",
            "mpg                             \n",
            "18.0          NaN          NaN  \n",
            "15.0          NaN          NaN  \n",
            "18.0          NaN          NaN  \n",
            "16.0          NaN          NaN  \n",
            "17.0          NaN          NaN  \n"
          ]
        }
      ],
      "source": [
        "cars1 = pd.read_csv(url_cars1, index_col=0)\n",
        "\n",
        "print(cars1.head())"
      ]
    },
    {
      "cell_type": "markdown",
      "metadata": {
        "pycharm": {
          "name": "#%% md\n"
        },
        "id": "JOZde5vP4r5S"
      },
      "source": [
        "### Step 5. What is the number of observations in each dataset?"
      ]
    },
    {
      "cell_type": "code",
      "execution_count": 5,
      "metadata": {
        "pycharm": {
          "name": "#%%\n"
        },
        "id": "lSRBrnxH4r5T",
        "outputId": "481cb32f-0ab3-4a27-a9f0-187e01af1275",
        "colab": {
          "base_uri": "https://localhost:8080/"
        }
      },
      "outputs": [
        {
          "output_type": "stream",
          "name": "stdout",
          "text": [
            "Number of observations in cars1 dataset: 198\n",
            "Number of observations in cars2 dataset: 200\n"
          ]
        }
      ],
      "source": [
        "num_observations_cars1 = cars1.shape[0]\n",
        "num_observations_cars2 = cars2.shape[0]\n",
        "\n",
        "print(\"Number of observations in cars1 dataset:\", num_observations_cars1)\n",
        "print(\"Number of observations in cars2 dataset:\", num_observations_cars2)"
      ]
    },
    {
      "cell_type": "markdown",
      "metadata": {
        "pycharm": {
          "name": "#%% md\n"
        },
        "id": "hvF9cqJW4r5T"
      },
      "source": [
        "### Step 6. Join cars1 and cars2 into a single DataFrame called cars"
      ]
    },
    {
      "cell_type": "code",
      "execution_count": 6,
      "metadata": {
        "pycharm": {
          "name": "#%%\n"
        },
        "id": "oeXhLEwG4r5T",
        "outputId": "a485653e-38d1-4b28-dab7-508a8438ec62",
        "colab": {
          "base_uri": "https://localhost:8080/"
        }
      },
      "outputs": [
        {
          "output_type": "stream",
          "name": "stdout",
          "text": [
            "   cylinders  displacement horsepower  weight  acceleration  model  origin  \\\n",
            "0          8           307        130    3504          12.0     70       1   \n",
            "1          8           350        165    3693          11.5     70       1   \n",
            "2          8           318        150    3436          11.0     70       1   \n",
            "3          8           304        150    3433          12.0     70       1   \n",
            "4          8           302        140    3449          10.5     70       1   \n",
            "\n",
            "                         car  Unnamed: 9  Unnamed: 10  Unnamed: 11  \\\n",
            "0  chevrolet chevelle malibu         NaN          NaN          NaN   \n",
            "1          buick skylark 320         NaN          NaN          NaN   \n",
            "2         plymouth satellite         NaN          NaN          NaN   \n",
            "3              amc rebel sst         NaN          NaN          NaN   \n",
            "4                ford torino         NaN          NaN          NaN   \n",
            "\n",
            "   Unnamed: 12  Unnamed: 13  mpg  \n",
            "0          NaN          NaN  NaN  \n",
            "1          NaN          NaN  NaN  \n",
            "2          NaN          NaN  NaN  \n",
            "3          NaN          NaN  NaN  \n",
            "4          NaN          NaN  NaN  \n"
          ]
        }
      ],
      "source": [
        "cars = pd.concat([cars1, cars2], ignore_index=True)\n",
        "\n",
        "print(cars.head())\n"
      ]
    },
    {
      "cell_type": "markdown",
      "metadata": {
        "pycharm": {
          "name": "#%% md\n"
        },
        "id": "Uknjcbk-4r5T"
      },
      "source": [
        "### Step 7. Oops, there is a column missing, called owners. Create a random number Series from 15,000 to 73,000."
      ]
    },
    {
      "cell_type": "code",
      "execution_count": 8,
      "metadata": {
        "pycharm": {
          "name": "#%%\n"
        },
        "id": "HvngxhaN4r5T",
        "outputId": "7586bd48-5b8a-45f8-e6b5-c63fd7699f0d",
        "colab": {
          "base_uri": "https://localhost:8080/"
        }
      },
      "outputs": [
        {
          "output_type": "stream",
          "name": "stdout",
          "text": [
            "   cylinders  displacement horsepower  weight  acceleration  model  origin  \\\n",
            "0          8           307        130    3504          12.0     70       1   \n",
            "1          8           350        165    3693          11.5     70       1   \n",
            "2          8           318        150    3436          11.0     70       1   \n",
            "3          8           304        150    3433          12.0     70       1   \n",
            "4          8           302        140    3449          10.5     70       1   \n",
            "\n",
            "                         car  Unnamed: 9  Unnamed: 10  Unnamed: 11  \\\n",
            "0  chevrolet chevelle malibu         NaN          NaN          NaN   \n",
            "1          buick skylark 320         NaN          NaN          NaN   \n",
            "2         plymouth satellite         NaN          NaN          NaN   \n",
            "3              amc rebel sst         NaN          NaN          NaN   \n",
            "4                ford torino         NaN          NaN          NaN   \n",
            "\n",
            "   Unnamed: 12  Unnamed: 13  mpg  owners  \n",
            "0          NaN          NaN  NaN   50160  \n",
            "1          NaN          NaN  NaN   25292  \n",
            "2          NaN          NaN  NaN   33466  \n",
            "3          NaN          NaN  NaN   42109  \n",
            "4          NaN          NaN  NaN   30762  \n"
          ]
        }
      ],
      "source": [
        "import numpy as np\n",
        "\n",
        "owners_series = np.random.randint(15000, 73001, size=len(cars))\n",
        "\n",
        "cars['owners'] = owners_series\n",
        "\n",
        "\n",
        "print(cars.head())\n"
      ]
    },
    {
      "cell_type": "markdown",
      "metadata": {
        "pycharm": {
          "name": "#%% md\n"
        },
        "id": "Dw39QrSe4r5U"
      },
      "source": [
        "### Step 8. Add the column owners to cars"
      ]
    },
    {
      "cell_type": "code",
      "execution_count": 9,
      "metadata": {
        "pycharm": {
          "name": "#%%\n"
        },
        "id": "sD-ijp8W4r5U",
        "outputId": "615e3c39-7608-40a5-bd5e-9e9dd4a14648",
        "colab": {
          "base_uri": "https://localhost:8080/"
        }
      },
      "outputs": [
        {
          "output_type": "stream",
          "name": "stdout",
          "text": [
            "   cylinders  displacement horsepower  weight  acceleration  model  origin  \\\n",
            "0          8           307        130    3504          12.0     70       1   \n",
            "1          8           350        165    3693          11.5     70       1   \n",
            "2          8           318        150    3436          11.0     70       1   \n",
            "3          8           304        150    3433          12.0     70       1   \n",
            "4          8           302        140    3449          10.5     70       1   \n",
            "\n",
            "                         car  Unnamed: 9  Unnamed: 10  Unnamed: 11  \\\n",
            "0  chevrolet chevelle malibu         NaN          NaN          NaN   \n",
            "1          buick skylark 320         NaN          NaN          NaN   \n",
            "2         plymouth satellite         NaN          NaN          NaN   \n",
            "3              amc rebel sst         NaN          NaN          NaN   \n",
            "4                ford torino         NaN          NaN          NaN   \n",
            "\n",
            "   Unnamed: 12  Unnamed: 13  mpg  owners  \n",
            "0          NaN          NaN  NaN   54632  \n",
            "1          NaN          NaN  NaN   63415  \n",
            "2          NaN          NaN  NaN   34087  \n",
            "3          NaN          NaN  NaN   52901  \n",
            "4          NaN          NaN  NaN   37701  \n"
          ]
        }
      ],
      "source": [
        "import numpy as np\n",
        "\n",
        "\n",
        "owners = np.random.randint(15000, 73001, size=len(cars))\n",
        "\n",
        "cars['owners'] = owners\n",
        "\n",
        "\n",
        "print(cars.head())\n"
      ]
    }
  ],
  "metadata": {
    "anaconda-cloud": {},
    "kernelspec": {
      "display_name": "Python [default]",
      "language": "python",
      "name": "python2"
    },
    "language_info": {
      "codemirror_mode": {
        "name": "ipython",
        "version": 2
      },
      "file_extension": ".py",
      "mimetype": "text/x-python",
      "name": "python",
      "nbconvert_exporter": "python",
      "pygments_lexer": "ipython2",
      "version": "2.7.12"
    },
    "colab": {
      "provenance": []
    }
  },
  "nbformat": 4,
  "nbformat_minor": 0
}