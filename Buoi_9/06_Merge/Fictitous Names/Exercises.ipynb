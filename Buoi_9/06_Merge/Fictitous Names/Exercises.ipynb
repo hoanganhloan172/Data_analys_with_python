{
  "cells": [
    {
      "cell_type": "markdown",
      "metadata": {
        "pycharm": {
          "name": "#%% md\n"
        },
        "id": "b3KptOHM6E3_"
      },
      "source": [
        "# Fictitious Names"
      ]
    },
    {
      "cell_type": "markdown",
      "metadata": {
        "pycharm": {
          "name": "#%% md\n"
        },
        "id": "gLfwtQnr6E4A"
      },
      "source": [
        "### Introduction:\n",
        "\n",
        "This time you will create a data again\n",
        "\n",
        "Special thanks to [Chris Albon](http://chrisalbon.com/) for sharing the dataset and materials.\n",
        "All the credits to this exercise belongs to him.  \n",
        "\n",
        "In order to understand about it go [here](https://blog.codinghorror.com/a-visual-explanation-of-sql-joins/).\n",
        "\n",
        "### Step 1. Import the necessary libraries"
      ]
    },
    {
      "cell_type": "code",
      "execution_count": 1,
      "metadata": {
        "pycharm": {
          "name": "#%%\n"
        },
        "id": "Gy_0RAAS6E4B"
      },
      "outputs": [],
      "source": [
        "import pandas as pd"
      ]
    },
    {
      "cell_type": "markdown",
      "metadata": {
        "pycharm": {
          "name": "#%% md\n"
        },
        "id": "rn2LK5x-6E4B"
      },
      "source": [
        "### Step 2. Create the 3 DataFrames based on the following raw data"
      ]
    },
    {
      "cell_type": "code",
      "execution_count": 2,
      "metadata": {
        "collapsed": true,
        "pycharm": {
          "name": "#%%\n"
        },
        "id": "VXTXxybP6E4B"
      },
      "outputs": [],
      "source": [
        "raw_data_1 = {\n",
        "        'subject_id': ['1', '2', '3', '4', '5'],\n",
        "        'first_name': ['Alex', 'Amy', 'Allen', 'Alice', 'Ayoung'],\n",
        "        'last_name': ['Anderson', 'Ackerman', 'Ali', 'Aoni', 'Atiches']}\n",
        "\n",
        "raw_data_2 = {\n",
        "        'subject_id': ['4', '5', '6', '7', '8'],\n",
        "        'first_name': ['Billy', 'Brian', 'Bran', 'Bryce', 'Betty'],\n",
        "        'last_name': ['Bonder', 'Black', 'Balwner', 'Brice', 'Btisan']}\n",
        "\n",
        "raw_data_3 = {\n",
        "        'subject_id': ['1', '2', '3', '4', '5', '7', '8', '9', '10', '11'],\n",
        "        'test_id': [51, 15, 15, 61, 16, 14, 15, 1, 61, 16]}"
      ]
    },
    {
      "cell_type": "markdown",
      "metadata": {
        "pycharm": {
          "name": "#%% md\n"
        },
        "id": "LLqdVl3p6E4C"
      },
      "source": [
        "### Step 3. Assign each to a variable called data1, data2, data3"
      ]
    },
    {
      "cell_type": "code",
      "execution_count": 3,
      "metadata": {
        "pycharm": {
          "name": "#%%\n"
        },
        "id": "d6fIi4DM6E4C",
        "outputId": "2b2acc87-1deb-4f9e-8afb-08f4baf2a754",
        "colab": {
          "base_uri": "https://localhost:8080/"
        }
      },
      "outputs": [
        {
          "output_type": "stream",
          "name": "stdout",
          "text": [
            "DataFrame 1:\n",
            "  subject_id first_name last_name\n",
            "0          1       Alex  Anderson\n",
            "1          2        Amy  Ackerman\n",
            "2          3      Allen       Ali\n",
            "3          4      Alice      Aoni\n",
            "4          5     Ayoung   Atiches\n",
            "\n",
            "DataFrame 2:\n",
            "  subject_id first_name last_name\n",
            "0          4      Billy    Bonder\n",
            "1          5      Brian     Black\n",
            "2          6       Bran   Balwner\n",
            "3          7      Bryce     Brice\n",
            "4          8      Betty    Btisan\n",
            "\n",
            "DataFrame 3:\n",
            "  subject_id  test_id\n",
            "0          1       51\n",
            "1          2       15\n",
            "2          3       15\n",
            "3          4       61\n",
            "4          5       16\n"
          ]
        }
      ],
      "source": [
        "raw_data_1 = {\n",
        "    'subject_id': ['1', '2', '3', '4', '5'],\n",
        "    'first_name': ['Alex', 'Amy', 'Allen', 'Alice', 'Ayoung'],\n",
        "    'last_name': ['Anderson', 'Ackerman', 'Ali', 'Aoni', 'Atiches']\n",
        "}\n",
        "\n",
        "raw_data_2 = {\n",
        "    'subject_id': ['4', '5', '6', '7', '8'],\n",
        "    'first_name': ['Billy', 'Brian', 'Bran', 'Bryce', 'Betty'],\n",
        "    'last_name': ['Bonder', 'Black', 'Balwner', 'Brice', 'Btisan']\n",
        "}\n",
        "\n",
        "raw_data_3 = {\n",
        "    'subject_id': ['1', '2', '3', '4', '5', '7', '8', '9', '10', '11'],\n",
        "    'test_id': [51, 15, 15, 61, 16, 14, 15, 1, 61, 16]\n",
        "}\n",
        "\n",
        "\n",
        "df1 = pd.DataFrame(raw_data_1)\n",
        "\n",
        "df2 = pd.DataFrame(raw_data_2)\n",
        "\n",
        "df3 = pd.DataFrame(raw_data_3)\n",
        "\n",
        "print(\"DataFrame 1:\")\n",
        "print(df1.head())\n",
        "print(\"\\nDataFrame 2:\")\n",
        "print(df2.head())\n",
        "print(\"\\nDataFrame 3:\")\n",
        "print(df3.head())\n"
      ]
    },
    {
      "cell_type": "markdown",
      "metadata": {
        "pycharm": {
          "name": "#%% md\n"
        },
        "id": "3xYkep4X6E4C"
      },
      "source": [
        "### Step 4. Join the two dataframes along rows and assign all_data"
      ]
    },
    {
      "cell_type": "code",
      "execution_count": 4,
      "metadata": {
        "pycharm": {
          "name": "#%%\n"
        },
        "id": "3ZgCLgQN6E4C",
        "outputId": "822b1baa-7b52-44d0-f43d-9e077414441e",
        "colab": {
          "base_uri": "https://localhost:8080/"
        }
      },
      "outputs": [
        {
          "output_type": "stream",
          "name": "stdout",
          "text": [
            "  subject_id first_name last_name\n",
            "0          1       Alex  Anderson\n",
            "1          2        Amy  Ackerman\n",
            "2          3      Allen       Ali\n",
            "3          4      Alice      Aoni\n",
            "4          5     Ayoung   Atiches\n",
            "5          4      Billy    Bonder\n",
            "6          5      Brian     Black\n",
            "7          6       Bran   Balwner\n",
            "8          7      Bryce     Brice\n",
            "9          8      Betty    Btisan\n"
          ]
        }
      ],
      "source": [
        "raw_data_1 = {\n",
        "    'subject_id': ['1', '2', '3', '4', '5'],\n",
        "    'first_name': ['Alex', 'Amy', 'Allen', 'Alice', 'Ayoung'],\n",
        "    'last_name': ['Anderson', 'Ackerman', 'Ali', 'Aoni', 'Atiches']\n",
        "}\n",
        "\n",
        "raw_data_2 = {\n",
        "    'subject_id': ['4', '5', '6', '7', '8'],\n",
        "    'first_name': ['Billy', 'Brian', 'Bran', 'Bryce', 'Betty'],\n",
        "    'last_name': ['Bonder', 'Black', 'Balwner', 'Brice', 'Btisan']\n",
        "}\n",
        "\n",
        "\n",
        "df1 = pd.DataFrame(raw_data_1)\n",
        "\n",
        "\n",
        "df2 = pd.DataFrame(raw_data_2)\n",
        "\n",
        "\n",
        "all_data = pd.concat([df1, df2], ignore_index=True)\n",
        "\n",
        "print(all_data)"
      ]
    },
    {
      "cell_type": "markdown",
      "metadata": {
        "pycharm": {
          "name": "#%% md\n"
        },
        "id": "MgV-r_jM6E4C"
      },
      "source": [
        "### Step 5. Join the two dataframes along columns and assing to all_data_col"
      ]
    },
    {
      "cell_type": "code",
      "execution_count": 5,
      "metadata": {
        "pycharm": {
          "name": "#%%\n"
        },
        "id": "2bTg9wr16E4C",
        "outputId": "07a7d2b8-8f30-4ada-9d10-618e23e2413f",
        "colab": {
          "base_uri": "https://localhost:8080/"
        }
      },
      "outputs": [
        {
          "output_type": "stream",
          "name": "stdout",
          "text": [
            "  subject_id first_name last_name subject_id first_name last_name\n",
            "0          1       Alex  Anderson          4      Billy    Bonder\n",
            "1          2        Amy  Ackerman          5      Brian     Black\n",
            "2          3      Allen       Ali          6       Bran   Balwner\n",
            "3          4      Alice      Aoni          7      Bryce     Brice\n",
            "4          5     Ayoung   Atiches          8      Betty    Btisan\n"
          ]
        }
      ],
      "source": [
        "all_data_col = pd.concat([df1, df2], axis=1)\n",
        "\n",
        "print(all_data_col)"
      ]
    },
    {
      "cell_type": "markdown",
      "metadata": {
        "pycharm": {
          "name": "#%% md\n"
        },
        "id": "-5Rvp58r6E4C"
      },
      "source": [
        "### Step 6. Print data3"
      ]
    },
    {
      "cell_type": "code",
      "execution_count": 6,
      "metadata": {
        "pycharm": {
          "name": "#%%\n"
        },
        "id": "j6Khk5Aw6E4C",
        "outputId": "053af551-32ba-48c1-f5b1-4fe64eec4f0f",
        "colab": {
          "base_uri": "https://localhost:8080/"
        }
      },
      "outputs": [
        {
          "output_type": "stream",
          "name": "stdout",
          "text": [
            "  subject_id  test_id\n",
            "0          1       51\n",
            "1          2       15\n",
            "2          3       15\n",
            "3          4       61\n",
            "4          5       16\n",
            "5          7       14\n",
            "6          8       15\n",
            "7          9        1\n",
            "8         10       61\n",
            "9         11       16\n"
          ]
        }
      ],
      "source": [
        "print(df3)"
      ]
    },
    {
      "cell_type": "markdown",
      "metadata": {
        "pycharm": {
          "name": "#%% md\n"
        },
        "id": "UdSJB6wr6E4D"
      },
      "source": [
        "### Step 7. Merge all_data and data3 along the subject_id value"
      ]
    },
    {
      "cell_type": "code",
      "execution_count": 7,
      "metadata": {
        "pycharm": {
          "name": "#%%\n"
        },
        "id": "NWfEIrny6E4D",
        "outputId": "c92f21be-4c5f-4a46-d553-744487369d96",
        "colab": {
          "base_uri": "https://localhost:8080/"
        }
      },
      "outputs": [
        {
          "output_type": "stream",
          "name": "stdout",
          "text": [
            "  subject_id first_name last_name  test_id\n",
            "0          1       Alex  Anderson       51\n",
            "1          2        Amy  Ackerman       15\n",
            "2          3      Allen       Ali       15\n",
            "3          4      Alice      Aoni       61\n",
            "4          4      Billy    Bonder       61\n",
            "5          5     Ayoung   Atiches       16\n",
            "6          5      Brian     Black       16\n",
            "7          7      Bryce     Brice       14\n",
            "8          8      Betty    Btisan       15\n"
          ]
        }
      ],
      "source": [
        "merged_data = pd.merge(all_data, df3, on='subject_id')\n",
        "print(merged_data)"
      ]
    },
    {
      "cell_type": "markdown",
      "metadata": {
        "pycharm": {
          "name": "#%% md\n"
        },
        "id": "nUzykR8n6E4D"
      },
      "source": [
        "### Step 8. Merge only the data that has the same 'subject_id' on both data1 and data2"
      ]
    },
    {
      "cell_type": "code",
      "execution_count": 9,
      "metadata": {
        "pycharm": {
          "name": "#%%\n"
        },
        "id": "YJaQ_97b6E4D",
        "outputId": "2c6b10ee-4200-4ef0-ca29-4b4c361e70a2",
        "colab": {
          "base_uri": "https://localhost:8080/"
        }
      },
      "outputs": [
        {
          "output_type": "stream",
          "name": "stdout",
          "text": [
            "  subject_id first_name last_name  test_id\n",
            "0          1       Alex  Anderson       51\n",
            "1          2        Amy  Ackerman       15\n",
            "2          3      Allen       Ali       15\n",
            "3          4      Alice      Aoni       61\n",
            "4          4      Billy    Bonder       61\n",
            "5          5     Ayoung   Atiches       16\n",
            "6          5      Brian     Black       16\n",
            "7          7      Bryce     Brice       14\n",
            "8          8      Betty    Btisan       15\n"
          ]
        }
      ],
      "source": [
        "\n",
        "merged_data_inner = pd.merge(all_data, df3, on='subject_id', how='inner')\n",
        "print(merged_data_inner)\n"
      ]
    },
    {
      "cell_type": "markdown",
      "metadata": {
        "pycharm": {
          "name": "#%% md\n"
        },
        "id": "lpXQXT8J6E4D"
      },
      "source": [
        "### Step 9. Merge all values in data1 and data2, with matching records from both sides where available."
      ]
    },
    {
      "cell_type": "code",
      "execution_count": 11,
      "metadata": {
        "pycharm": {
          "name": "#%%\n"
        },
        "id": "uFZU5EhV6E4D",
        "outputId": "d562f69d-6815-4664-b4f5-83b7a372f34a",
        "colab": {
          "base_uri": "https://localhost:8080/"
        }
      },
      "outputs": [
        {
          "output_type": "stream",
          "name": "stdout",
          "text": [
            "   subject_id first_name last_name  test_id\n",
            "0           1       Alex  Anderson     51.0\n",
            "1           2        Amy  Ackerman     15.0\n",
            "2           3      Allen       Ali     15.0\n",
            "3           4      Alice      Aoni     61.0\n",
            "4           4      Billy    Bonder     61.0\n",
            "5           5     Ayoung   Atiches     16.0\n",
            "6           5      Brian     Black     16.0\n",
            "7           6       Bran   Balwner      NaN\n",
            "8           7      Bryce     Brice     14.0\n",
            "9           8      Betty    Btisan     15.0\n",
            "10          9        NaN       NaN      1.0\n",
            "11         10        NaN       NaN     61.0\n",
            "12         11        NaN       NaN     16.0\n"
          ]
        }
      ],
      "source": [
        "merged_data_outer = pd.merge(all_data, df3, on='subject_id', how='outer')\n",
        "\n",
        "\n",
        "print(merged_data_outer)\n"
      ]
    }
  ],
  "metadata": {
    "kernelspec": {
      "display_name": "Python 2",
      "language": "python",
      "name": "python2"
    },
    "language_info": {
      "codemirror_mode": {
        "name": "ipython",
        "version": 2
      },
      "file_extension": ".py",
      "mimetype": "text/x-python",
      "name": "python",
      "nbconvert_exporter": "python",
      "pygments_lexer": "ipython2",
      "version": "2.7.11"
    },
    "colab": {
      "provenance": []
    }
  },
  "nbformat": 4,
  "nbformat_minor": 0
}