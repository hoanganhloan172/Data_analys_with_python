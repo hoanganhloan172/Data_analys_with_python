{
  "cells": [
    {
      "cell_type": "markdown",
      "metadata": {
        "pycharm": {
          "name": "#%% md\n"
        },
        "id": "3tAcpG8E7HE5"
      },
      "source": [
        "# Housing Market"
      ]
    },
    {
      "cell_type": "markdown",
      "metadata": {
        "pycharm": {
          "name": "#%% md\n"
        },
        "id": "nACM6cij7HE7"
      },
      "source": [
        "### Introduction:\n",
        "\n",
        "This time we will create our own dataset with fictional numbers to describe a house market. As we are going to create random data don't try to reason of the numbers.\n",
        "\n",
        "### Step 1. Import the necessary libraries"
      ]
    },
    {
      "cell_type": "code",
      "execution_count": 2,
      "metadata": {
        "pycharm": {
          "name": "#%%\n"
        },
        "id": "Q7r0Gtea7HE8"
      },
      "outputs": [],
      "source": [
        "import numpy as np\n",
        "import pandas as pd"
      ]
    },
    {
      "cell_type": "markdown",
      "metadata": {
        "pycharm": {
          "name": "#%% md\n"
        },
        "id": "P50S-XRU7HE8"
      },
      "source": [
        "### Step 2. Create 3 differents Series, each of length 100, as follows:\n",
        "1. The first a random number from 1 to 4\n",
        "2. The second a random number from 1 to 3\n",
        "3. The third a random number from 10,000 to 30,000"
      ]
    },
    {
      "cell_type": "code",
      "execution_count": 3,
      "metadata": {
        "pycharm": {
          "name": "#%%\n"
        },
        "id": "-YCC8ML97HE9",
        "outputId": "1d25c119-8e2e-410e-c658-838f914a5c51",
        "colab": {
          "base_uri": "https://localhost:8080/"
        }
      },
      "outputs": [
        {
          "output_type": "stream",
          "name": "stdout",
          "text": [
            "First Series:\n",
            "0    3\n",
            "1    4\n",
            "2    1\n",
            "3    3\n",
            "4    3\n",
            "dtype: int64\n",
            "\n",
            "Second Series:\n",
            "0    3\n",
            "1    2\n",
            "2    2\n",
            "3    2\n",
            "4    2\n",
            "dtype: int64\n",
            "\n",
            "Third Series:\n",
            "0    23931\n",
            "1    13627\n",
            "2    26157\n",
            "3    20173\n",
            "4    28047\n",
            "dtype: int64\n"
          ]
        }
      ],
      "source": [
        "np.random.seed(42)\n",
        "\n",
        "\n",
        "series1 = pd.Series(np.random.randint(1, 5, size=100))\n",
        "\n",
        "\n",
        "series2 = pd.Series(np.random.randint(1, 4, size=100))\n",
        "\n",
        "\n",
        "series3 = pd.Series(np.random.randint(10000, 30001, size=100))\n",
        "\n",
        "\n",
        "print(\"First Series:\")\n",
        "print(series1.head())\n",
        "print(\"\\nSecond Series:\")\n",
        "print(series2.head())\n",
        "print(\"\\nThird Series:\")\n",
        "print(series3.head())\n"
      ]
    },
    {
      "cell_type": "markdown",
      "metadata": {
        "pycharm": {
          "name": "#%% md\n"
        },
        "id": "b2ojbRFT7HE9"
      },
      "source": [
        "### Step 3. Let's create a DataFrame by joinning the Series by column"
      ]
    },
    {
      "cell_type": "code",
      "execution_count": 4,
      "metadata": {
        "pycharm": {
          "name": "#%%\n"
        },
        "id": "--fkmsk27HE9",
        "outputId": "1aecc091-25f6-4788-9633-0a86cdab77ac",
        "colab": {
          "base_uri": "https://localhost:8080/"
        }
      },
      "outputs": [
        {
          "output_type": "stream",
          "name": "stdout",
          "text": [
            "   0  1      2\n",
            "0  3  3  23931\n",
            "1  4  2  13627\n",
            "2  1  2  26157\n",
            "3  3  2  20173\n",
            "4  3  2  28047\n"
          ]
        }
      ],
      "source": [
        "df = pd.concat([series1, series2, series3], axis=1)\n",
        "print(df.head())\n"
      ]
    },
    {
      "cell_type": "markdown",
      "metadata": {
        "pycharm": {
          "name": "#%% md\n"
        },
        "id": "mkhyqTGF7HE9"
      },
      "source": [
        "### Step 4. Change the name of the columns to bedrs, bathrs, price_sqr_meter"
      ]
    },
    {
      "cell_type": "code",
      "execution_count": null,
      "metadata": {
        "pycharm": {
          "name": "#%%\n"
        },
        "id": "HWkDhXYd7HE9"
      },
      "outputs": [],
      "source": [
        "df = df.rename(columns={0: 'bedrs', 1: 'bathrs', 2: 'price_sqr_meter'})\n",
        "print(df.head())\n"
      ]
    },
    {
      "cell_type": "markdown",
      "metadata": {
        "pycharm": {
          "name": "#%% md\n"
        },
        "id": "XzQApLVV7HE9"
      },
      "source": [
        "### Step 5. Create a one column DataFrame with the values of the 3 Series and assign it to 'bigcolumn'"
      ]
    },
    {
      "cell_type": "code",
      "execution_count": 5,
      "metadata": {
        "pycharm": {
          "name": "#%%\n"
        },
        "id": "XM8pZBmZ7HE9",
        "outputId": "bf76121a-d5ba-4fc1-9e12-b972bd3df023",
        "colab": {
          "base_uri": "https://localhost:8080/"
        }
      },
      "outputs": [
        {
          "output_type": "stream",
          "name": "stdout",
          "text": [
            "   bigcolumn\n",
            "0          3\n",
            "1          4\n",
            "2          1\n",
            "3          3\n",
            "4          3\n"
          ]
        }
      ],
      "source": [
        "bigcolumn = pd.concat([series1, series2, series3])\n",
        "\n",
        "bigcolumn_df = pd.DataFrame(bigcolumn, columns=['bigcolumn'])\n",
        "\n",
        "print(bigcolumn_df.head())\n"
      ]
    },
    {
      "cell_type": "markdown",
      "metadata": {
        "pycharm": {
          "name": "#%% md\n"
        },
        "id": "mCKKERhz7HE-"
      },
      "source": [
        "### Step 6. Oops, it seems it is going only until index 99. Is it true?"
      ]
    },
    {
      "cell_type": "code",
      "execution_count": 6,
      "metadata": {
        "pycharm": {
          "name": "#%%\n"
        },
        "id": "vCGP7-hG7HE-",
        "outputId": "c2b36626-0e84-40d7-b0f4-0ae117b10261",
        "colab": {
          "base_uri": "https://localhost:8080/"
        }
      },
      "outputs": [
        {
          "output_type": "stream",
          "name": "stdout",
          "text": [
            "   bigcolumn\n",
            "0          3\n",
            "1          4\n",
            "2          1\n",
            "3          3\n",
            "4          3\n"
          ]
        }
      ],
      "source": [
        "bigcolumn_df = bigcolumn_df.reset_index(drop=True)\n",
        "\n",
        "\n",
        "print(bigcolumn_df.head())\n"
      ]
    },
    {
      "cell_type": "markdown",
      "metadata": {
        "pycharm": {
          "name": "#%% md\n"
        },
        "id": "Q0siO0b87HE-"
      },
      "source": [
        "### Step 7. Reindex the DataFrame so it goes from 0 to 299"
      ]
    },
    {
      "cell_type": "code",
      "execution_count": null,
      "metadata": {
        "pycharm": {
          "name": "#%%\n"
        },
        "id": "A0ELJSxj7HE-"
      },
      "outputs": [],
      "source": [
        "bigcolumn_df = bigcolumn_df.reset_index(drop=True)\n",
        "bigcolumn_df.index = range(300)\n",
        "\n",
        "print(bigcolumn_df.head())\n"
      ]
    }
  ],
  "metadata": {
    "kernelspec": {
      "display_name": "Python 2",
      "language": "python",
      "name": "python2"
    },
    "language_info": {
      "codemirror_mode": {
        "name": "ipython",
        "version": 2
      },
      "file_extension": ".py",
      "mimetype": "text/x-python",
      "name": "python",
      "nbconvert_exporter": "python",
      "pygments_lexer": "ipython2",
      "version": "2.7.11"
    },
    "colab": {
      "provenance": []
    }
  },
  "nbformat": 4,
  "nbformat_minor": 0
}