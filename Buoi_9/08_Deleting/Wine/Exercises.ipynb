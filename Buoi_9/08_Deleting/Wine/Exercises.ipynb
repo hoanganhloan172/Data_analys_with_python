{
  "cells": [
    {
      "cell_type": "markdown",
      "metadata": {
        "pycharm": {
          "name": "#%% md\n"
        },
        "id": "72tNq8NK9fFF"
      },
      "source": [
        "# Wine"
      ]
    },
    {
      "cell_type": "markdown",
      "metadata": {
        "pycharm": {
          "name": "#%% md\n"
        },
        "id": "9mpXyF3Y9fFG"
      },
      "source": [
        "### Introduction:\n",
        "\n",
        "This exercise is a adaptation from the UCI Wine dataset.\n",
        "The only pupose is to practice deleting data with pandas.\n",
        "\n",
        "### Step 1. Import the necessary libraries"
      ]
    },
    {
      "cell_type": "code",
      "execution_count": 2,
      "metadata": {
        "pycharm": {
          "name": "#%%\n"
        },
        "id": "itzMDd8Y9fFH"
      },
      "outputs": [],
      "source": [
        "import pandas as pd\n"
      ]
    },
    {
      "cell_type": "markdown",
      "metadata": {
        "pycharm": {
          "name": "#%% md\n"
        },
        "id": "9UMWYjLv9fFH"
      },
      "source": [
        "### Step 2. Import the dataset from this [address](https://archive.ics.uci.edu/ml/machine-learning-databases/wine/wine.data)."
      ]
    },
    {
      "cell_type": "markdown",
      "metadata": {
        "pycharm": {
          "name": "#%% md\n"
        },
        "id": "rRkpeOIo9fFH"
      },
      "source": [
        "### Step 3. Assign it to a variable called wine"
      ]
    },
    {
      "cell_type": "code",
      "execution_count": 3,
      "metadata": {
        "pycharm": {
          "name": "#%%\n"
        },
        "id": "Y682Ck0o9fFH",
        "outputId": "74704d8c-69fb-420a-96fa-2941daed5ce2",
        "colab": {
          "base_uri": "https://localhost:8080/"
        }
      },
      "outputs": [
        {
          "output_type": "stream",
          "name": "stdout",
          "text": [
            "   0      1     2     3     4    5     6     7     8     9     10    11    12  \\\n",
            "0   1  14.23  1.71  2.43  15.6  127  2.80  3.06  0.28  2.29  5.64  1.04  3.92   \n",
            "1   1  13.20  1.78  2.14  11.2  100  2.65  2.76  0.26  1.28  4.38  1.05  3.40   \n",
            "2   1  13.16  2.36  2.67  18.6  101  2.80  3.24  0.30  2.81  5.68  1.03  3.17   \n",
            "3   1  14.37  1.95  2.50  16.8  113  3.85  3.49  0.24  2.18  7.80  0.86  3.45   \n",
            "4   1  13.24  2.59  2.87  21.0  118  2.80  2.69  0.39  1.82  4.32  1.04  2.93   \n",
            "\n",
            "     13  \n",
            "0  1065  \n",
            "1  1050  \n",
            "2  1185  \n",
            "3  1480  \n",
            "4   735  \n"
          ]
        }
      ],
      "source": [
        "url = \"https://archive.ics.uci.edu/ml/machine-learning-databases/wine/wine.data\"\n",
        "\n",
        "wine = pd.read_csv(url, header=None)\n",
        "print(wine.head())\n"
      ]
    },
    {
      "cell_type": "markdown",
      "metadata": {
        "pycharm": {
          "name": "#%% md\n"
        },
        "id": "8ELnFfnB9fFI"
      },
      "source": [
        "### Step 4. Delete the first, fourth, seventh, nineth, eleventh, thirteenth and fourteenth columns"
      ]
    },
    {
      "cell_type": "code",
      "execution_count": 4,
      "metadata": {
        "pycharm": {
          "name": "#%%\n"
        },
        "id": "1BaZ34Y69fFI",
        "outputId": "4aa677a2-a0a3-4e99-9588-c98757776487",
        "colab": {
          "base_uri": "https://localhost:8080/"
        }
      },
      "outputs": [
        {
          "output_type": "stream",
          "name": "stdout",
          "text": [
            "      1     2     4    5     7     9     11\n",
            "0  14.23  1.71  15.6  127  3.06  2.29  1.04\n",
            "1  13.20  1.78  11.2  100  2.76  1.28  1.05\n",
            "2  13.16  2.36  18.6  101  3.24  2.81  1.03\n",
            "3  14.37  1.95  16.8  113  3.49  2.18  0.86\n",
            "4  13.24  2.59  21.0  118  2.69  1.82  1.04\n"
          ]
        }
      ],
      "source": [
        "columns_to_delete = [0, 3, 6, 8, 10, 12, 13]\n",
        "\n",
        "\n",
        "wine = wine.drop(columns=columns_to_delete)\n",
        "\n",
        "\n",
        "print(wine.head())\n"
      ]
    },
    {
      "cell_type": "markdown",
      "metadata": {
        "pycharm": {
          "name": "#%% md\n"
        },
        "id": "nw5ImIF19fFI"
      },
      "source": [
        "### Step 5. Assign the columns as below:\n",
        "\n",
        "The attributes are (donated by Riccardo Leardi, riclea '@' anchem.unige.it):  \n",
        "1) alcohol  \n",
        "2) malic_acid  \n",
        "3) alcalinity_of_ash  \n",
        "4) magnesium  \n",
        "5) flavanoids  \n",
        "6) proanthocyanins  \n",
        "7) hue"
      ]
    },
    {
      "cell_type": "code",
      "execution_count": 5,
      "metadata": {
        "pycharm": {
          "name": "#%%\n"
        },
        "id": "ZPgk58Ga9fFI",
        "outputId": "331dce10-e56e-4d7e-8d8b-5c80645e8ddd",
        "colab": {
          "base_uri": "https://localhost:8080/"
        }
      },
      "outputs": [
        {
          "output_type": "stream",
          "name": "stdout",
          "text": [
            "   alcohol  malic_acid  alcalinity_of_ash  magnesium  flavanoids  \\\n",
            "0    14.23        1.71               15.6        127        3.06   \n",
            "1    13.20        1.78               11.2        100        2.76   \n",
            "2    13.16        2.36               18.6        101        3.24   \n",
            "3    14.37        1.95               16.8        113        3.49   \n",
            "4    13.24        2.59               21.0        118        2.69   \n",
            "\n",
            "   proanthocyanins   hue  \n",
            "0             2.29  1.04  \n",
            "1             1.28  1.05  \n",
            "2             2.81  1.03  \n",
            "3             2.18  0.86  \n",
            "4             1.82  1.04  \n"
          ]
        }
      ],
      "source": [
        "wine.columns = ['alcohol', 'malic_acid', 'alcalinity_of_ash', 'magnesium', 'flavanoids', 'proanthocyanins', 'hue']\n",
        "\n",
        "\n",
        "print(wine.head())\n"
      ]
    },
    {
      "cell_type": "markdown",
      "metadata": {
        "pycharm": {
          "name": "#%% md\n"
        },
        "id": "tLlJYzrf9fFI"
      },
      "source": [
        "### Step 6. Set the values of the first 3 rows from alcohol as NaN"
      ]
    },
    {
      "cell_type": "code",
      "execution_count": 6,
      "metadata": {
        "pycharm": {
          "name": "#%%\n"
        },
        "id": "14bM-gZK9fFI",
        "outputId": "43fac894-ab11-40c4-a818-29406a52b136",
        "colab": {
          "base_uri": "https://localhost:8080/"
        }
      },
      "outputs": [
        {
          "output_type": "stream",
          "name": "stdout",
          "text": [
            "   alcohol  malic_acid  alcalinity_of_ash  magnesium  flavanoids  \\\n",
            "0      NaN        1.71               15.6        127        3.06   \n",
            "1      NaN        1.78               11.2        100        2.76   \n",
            "2      NaN        2.36               18.6        101        3.24   \n",
            "3    14.37        1.95               16.8        113        3.49   \n",
            "4    13.24        2.59               21.0        118        2.69   \n",
            "\n",
            "   proanthocyanins   hue  \n",
            "0             2.29  1.04  \n",
            "1             1.28  1.05  \n",
            "2             2.81  1.03  \n",
            "3             2.18  0.86  \n",
            "4             1.82  1.04  \n"
          ]
        }
      ],
      "source": [
        "wine.loc[:2, 'alcohol'] = None\n",
        "print(wine.head())\n"
      ]
    },
    {
      "cell_type": "markdown",
      "metadata": {
        "pycharm": {
          "name": "#%% md\n"
        },
        "id": "PbJVYuLi9fFI"
      },
      "source": [
        "### Step 7. Now set the value of the rows 3 and 4 of magnesium as NaN"
      ]
    },
    {
      "cell_type": "code",
      "execution_count": 7,
      "metadata": {
        "pycharm": {
          "name": "#%%\n"
        },
        "id": "Sqbz2CJB9fFI",
        "outputId": "3fba0e1d-fecc-47bc-ce1d-84923c845462",
        "colab": {
          "base_uri": "https://localhost:8080/"
        }
      },
      "outputs": [
        {
          "output_type": "stream",
          "name": "stdout",
          "text": [
            "   alcohol  malic_acid  alcalinity_of_ash  magnesium  flavanoids  \\\n",
            "0      NaN        1.71               15.6      127.0        3.06   \n",
            "1      NaN        1.78               11.2      100.0        2.76   \n",
            "2      NaN        2.36               18.6        NaN        3.24   \n",
            "3    14.37        1.95               16.8        NaN        3.49   \n",
            "4    13.24        2.59               21.0      118.0        2.69   \n",
            "\n",
            "   proanthocyanins   hue  \n",
            "0             2.29  1.04  \n",
            "1             1.28  1.05  \n",
            "2             2.81  1.03  \n",
            "3             2.18  0.86  \n",
            "4             1.82  1.04  \n"
          ]
        }
      ],
      "source": [
        "wine.loc[2:3, 'magnesium'] = None\n",
        "\n",
        "print(wine.head())\n"
      ]
    },
    {
      "cell_type": "markdown",
      "metadata": {
        "pycharm": {
          "name": "#%% md\n"
        },
        "id": "pTKR2WAC9fFJ"
      },
      "source": [
        "### Step 8. Fill the value of NaN with the number 10 in alcohol and 100 in magnesium"
      ]
    },
    {
      "cell_type": "code",
      "execution_count": 8,
      "metadata": {
        "pycharm": {
          "name": "#%%\n"
        },
        "id": "TBJWvm2Q9fFJ",
        "outputId": "f0b16125-0654-4aeb-f568-8eef5f206284",
        "colab": {
          "base_uri": "https://localhost:8080/"
        }
      },
      "outputs": [
        {
          "output_type": "stream",
          "name": "stdout",
          "text": [
            "   alcohol  malic_acid  alcalinity_of_ash  magnesium  flavanoids  \\\n",
            "0    10.00        1.71               15.6      127.0        3.06   \n",
            "1    10.00        1.78               11.2      100.0        2.76   \n",
            "2    10.00        2.36               18.6      100.0        3.24   \n",
            "3    14.37        1.95               16.8      100.0        3.49   \n",
            "4    13.24        2.59               21.0      118.0        2.69   \n",
            "\n",
            "   proanthocyanins   hue  \n",
            "0             2.29  1.04  \n",
            "1             1.28  1.05  \n",
            "2             2.81  1.03  \n",
            "3             2.18  0.86  \n",
            "4             1.82  1.04  \n"
          ]
        }
      ],
      "source": [
        "wine['alcohol'].fillna(10, inplace=True)\n",
        "\n",
        "wine['magnesium'].fillna(100, inplace=True)\n",
        "\n",
        "print(wine.head())\n"
      ]
    },
    {
      "cell_type": "markdown",
      "metadata": {
        "pycharm": {
          "name": "#%% md\n"
        },
        "id": "UXPJRMYe9fFJ"
      },
      "source": [
        "### Step 9. Count the number of missing values"
      ]
    },
    {
      "cell_type": "code",
      "execution_count": 9,
      "metadata": {
        "pycharm": {
          "name": "#%%\n"
        },
        "id": "-koVeNYE9fFJ",
        "outputId": "4ff6ace8-be3d-42e3-fc94-c53d741e5250",
        "colab": {
          "base_uri": "https://localhost:8080/"
        }
      },
      "outputs": [
        {
          "output_type": "stream",
          "name": "stdout",
          "text": [
            "alcohol              0\n",
            "malic_acid           0\n",
            "alcalinity_of_ash    0\n",
            "magnesium            0\n",
            "flavanoids           0\n",
            "proanthocyanins      0\n",
            "hue                  0\n",
            "dtype: int64\n"
          ]
        }
      ],
      "source": [
        "missing_values_count = wine.isna().sum()\n",
        "\n",
        "\n",
        "print(missing_values_count)\n"
      ]
    },
    {
      "cell_type": "markdown",
      "metadata": {
        "pycharm": {
          "name": "#%% md\n"
        },
        "id": "1LYXqlux9fFJ"
      },
      "source": [
        "### Step 10.  Create an array of 10 random numbers up until 10"
      ]
    },
    {
      "cell_type": "code",
      "execution_count": 11,
      "metadata": {
        "pycharm": {
          "name": "#%%\n"
        },
        "id": "akJ7AewU9fFJ",
        "outputId": "841248c9-0454-4957-f944-234345cdb831",
        "colab": {
          "base_uri": "https://localhost:8080/"
        }
      },
      "outputs": [
        {
          "output_type": "stream",
          "name": "stdout",
          "text": [
            "[3 7 2 1 3 8 2 7 6 5]\n"
          ]
        }
      ],
      "source": [
        "import numpy as np\n",
        "\n",
        "random_numbers = np.random.randint(0, 10, size=10)\n",
        "\n",
        "print(random_numbers)\n"
      ]
    },
    {
      "cell_type": "markdown",
      "metadata": {
        "pycharm": {
          "name": "#%% md\n"
        },
        "id": "a7YCrBqB9fFJ"
      },
      "source": [
        "### Step 11.  Use random numbers you generated as an index and assign NaN value to each of cell."
      ]
    },
    {
      "cell_type": "code",
      "execution_count": 13,
      "metadata": {
        "pycharm": {
          "name": "#%%\n"
        },
        "id": "h_JkZ8Ow9fFJ",
        "outputId": "9bb286e8-d996-4259-d255-017787cf4b59",
        "colab": {
          "base_uri": "https://localhost:8080/"
        }
      },
      "outputs": [
        {
          "output_type": "stream",
          "name": "stdout",
          "text": [
            "   alcohol  malic_acid  alcalinity_of_ash  magnesium  flavanoids  \\\n",
            "0    10.00        1.71               15.6      127.0        3.06   \n",
            "1      NaN         NaN                NaN        NaN         NaN   \n",
            "2      NaN         NaN                NaN        NaN         NaN   \n",
            "3      NaN         NaN                NaN        NaN         NaN   \n",
            "4    13.24        2.59               21.0      118.0        2.69   \n",
            "\n",
            "   proanthocyanins   hue  \n",
            "0             2.29  1.04  \n",
            "1              NaN   NaN  \n",
            "2              NaN   NaN  \n",
            "3              NaN   NaN  \n",
            "4             1.82  1.04  \n"
          ]
        }
      ],
      "source": [
        "wine.iloc[random_numbers] = np.nan\n",
        "\n",
        "print(wine.head())\n"
      ]
    },
    {
      "cell_type": "markdown",
      "metadata": {
        "pycharm": {
          "name": "#%% md\n"
        },
        "id": "NrkLOLR29fFJ"
      },
      "source": [
        "### Step 12.  How many missing values do we have?"
      ]
    },
    {
      "cell_type": "code",
      "execution_count": 15,
      "metadata": {
        "pycharm": {
          "name": "#%%\n"
        },
        "id": "DnZcerlr9fFJ",
        "outputId": "e7571969-2691-445b-a2f6-d9732e55b8c9",
        "colab": {
          "base_uri": "https://localhost:8080/"
        }
      },
      "outputs": [
        {
          "output_type": "stream",
          "name": "stdout",
          "text": [
            "Total number of missing values: 49\n"
          ]
        }
      ],
      "source": [
        "missing_values_count = wine.isna().sum().sum()\n",
        "\n",
        "print(\"Total number of missing values:\", missing_values_count)\n"
      ]
    },
    {
      "cell_type": "markdown",
      "metadata": {
        "pycharm": {
          "name": "#%% md\n"
        },
        "id": "SZ7Rqol89fFK"
      },
      "source": [
        "### Step 13. Delete the rows that contain missing values"
      ]
    },
    {
      "cell_type": "code",
      "execution_count": 16,
      "metadata": {
        "pycharm": {
          "name": "#%%\n"
        },
        "id": "p5WtILUq9fFK",
        "outputId": "8a7432d8-9187-4e70-8fd0-275657dcbfcb",
        "colab": {
          "base_uri": "https://localhost:8080/"
        }
      },
      "outputs": [
        {
          "output_type": "stream",
          "name": "stdout",
          "text": [
            "    alcohol  malic_acid  alcalinity_of_ash  magnesium  flavanoids  \\\n",
            "0     10.00        1.71               15.6      127.0        3.06   \n",
            "4     13.24        2.59               21.0      118.0        2.69   \n",
            "9     13.86        1.35               16.0       98.0        3.15   \n",
            "10    14.10        2.16               18.0      105.0        3.32   \n",
            "11    14.12        1.48               16.8       95.0        2.43   \n",
            "\n",
            "    proanthocyanins   hue  \n",
            "0              2.29  1.04  \n",
            "4              1.82  1.04  \n",
            "9              1.85  1.01  \n",
            "10             2.38  1.25  \n",
            "11             1.57  1.17  \n"
          ]
        }
      ],
      "source": [
        "wine.dropna(inplace=True)\n",
        "\n",
        "print(wine.head())\n"
      ]
    },
    {
      "cell_type": "markdown",
      "metadata": {
        "pycharm": {
          "name": "#%% md\n"
        },
        "id": "oioB6lSx9fFK"
      },
      "source": [
        "### Step 14. Print only the non-null values in alcohol"
      ]
    },
    {
      "cell_type": "code",
      "execution_count": 17,
      "metadata": {
        "pycharm": {
          "name": "#%%\n"
        },
        "id": "KFJYsGX29fFK",
        "outputId": "f7c99cef-5abd-4f69-913a-7aa49cb9215e",
        "colab": {
          "base_uri": "https://localhost:8080/"
        }
      },
      "outputs": [
        {
          "output_type": "stream",
          "name": "stdout",
          "text": [
            "0      10.00\n",
            "4      13.24\n",
            "9      13.86\n",
            "10     14.10\n",
            "11     14.12\n",
            "       ...  \n",
            "173    13.71\n",
            "174    13.40\n",
            "175    13.27\n",
            "176    13.17\n",
            "177    14.13\n",
            "Name: alcohol, Length: 171, dtype: float64\n"
          ]
        }
      ],
      "source": [
        "print(wine['alcohol'].dropna())\n"
      ]
    },
    {
      "cell_type": "code",
      "execution_count": null,
      "metadata": {
        "collapsed": true,
        "pycharm": {
          "name": "#%%\n"
        },
        "id": "vPHCFf-U9fFK"
      },
      "outputs": [],
      "source": []
    },
    {
      "cell_type": "markdown",
      "metadata": {
        "pycharm": {
          "name": "#%% md\n"
        },
        "id": "_ilaIdz-9fFK"
      },
      "source": [
        "### Step 15.  Reset the index, so it starts with 0 again"
      ]
    },
    {
      "cell_type": "code",
      "execution_count": 18,
      "metadata": {
        "pycharm": {
          "name": "#%%\n"
        },
        "id": "oYUtPphP9fFK",
        "outputId": "53102774-7e53-4da4-f6ff-dfd6f2522199",
        "colab": {
          "base_uri": "https://localhost:8080/"
        }
      },
      "outputs": [
        {
          "output_type": "stream",
          "name": "stdout",
          "text": [
            "   alcohol  malic_acid  alcalinity_of_ash  magnesium  flavanoids  \\\n",
            "0    10.00        1.71               15.6      127.0        3.06   \n",
            "1    13.24        2.59               21.0      118.0        2.69   \n",
            "2    13.86        1.35               16.0       98.0        3.15   \n",
            "3    14.10        2.16               18.0      105.0        3.32   \n",
            "4    14.12        1.48               16.8       95.0        2.43   \n",
            "\n",
            "   proanthocyanins   hue  \n",
            "0             2.29  1.04  \n",
            "1             1.82  1.04  \n",
            "2             1.85  1.01  \n",
            "3             2.38  1.25  \n",
            "4             1.57  1.17  \n"
          ]
        }
      ],
      "source": [
        "wine.reset_index(drop=True, inplace=True)\n",
        "\n",
        "\n",
        "print(wine.head())\n"
      ]
    },
    {
      "cell_type": "markdown",
      "metadata": {
        "pycharm": {
          "name": "#%% md\n"
        },
        "id": "sgji3to09fFK"
      },
      "source": [
        "### BONUS: Create your own question and answer it."
      ]
    },
    {
      "cell_type": "code",
      "execution_count": null,
      "metadata": {
        "collapsed": true,
        "pycharm": {
          "name": "#%%\n"
        },
        "id": "P8cC4_3v9fFK"
      },
      "outputs": [],
      "source": []
    }
  ],
  "metadata": {
    "kernelspec": {
      "display_name": "Python [default]",
      "language": "python",
      "name": "python2"
    },
    "language_info": {
      "codemirror_mode": {
        "name": "ipython",
        "version": 2
      },
      "file_extension": ".py",
      "mimetype": "text/x-python",
      "name": "python",
      "nbconvert_exporter": "python",
      "pygments_lexer": "ipython2",
      "version": "2.7.12"
    },
    "colab": {
      "provenance": []
    }
  },
  "nbformat": 4,
  "nbformat_minor": 0
}